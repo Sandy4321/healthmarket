{
 "cells": [
  {
   "cell_type": "markdown",
   "metadata": {},
   "source": [
    "# Health Insurance Marketplace Dataset with Pandas"
   ]
  },
  {
   "cell_type": "markdown",
   "metadata": {},
   "source": [
    "Analysis of the health insurance marketplace dataset from the U.S. Department of Health and Human Services, which was uploaded to [Kaggle on Jan 20, 2016.](https://www.kaggle.com/hhsgov/health-insurance-marketplace)\n",
    "\n",
    "The dataset consists of health insurance and dental plans offered through healthcare.gov between 2014 and 2016. It encompasses rates for smokers and non-smokers, separately listed for each age group, benefits included in the plans, states in which the plans were offered, and other information. The dataset does not contain any information on actual purchases.\n",
    "\n",
    "This notebook shows my first exploration of the dataset, a thorough data cleaning, and an analysis of the plan rates with respect to smokers and non-smokers, age groups and U.S. states."
   ]
  },
  {
   "cell_type": "code",
   "execution_count": 1,
   "metadata": {
    "collapsed": false
   },
   "outputs": [],
   "source": [
    "import pandas as pd\n",
    "import seaborn as sns\n",
    "import numpy as np\n",
    "import matplotlib.pyplot as plt\n",
    "%matplotlib inline"
   ]
  },
  {
   "cell_type": "markdown",
   "metadata": {},
   "source": [
    "Some options for Pandas and Seaborn:"
   ]
  },
  {
   "cell_type": "code",
   "execution_count": 2,
   "metadata": {
    "collapsed": false
   },
   "outputs": [],
   "source": [
    "# Always display all the columns\n",
    "pd.set_option('display.width', 5000) \n",
    "pd.set_option('display.max_columns', 200) \n",
    "\n",
    "# Plain Seaborn figures with matplotlib color codes mapped to the default seaborn palette \n",
    "sns.set(style=\"white\", color_codes=True)"
   ]
  },
  {
   "cell_type": "markdown",
   "metadata": {},
   "source": [
    "Import the CSV file containing the health dataset as a Pandas dataframe"
   ]
  },
  {
   "cell_type": "code",
   "execution_count": 3,
   "metadata": {
    "collapsed": false
   },
   "outputs": [],
   "source": [
    "df = pd.read_csv(\"Rate.csv\")"
   ]
  },
  {
   "cell_type": "markdown",
   "metadata": {},
   "source": [
    "## Quick data exploration"
   ]
  },
  {
   "cell_type": "markdown",
   "metadata": {},
   "source": [
    "When looking at a dataset for the first time, you have basically no idea what to expect. Getting some basic parameters, like number of columns and rows, column headings, and the data format of the columns should be the first step. "
   ]
  },
  {
   "cell_type": "code",
   "execution_count": 4,
   "metadata": {
    "collapsed": false
   },
   "outputs": [
    {
     "data": {
      "text/plain": [
       "(12694445, 24)"
      ]
     },
     "execution_count": 4,
     "metadata": {},
     "output_type": "execute_result"
    }
   ],
   "source": [
    "df.shape"
   ]
  },
  {
   "cell_type": "code",
   "execution_count": 5,
   "metadata": {
    "collapsed": false
   },
   "outputs": [
    {
     "data": {
      "text/plain": [
       "Index(['BusinessYear', 'StateCode', 'IssuerId', 'SourceName', 'VersionNum', 'ImportDate', 'IssuerId2', 'FederalTIN', 'RateEffectiveDate', 'RateExpirationDate', 'PlanId', 'RatingAreaId', 'Tobacco', 'Age', 'IndividualRate', 'IndividualTobaccoRate', 'Couple', 'PrimarySubscriberAndOneDependent', 'PrimarySubscriberAndTwoDependents', 'PrimarySubscriberAndThreeOrMoreDependents', 'CoupleAndOneDependent', 'CoupleAndTwoDependents', 'CoupleAndThreeOrMoreDependents', 'RowNumber'], dtype='object')"
      ]
     },
     "execution_count": 5,
     "metadata": {},
     "output_type": "execute_result"
    }
   ],
   "source": [
    "df.columns"
   ]
  },
  {
   "cell_type": "code",
   "execution_count": 6,
   "metadata": {
    "collapsed": false,
    "scrolled": true
   },
   "outputs": [
    {
     "data": {
      "text/plain": [
       "BusinessYear                                   int64\n",
       "StateCode                                     object\n",
       "IssuerId                                       int64\n",
       "SourceName                                    object\n",
       "VersionNum                                     int64\n",
       "ImportDate                                    object\n",
       "IssuerId2                                      int64\n",
       "FederalTIN                                    object\n",
       "RateEffectiveDate                             object\n",
       "RateExpirationDate                            object\n",
       "PlanId                                        object\n",
       "RatingAreaId                                  object\n",
       "Tobacco                                       object\n",
       "Age                                           object\n",
       "IndividualRate                               float64\n",
       "IndividualTobaccoRate                        float64\n",
       "Couple                                       float64\n",
       "PrimarySubscriberAndOneDependent             float64\n",
       "PrimarySubscriberAndTwoDependents            float64\n",
       "PrimarySubscriberAndThreeOrMoreDependents    float64\n",
       "CoupleAndOneDependent                        float64\n",
       "CoupleAndTwoDependents                       float64\n",
       "CoupleAndThreeOrMoreDependents               float64\n",
       "RowNumber                                      int64\n",
       "dtype: object"
      ]
     },
     "execution_count": 6,
     "metadata": {},
     "output_type": "execute_result"
    }
   ],
   "source": [
    "df.dtypes"
   ]
  },
  {
   "cell_type": "markdown",
   "metadata": {},
   "source": [
    "We should now look at the data itself. With head() we can print the first few lines in the dataframe."
   ]
  },
  {
   "cell_type": "code",
   "execution_count": 7,
   "metadata": {
    "collapsed": false,
    "scrolled": true
   },
   "outputs": [
    {
     "data": {
      "text/html": [
       "<div>\n",
       "<table border=\"1\" class=\"dataframe\">\n",
       "  <thead>\n",
       "    <tr style=\"text-align: right;\">\n",
       "      <th></th>\n",
       "      <th>BusinessYear</th>\n",
       "      <th>StateCode</th>\n",
       "      <th>IssuerId</th>\n",
       "      <th>SourceName</th>\n",
       "      <th>VersionNum</th>\n",
       "      <th>ImportDate</th>\n",
       "      <th>IssuerId2</th>\n",
       "      <th>FederalTIN</th>\n",
       "      <th>RateEffectiveDate</th>\n",
       "      <th>RateExpirationDate</th>\n",
       "      <th>PlanId</th>\n",
       "      <th>RatingAreaId</th>\n",
       "      <th>Tobacco</th>\n",
       "      <th>Age</th>\n",
       "      <th>IndividualRate</th>\n",
       "      <th>IndividualTobaccoRate</th>\n",
       "      <th>Couple</th>\n",
       "      <th>PrimarySubscriberAndOneDependent</th>\n",
       "      <th>PrimarySubscriberAndTwoDependents</th>\n",
       "      <th>PrimarySubscriberAndThreeOrMoreDependents</th>\n",
       "      <th>CoupleAndOneDependent</th>\n",
       "      <th>CoupleAndTwoDependents</th>\n",
       "      <th>CoupleAndThreeOrMoreDependents</th>\n",
       "      <th>RowNumber</th>\n",
       "    </tr>\n",
       "  </thead>\n",
       "  <tbody>\n",
       "    <tr>\n",
       "      <th>0</th>\n",
       "      <td>2014</td>\n",
       "      <td>AK</td>\n",
       "      <td>21989</td>\n",
       "      <td>HIOS</td>\n",
       "      <td>6</td>\n",
       "      <td>2014-03-19 07:06:49</td>\n",
       "      <td>21989</td>\n",
       "      <td>93-0438772</td>\n",
       "      <td>2014-01-01</td>\n",
       "      <td>2014-12-31</td>\n",
       "      <td>21989AK0010001</td>\n",
       "      <td>Rating Area 1</td>\n",
       "      <td>No Preference</td>\n",
       "      <td>0-20</td>\n",
       "      <td>29.00</td>\n",
       "      <td>NaN</td>\n",
       "      <td>NaN</td>\n",
       "      <td>NaN</td>\n",
       "      <td>NaN</td>\n",
       "      <td>NaN</td>\n",
       "      <td>NaN</td>\n",
       "      <td>NaN</td>\n",
       "      <td>NaN</td>\n",
       "      <td>14</td>\n",
       "    </tr>\n",
       "    <tr>\n",
       "      <th>1</th>\n",
       "      <td>2014</td>\n",
       "      <td>AK</td>\n",
       "      <td>21989</td>\n",
       "      <td>HIOS</td>\n",
       "      <td>6</td>\n",
       "      <td>2014-03-19 07:06:49</td>\n",
       "      <td>21989</td>\n",
       "      <td>93-0438772</td>\n",
       "      <td>2014-01-01</td>\n",
       "      <td>2014-12-31</td>\n",
       "      <td>21989AK0020001</td>\n",
       "      <td>Rating Area 1</td>\n",
       "      <td>No Preference</td>\n",
       "      <td>Family Option</td>\n",
       "      <td>36.95</td>\n",
       "      <td>NaN</td>\n",
       "      <td>73.9</td>\n",
       "      <td>107.61</td>\n",
       "      <td>107.61</td>\n",
       "      <td>107.61</td>\n",
       "      <td>144.56</td>\n",
       "      <td>144.56</td>\n",
       "      <td>144.56</td>\n",
       "      <td>14</td>\n",
       "    </tr>\n",
       "    <tr>\n",
       "      <th>2</th>\n",
       "      <td>2014</td>\n",
       "      <td>AK</td>\n",
       "      <td>21989</td>\n",
       "      <td>HIOS</td>\n",
       "      <td>6</td>\n",
       "      <td>2014-03-19 07:06:49</td>\n",
       "      <td>21989</td>\n",
       "      <td>93-0438772</td>\n",
       "      <td>2014-01-01</td>\n",
       "      <td>2014-12-31</td>\n",
       "      <td>21989AK0020001</td>\n",
       "      <td>Rating Area 2</td>\n",
       "      <td>No Preference</td>\n",
       "      <td>Family Option</td>\n",
       "      <td>36.95</td>\n",
       "      <td>NaN</td>\n",
       "      <td>73.9</td>\n",
       "      <td>107.61</td>\n",
       "      <td>107.61</td>\n",
       "      <td>107.61</td>\n",
       "      <td>144.56</td>\n",
       "      <td>144.56</td>\n",
       "      <td>144.56</td>\n",
       "      <td>15</td>\n",
       "    </tr>\n",
       "    <tr>\n",
       "      <th>3</th>\n",
       "      <td>2014</td>\n",
       "      <td>AK</td>\n",
       "      <td>21989</td>\n",
       "      <td>HIOS</td>\n",
       "      <td>6</td>\n",
       "      <td>2014-03-19 07:06:49</td>\n",
       "      <td>21989</td>\n",
       "      <td>93-0438772</td>\n",
       "      <td>2014-01-01</td>\n",
       "      <td>2014-12-31</td>\n",
       "      <td>21989AK0010001</td>\n",
       "      <td>Rating Area 1</td>\n",
       "      <td>No Preference</td>\n",
       "      <td>21</td>\n",
       "      <td>32.00</td>\n",
       "      <td>NaN</td>\n",
       "      <td>NaN</td>\n",
       "      <td>NaN</td>\n",
       "      <td>NaN</td>\n",
       "      <td>NaN</td>\n",
       "      <td>NaN</td>\n",
       "      <td>NaN</td>\n",
       "      <td>NaN</td>\n",
       "      <td>15</td>\n",
       "    </tr>\n",
       "    <tr>\n",
       "      <th>4</th>\n",
       "      <td>2014</td>\n",
       "      <td>AK</td>\n",
       "      <td>21989</td>\n",
       "      <td>HIOS</td>\n",
       "      <td>6</td>\n",
       "      <td>2014-03-19 07:06:49</td>\n",
       "      <td>21989</td>\n",
       "      <td>93-0438772</td>\n",
       "      <td>2014-01-01</td>\n",
       "      <td>2014-12-31</td>\n",
       "      <td>21989AK0010001</td>\n",
       "      <td>Rating Area 1</td>\n",
       "      <td>No Preference</td>\n",
       "      <td>22</td>\n",
       "      <td>32.00</td>\n",
       "      <td>NaN</td>\n",
       "      <td>NaN</td>\n",
       "      <td>NaN</td>\n",
       "      <td>NaN</td>\n",
       "      <td>NaN</td>\n",
       "      <td>NaN</td>\n",
       "      <td>NaN</td>\n",
       "      <td>NaN</td>\n",
       "      <td>16</td>\n",
       "    </tr>\n",
       "  </tbody>\n",
       "</table>\n",
       "</div>"
      ],
      "text/plain": [
       "   BusinessYear StateCode  IssuerId SourceName  VersionNum           ImportDate  IssuerId2  FederalTIN RateEffectiveDate RateExpirationDate          PlanId   RatingAreaId        Tobacco            Age  IndividualRate  IndividualTobaccoRate  Couple  PrimarySubscriberAndOneDependent  PrimarySubscriberAndTwoDependents  PrimarySubscriberAndThreeOrMoreDependents  CoupleAndOneDependent  CoupleAndTwoDependents  CoupleAndThreeOrMoreDependents  RowNumber\n",
       "0          2014        AK     21989       HIOS           6  2014-03-19 07:06:49      21989  93-0438772        2014-01-01         2014-12-31  21989AK0010001  Rating Area 1  No Preference           0-20           29.00                    NaN     NaN                               NaN                                NaN                                        NaN                    NaN                     NaN                             NaN         14\n",
       "1          2014        AK     21989       HIOS           6  2014-03-19 07:06:49      21989  93-0438772        2014-01-01         2014-12-31  21989AK0020001  Rating Area 1  No Preference  Family Option           36.95                    NaN    73.9                            107.61                             107.61                                     107.61                 144.56                  144.56                          144.56         14\n",
       "2          2014        AK     21989       HIOS           6  2014-03-19 07:06:49      21989  93-0438772        2014-01-01         2014-12-31  21989AK0020001  Rating Area 2  No Preference  Family Option           36.95                    NaN    73.9                            107.61                             107.61                                     107.61                 144.56                  144.56                          144.56         15\n",
       "3          2014        AK     21989       HIOS           6  2014-03-19 07:06:49      21989  93-0438772        2014-01-01         2014-12-31  21989AK0010001  Rating Area 1  No Preference             21           32.00                    NaN     NaN                               NaN                                NaN                                        NaN                    NaN                     NaN                             NaN         15\n",
       "4          2014        AK     21989       HIOS           6  2014-03-19 07:06:49      21989  93-0438772        2014-01-01         2014-12-31  21989AK0010001  Rating Area 1  No Preference             22           32.00                    NaN     NaN                               NaN                                NaN                                        NaN                    NaN                     NaN                             NaN         16"
      ]
     },
     "execution_count": 7,
     "metadata": {},
     "output_type": "execute_result"
    }
   ],
   "source": [
    "df.head()"
   ]
  },
  {
   "cell_type": "markdown",
   "metadata": {},
   "source": [
    "Now we know what the dataframe roughly looks like. To get an idea what to expect across all the 12 million rows, we can let Pandas summarize the columns containing numerical values: "
   ]
  },
  {
   "cell_type": "code",
   "execution_count": 8,
   "metadata": {
    "collapsed": false
   },
   "outputs": [
    {
     "data": {
      "text/html": [
       "<div>\n",
       "<table border=\"1\" class=\"dataframe\">\n",
       "  <thead>\n",
       "    <tr style=\"text-align: right;\">\n",
       "      <th></th>\n",
       "      <th>BusinessYear</th>\n",
       "      <th>IssuerId</th>\n",
       "      <th>VersionNum</th>\n",
       "      <th>IssuerId2</th>\n",
       "      <th>IndividualRate</th>\n",
       "      <th>IndividualTobaccoRate</th>\n",
       "      <th>Couple</th>\n",
       "      <th>PrimarySubscriberAndOneDependent</th>\n",
       "      <th>PrimarySubscriberAndTwoDependents</th>\n",
       "      <th>PrimarySubscriberAndThreeOrMoreDependents</th>\n",
       "      <th>CoupleAndOneDependent</th>\n",
       "      <th>CoupleAndTwoDependents</th>\n",
       "      <th>CoupleAndThreeOrMoreDependents</th>\n",
       "      <th>RowNumber</th>\n",
       "    </tr>\n",
       "  </thead>\n",
       "  <tbody>\n",
       "    <tr>\n",
       "      <th>count</th>\n",
       "      <td>12694445.000000</td>\n",
       "      <td>12694445.000000</td>\n",
       "      <td>12694445.000000</td>\n",
       "      <td>12694445.000000</td>\n",
       "      <td>12694445.000000</td>\n",
       "      <td>4932349.000000</td>\n",
       "      <td>40941.000000</td>\n",
       "      <td>40941.000000</td>\n",
       "      <td>40941.000000</td>\n",
       "      <td>40941.000000</td>\n",
       "      <td>40941.000000</td>\n",
       "      <td>40941.000000</td>\n",
       "      <td>40941.000000</td>\n",
       "      <td>12694445.000000</td>\n",
       "    </tr>\n",
       "    <tr>\n",
       "      <th>mean</th>\n",
       "      <td>2015.033525</td>\n",
       "      <td>52485.924252</td>\n",
       "      <td>6.865558</td>\n",
       "      <td>52485.924252</td>\n",
       "      <td>4098.026459</td>\n",
       "      <td>543.691079</td>\n",
       "      <td>48.115714</td>\n",
       "      <td>49.835901</td>\n",
       "      <td>70.660012</td>\n",
       "      <td>89.405494</td>\n",
       "      <td>72.782793</td>\n",
       "      <td>89.012859</td>\n",
       "      <td>107.807774</td>\n",
       "      <td>6348.572395</td>\n",
       "    </tr>\n",
       "    <tr>\n",
       "      <th>std</th>\n",
       "      <td>0.794052</td>\n",
       "      <td>26412.626692</td>\n",
       "      <td>3.857180</td>\n",
       "      <td>26412.626692</td>\n",
       "      <td>61222.712586</td>\n",
       "      <td>294.591582</td>\n",
       "      <td>30.422891</td>\n",
       "      <td>29.691985</td>\n",
       "      <td>44.620130</td>\n",
       "      <td>57.699279</td>\n",
       "      <td>48.232537</td>\n",
       "      <td>59.139094</td>\n",
       "      <td>73.241174</td>\n",
       "      <td>9011.434979</td>\n",
       "    </tr>\n",
       "    <tr>\n",
       "      <th>min</th>\n",
       "      <td>2014.000000</td>\n",
       "      <td>10046.000000</td>\n",
       "      <td>1.000000</td>\n",
       "      <td>10046.000000</td>\n",
       "      <td>0.000000</td>\n",
       "      <td>41.730000</td>\n",
       "      <td>0.000000</td>\n",
       "      <td>0.000000</td>\n",
       "      <td>0.000000</td>\n",
       "      <td>0.000000</td>\n",
       "      <td>0.000000</td>\n",
       "      <td>0.000000</td>\n",
       "      <td>0.000000</td>\n",
       "      <td>14.000000</td>\n",
       "    </tr>\n",
       "    <tr>\n",
       "      <th>25%</th>\n",
       "      <td>2014.000000</td>\n",
       "      <td>30219.000000</td>\n",
       "      <td>4.000000</td>\n",
       "      <td>30219.000000</td>\n",
       "      <td>29.330000</td>\n",
       "      <td>339.120000</td>\n",
       "      <td>26.710000</td>\n",
       "      <td>27.390000</td>\n",
       "      <td>27.910000</td>\n",
       "      <td>29.410000</td>\n",
       "      <td>28.260000</td>\n",
       "      <td>28.260000</td>\n",
       "      <td>29.490000</td>\n",
       "      <td>873.000000</td>\n",
       "    </tr>\n",
       "    <tr>\n",
       "      <th>50%</th>\n",
       "      <td>2015.000000</td>\n",
       "      <td>49532.000000</td>\n",
       "      <td>6.000000</td>\n",
       "      <td>49532.000000</td>\n",
       "      <td>291.600000</td>\n",
       "      <td>463.290000</td>\n",
       "      <td>49.770000</td>\n",
       "      <td>51.240000</td>\n",
       "      <td>74.680000</td>\n",
       "      <td>98.800000</td>\n",
       "      <td>77.250000</td>\n",
       "      <td>97.910000</td>\n",
       "      <td>116.710000</td>\n",
       "      <td>2728.000000</td>\n",
       "    </tr>\n",
       "    <tr>\n",
       "      <th>75%</th>\n",
       "      <td>2016.000000</td>\n",
       "      <td>76526.000000</td>\n",
       "      <td>9.000000</td>\n",
       "      <td>76526.000000</td>\n",
       "      <td>478.980000</td>\n",
       "      <td>684.390000</td>\n",
       "      <td>69.900000</td>\n",
       "      <td>72.230000</td>\n",
       "      <td>107.670000</td>\n",
       "      <td>137.080000</td>\n",
       "      <td>110.430000</td>\n",
       "      <td>136.330000</td>\n",
       "      <td>167.960000</td>\n",
       "      <td>7577.000000</td>\n",
       "    </tr>\n",
       "    <tr>\n",
       "      <th>max</th>\n",
       "      <td>2016.000000</td>\n",
       "      <td>99969.000000</td>\n",
       "      <td>24.000000</td>\n",
       "      <td>99969.000000</td>\n",
       "      <td>999999.000000</td>\n",
       "      <td>6604.610000</td>\n",
       "      <td>182.400000</td>\n",
       "      <td>169.650000</td>\n",
       "      <td>251.740000</td>\n",
       "      <td>357.940000</td>\n",
       "      <td>260.850000</td>\n",
       "      <td>339.310000</td>\n",
       "      <td>449.140000</td>\n",
       "      <td>63493.000000</td>\n",
       "    </tr>\n",
       "  </tbody>\n",
       "</table>\n",
       "</div>"
      ],
      "text/plain": [
       "          BusinessYear         IssuerId       VersionNum        IssuerId2   IndividualRate  IndividualTobaccoRate        Couple  PrimarySubscriberAndOneDependent  PrimarySubscriberAndTwoDependents  PrimarySubscriberAndThreeOrMoreDependents  CoupleAndOneDependent  CoupleAndTwoDependents  CoupleAndThreeOrMoreDependents        RowNumber\n",
       "count  12694445.000000  12694445.000000  12694445.000000  12694445.000000  12694445.000000         4932349.000000  40941.000000                      40941.000000                       40941.000000                               40941.000000           40941.000000            40941.000000                    40941.000000  12694445.000000\n",
       "mean       2015.033525     52485.924252         6.865558     52485.924252      4098.026459             543.691079     48.115714                         49.835901                          70.660012                                  89.405494              72.782793               89.012859                      107.807774      6348.572395\n",
       "std           0.794052     26412.626692         3.857180     26412.626692     61222.712586             294.591582     30.422891                         29.691985                          44.620130                                  57.699279              48.232537               59.139094                       73.241174      9011.434979\n",
       "min        2014.000000     10046.000000         1.000000     10046.000000         0.000000              41.730000      0.000000                          0.000000                           0.000000                                   0.000000               0.000000                0.000000                        0.000000        14.000000\n",
       "25%        2014.000000     30219.000000         4.000000     30219.000000        29.330000             339.120000     26.710000                         27.390000                          27.910000                                  29.410000              28.260000               28.260000                       29.490000       873.000000\n",
       "50%        2015.000000     49532.000000         6.000000     49532.000000       291.600000             463.290000     49.770000                         51.240000                          74.680000                                  98.800000              77.250000               97.910000                      116.710000      2728.000000\n",
       "75%        2016.000000     76526.000000         9.000000     76526.000000       478.980000             684.390000     69.900000                         72.230000                         107.670000                                 137.080000             110.430000              136.330000                      167.960000      7577.000000\n",
       "max        2016.000000     99969.000000        24.000000     99969.000000    999999.000000            6604.610000    182.400000                        169.650000                         251.740000                                 357.940000             260.850000              339.310000                      449.140000     63493.000000"
      ]
     },
     "execution_count": 8,
     "metadata": {},
     "output_type": "execute_result"
    }
   ],
   "source": [
    "df.describe()"
   ]
  },
  {
   "cell_type": "markdown",
   "metadata": {},
   "source": [
    "Based on this first look at the data, I identified a few columns containing interesting information. These are: BusinessYear, StateCode, Age, PlanId, IndividualRate, IndividualTobaccoRate and all the family/couple rates. \n",
    "\n",
    "Let's start having a more detailed look at the data by breaking down the dataset into the individual U.S. states:"
   ]
  },
  {
   "cell_type": "code",
   "execution_count": 9,
   "metadata": {
    "collapsed": false,
    "scrolled": true
   },
   "outputs": [
    {
     "data": {
      "text/plain": [
       "FL    1702472\n",
       "SC    1563770\n",
       "MI    1023190\n",
       "WI    1013278\n",
       "OH     884530\n",
       "TX     859714\n",
       "IN     677393\n",
       "PA     475022\n",
       "GA     472012\n",
       "IL     432827\n",
       "NC     365684\n",
       "AZ     350032\n",
       "VA     325316\n",
       "AL     196896\n",
       "OK     186472\n",
       "NJ     173175\n",
       "LA     172060\n",
       "IA     170610\n",
       "WV     162322\n",
       "TN     155994\n",
       "MO     148948\n",
       "MT     148632\n",
       "KS     113504\n",
       "ND     104408\n",
       "UT      85398\n",
       "AR      84790\n",
       "AK      84412\n",
       "NE      80902\n",
       "SD      76000\n",
       "ME      72752\n",
       "ID      69442\n",
       "OR      68402\n",
       "WY      46134\n",
       "MS      42482\n",
       "NM      37832\n",
       "NV      32016\n",
       "NH      18176\n",
       "DE      15928\n",
       "HI       1518\n",
       "Name: StateCode, dtype: int64"
      ]
     },
     "execution_count": 9,
     "metadata": {},
     "output_type": "execute_result"
    }
   ],
   "source": [
    "states = df[\"StateCode\"].value_counts()\n",
    "plans = df[\"PlanId\"].value_counts()\n",
    "states"
   ]
  },
  {
   "cell_type": "code",
   "execution_count": 10,
   "metadata": {
    "collapsed": false
   },
   "outputs": [
    {
     "data": {
      "text/plain": [
       "(39, 16808)"
      ]
     },
     "execution_count": 10,
     "metadata": {},
     "output_type": "execute_result"
    }
   ],
   "source": [
    "no_of_states = len(states)\n",
    "no_of_plans = len(plans)\n",
    "no_of_states, no_of_plans"
   ]
  },
  {
   "cell_type": "markdown",
   "metadata": {},
   "source": [
    "We have data from 39 states, covering 16808 different health insurance plans. \n",
    "\n",
    "**First finding:** not all states make use of the federal network healthcare.gov. This may be due to the fact that several states have their own health insurance marketplace (like NY, for example). \n",
    "\n",
    "**Second finding:** some states offer significantly more plans than others. This may be due to the different sizes of the states, but also due to the fact that not all states have offered plans through healthcare.gov in all of the three years."
   ]
  },
  {
   "cell_type": "markdown",
   "metadata": {},
   "source": [
    "## Data cleaning"
   ]
  },
  {
   "cell_type": "markdown",
   "metadata": {},
   "source": [
    "After this first look, we should clean the dataset from typos, non-sensical unique values, NaN's, etc, before doing any further analysis. \n",
    "\n",
    "First we can look for unique values in the columns that contain categories to see if there are any strange values:"
   ]
  },
  {
   "cell_type": "code",
   "execution_count": 11,
   "metadata": {
    "collapsed": false,
    "scrolled": true
   },
   "outputs": [
    {
     "data": {
      "text/plain": [
       "array(['0-20', 'Family Option', '21', '22', '23', '24', '25', '26', '27',\n",
       "       '28', '29', '30', '31', '32', '33', '34', '35', '36', '37', '38',\n",
       "       '39', '40', '41', '42', '43', '44', '45', '46', '47', '48', '49',\n",
       "       '50', '51', '52', '53', '54', '55', '56', '57', '58', '59', '60',\n",
       "       '61', '62', '63', '64', '65 and over'], dtype=object)"
      ]
     },
     "execution_count": 11,
     "metadata": {},
     "output_type": "execute_result"
    }
   ],
   "source": [
    "df['Age'].unique()  #do this for columns containing categories"
   ]
  },
  {
   "cell_type": "markdown",
   "metadata": {},
   "source": [
    "Then we can use the output from .describe(), to get find outliers in the columns containing numerical values. If one of the columns has a very wide range, we should plot a histogram of the values:"
   ]
  },
  {
   "cell_type": "code",
   "execution_count": 12,
   "metadata": {
    "collapsed": false,
    "scrolled": true
   },
   "outputs": [
    {
     "data": {
      "text/plain": [
       "<matplotlib.axes._subplots.AxesSubplot at 0x11f4a1358>"
      ]
     },
     "execution_count": 12,
     "metadata": {},
     "output_type": "execute_result"
    },
    {
     "data": {
      "image/png": "[encoded data removed]",
      "text/plain": [
       "<matplotlib.figure.Figure at 0x196ebeba8>"
      ]
     },
     "metadata": {},
     "output_type": "display_data"
    }
   ],
   "source": [
    "df['IndividualRate'].plot.hist()"
   ]
  },
  {
   "cell_type": "markdown",
   "metadata": {},
   "source": [
    "There is obviously a problem with the individual rates. Let's try to find the outlieres by sorting the dataframe with respect to this column. We can find outliers at both ends of this sorted dataframe:"
   ]
  },
  {
   "cell_type": "code",
   "execution_count": 13,
   "metadata": {
    "collapsed": false
   },
   "outputs": [
    {
     "data": {
      "text/html": [
       "<div>\n",
       "<table border=\"1\" class=\"dataframe\">\n",
       "  <thead>\n",
       "    <tr style=\"text-align: right;\">\n",
       "      <th></th>\n",
       "      <th>BusinessYear</th>\n",
       "      <th>StateCode</th>\n",
       "      <th>IssuerId</th>\n",
       "      <th>SourceName</th>\n",
       "      <th>VersionNum</th>\n",
       "      <th>ImportDate</th>\n",
       "      <th>IssuerId2</th>\n",
       "      <th>FederalTIN</th>\n",
       "      <th>RateEffectiveDate</th>\n",
       "      <th>RateExpirationDate</th>\n",
       "      <th>PlanId</th>\n",
       "      <th>RatingAreaId</th>\n",
       "      <th>Tobacco</th>\n",
       "      <th>Age</th>\n",
       "      <th>IndividualRate</th>\n",
       "      <th>IndividualTobaccoRate</th>\n",
       "      <th>Couple</th>\n",
       "      <th>PrimarySubscriberAndOneDependent</th>\n",
       "      <th>PrimarySubscriberAndTwoDependents</th>\n",
       "      <th>PrimarySubscriberAndThreeOrMoreDependents</th>\n",
       "      <th>CoupleAndOneDependent</th>\n",
       "      <th>CoupleAndTwoDependents</th>\n",
       "      <th>CoupleAndThreeOrMoreDependents</th>\n",
       "      <th>RowNumber</th>\n",
       "    </tr>\n",
       "  </thead>\n",
       "  <tbody>\n",
       "    <tr>\n",
       "      <th>9231208</th>\n",
       "      <td>2016</td>\n",
       "      <td>GA</td>\n",
       "      <td>78196</td>\n",
       "      <td>HIOS</td>\n",
       "      <td>2</td>\n",
       "      <td>2015-07-07 02:38:10</td>\n",
       "      <td>78196</td>\n",
       "      <td>93-0242990</td>\n",
       "      <td>2016-01-01</td>\n",
       "      <td>2016-12-31</td>\n",
       "      <td>78196GA0030002</td>\n",
       "      <td>Rating Area 13</td>\n",
       "      <td>No Preference</td>\n",
       "      <td>49</td>\n",
       "      <td>0</td>\n",
       "      <td>NaN</td>\n",
       "      <td>NaN</td>\n",
       "      <td>NaN</td>\n",
       "      <td>NaN</td>\n",
       "      <td>NaN</td>\n",
       "      <td>NaN</td>\n",
       "      <td>NaN</td>\n",
       "      <td>NaN</td>\n",
       "      <td>1331</td>\n",
       "    </tr>\n",
       "    <tr>\n",
       "      <th>6102571</th>\n",
       "      <td>2015</td>\n",
       "      <td>SC</td>\n",
       "      <td>89281</td>\n",
       "      <td>HIOS</td>\n",
       "      <td>5</td>\n",
       "      <td>2014-10-02 12:25:15</td>\n",
       "      <td>89281</td>\n",
       "      <td>95-6042390</td>\n",
       "      <td>2015-01-01</td>\n",
       "      <td>2015-12-31</td>\n",
       "      <td>89281SC0020002</td>\n",
       "      <td>Rating Area 43</td>\n",
       "      <td>No Preference</td>\n",
       "      <td>30</td>\n",
       "      <td>0</td>\n",
       "      <td>NaN</td>\n",
       "      <td>NaN</td>\n",
       "      <td>NaN</td>\n",
       "      <td>NaN</td>\n",
       "      <td>NaN</td>\n",
       "      <td>NaN</td>\n",
       "      <td>NaN</td>\n",
       "      <td>NaN</td>\n",
       "      <td>1956</td>\n",
       "    </tr>\n",
       "    <tr>\n",
       "      <th>6102574</th>\n",
       "      <td>2015</td>\n",
       "      <td>SC</td>\n",
       "      <td>89281</td>\n",
       "      <td>HIOS</td>\n",
       "      <td>5</td>\n",
       "      <td>2014-10-02 12:25:15</td>\n",
       "      <td>89281</td>\n",
       "      <td>95-6042390</td>\n",
       "      <td>2015-01-01</td>\n",
       "      <td>2015-12-31</td>\n",
       "      <td>89281SC0010001</td>\n",
       "      <td>Rating Area 43</td>\n",
       "      <td>No Preference</td>\n",
       "      <td>30</td>\n",
       "      <td>0</td>\n",
       "      <td>NaN</td>\n",
       "      <td>NaN</td>\n",
       "      <td>NaN</td>\n",
       "      <td>NaN</td>\n",
       "      <td>NaN</td>\n",
       "      <td>NaN</td>\n",
       "      <td>NaN</td>\n",
       "      <td>NaN</td>\n",
       "      <td>1956</td>\n",
       "    </tr>\n",
       "    <tr>\n",
       "      <th>6102575</th>\n",
       "      <td>2015</td>\n",
       "      <td>SC</td>\n",
       "      <td>89281</td>\n",
       "      <td>HIOS</td>\n",
       "      <td>5</td>\n",
       "      <td>2014-10-02 12:25:15</td>\n",
       "      <td>89281</td>\n",
       "      <td>95-6042390</td>\n",
       "      <td>2015-01-01</td>\n",
       "      <td>2015-12-31</td>\n",
       "      <td>89281SC0010002</td>\n",
       "      <td>Rating Area 43</td>\n",
       "      <td>No Preference</td>\n",
       "      <td>30</td>\n",
       "      <td>0</td>\n",
       "      <td>NaN</td>\n",
       "      <td>NaN</td>\n",
       "      <td>NaN</td>\n",
       "      <td>NaN</td>\n",
       "      <td>NaN</td>\n",
       "      <td>NaN</td>\n",
       "      <td>NaN</td>\n",
       "      <td>NaN</td>\n",
       "      <td>1956</td>\n",
       "    </tr>\n",
       "    <tr>\n",
       "      <th>6102588</th>\n",
       "      <td>2015</td>\n",
       "      <td>SC</td>\n",
       "      <td>89281</td>\n",
       "      <td>HIOS</td>\n",
       "      <td>5</td>\n",
       "      <td>2014-10-02 12:25:15</td>\n",
       "      <td>89281</td>\n",
       "      <td>95-6042390</td>\n",
       "      <td>2015-01-01</td>\n",
       "      <td>2015-12-31</td>\n",
       "      <td>89281SC0010002</td>\n",
       "      <td>Rating Area 43</td>\n",
       "      <td>No Preference</td>\n",
       "      <td>31</td>\n",
       "      <td>0</td>\n",
       "      <td>NaN</td>\n",
       "      <td>NaN</td>\n",
       "      <td>NaN</td>\n",
       "      <td>NaN</td>\n",
       "      <td>NaN</td>\n",
       "      <td>NaN</td>\n",
       "      <td>NaN</td>\n",
       "      <td>NaN</td>\n",
       "      <td>1957</td>\n",
       "    </tr>\n",
       "    <tr>\n",
       "      <th>6102589</th>\n",
       "      <td>2015</td>\n",
       "      <td>SC</td>\n",
       "      <td>89281</td>\n",
       "      <td>HIOS</td>\n",
       "      <td>5</td>\n",
       "      <td>2014-10-02 12:25:15</td>\n",
       "      <td>89281</td>\n",
       "      <td>95-6042390</td>\n",
       "      <td>2015-01-01</td>\n",
       "      <td>2015-12-31</td>\n",
       "      <td>89281SC0010001</td>\n",
       "      <td>Rating Area 43</td>\n",
       "      <td>No Preference</td>\n",
       "      <td>31</td>\n",
       "      <td>0</td>\n",
       "      <td>NaN</td>\n",
       "      <td>NaN</td>\n",
       "      <td>NaN</td>\n",
       "      <td>NaN</td>\n",
       "      <td>NaN</td>\n",
       "      <td>NaN</td>\n",
       "      <td>NaN</td>\n",
       "      <td>NaN</td>\n",
       "      <td>1957</td>\n",
       "    </tr>\n",
       "    <tr>\n",
       "      <th>6102592</th>\n",
       "      <td>2015</td>\n",
       "      <td>SC</td>\n",
       "      <td>89281</td>\n",
       "      <td>HIOS</td>\n",
       "      <td>5</td>\n",
       "      <td>2014-10-02 12:25:15</td>\n",
       "      <td>89281</td>\n",
       "      <td>95-6042390</td>\n",
       "      <td>2015-01-01</td>\n",
       "      <td>2015-12-31</td>\n",
       "      <td>89281SC0020002</td>\n",
       "      <td>Rating Area 43</td>\n",
       "      <td>No Preference</td>\n",
       "      <td>31</td>\n",
       "      <td>0</td>\n",
       "      <td>NaN</td>\n",
       "      <td>NaN</td>\n",
       "      <td>NaN</td>\n",
       "      <td>NaN</td>\n",
       "      <td>NaN</td>\n",
       "      <td>NaN</td>\n",
       "      <td>NaN</td>\n",
       "      <td>NaN</td>\n",
       "      <td>1957</td>\n",
       "    </tr>\n",
       "    <tr>\n",
       "      <th>6102594</th>\n",
       "      <td>2015</td>\n",
       "      <td>SC</td>\n",
       "      <td>89281</td>\n",
       "      <td>HIOS</td>\n",
       "      <td>5</td>\n",
       "      <td>2014-10-02 12:25:15</td>\n",
       "      <td>89281</td>\n",
       "      <td>95-6042390</td>\n",
       "      <td>2015-01-01</td>\n",
       "      <td>2015-12-31</td>\n",
       "      <td>89281SC0020001</td>\n",
       "      <td>Rating Area 43</td>\n",
       "      <td>No Preference</td>\n",
       "      <td>31</td>\n",
       "      <td>0</td>\n",
       "      <td>NaN</td>\n",
       "      <td>NaN</td>\n",
       "      <td>NaN</td>\n",
       "      <td>NaN</td>\n",
       "      <td>NaN</td>\n",
       "      <td>NaN</td>\n",
       "      <td>NaN</td>\n",
       "      <td>NaN</td>\n",
       "      <td>1957</td>\n",
       "    </tr>\n",
       "    <tr>\n",
       "      <th>6102597</th>\n",
       "      <td>2015</td>\n",
       "      <td>SC</td>\n",
       "      <td>89281</td>\n",
       "      <td>HIOS</td>\n",
       "      <td>5</td>\n",
       "      <td>2014-10-02 12:25:15</td>\n",
       "      <td>89281</td>\n",
       "      <td>95-6042390</td>\n",
       "      <td>2015-01-01</td>\n",
       "      <td>2015-12-31</td>\n",
       "      <td>89281SC0020001</td>\n",
       "      <td>Rating Area 43</td>\n",
       "      <td>No Preference</td>\n",
       "      <td>32</td>\n",
       "      <td>0</td>\n",
       "      <td>NaN</td>\n",
       "      <td>NaN</td>\n",
       "      <td>NaN</td>\n",
       "      <td>NaN</td>\n",
       "      <td>NaN</td>\n",
       "      <td>NaN</td>\n",
       "      <td>NaN</td>\n",
       "      <td>NaN</td>\n",
       "      <td>1958</td>\n",
       "    </tr>\n",
       "    <tr>\n",
       "      <th>6102599</th>\n",
       "      <td>2015</td>\n",
       "      <td>SC</td>\n",
       "      <td>89281</td>\n",
       "      <td>HIOS</td>\n",
       "      <td>5</td>\n",
       "      <td>2014-10-02 12:25:15</td>\n",
       "      <td>89281</td>\n",
       "      <td>95-6042390</td>\n",
       "      <td>2015-01-01</td>\n",
       "      <td>2015-12-31</td>\n",
       "      <td>89281SC0020002</td>\n",
       "      <td>Rating Area 43</td>\n",
       "      <td>No Preference</td>\n",
       "      <td>32</td>\n",
       "      <td>0</td>\n",
       "      <td>NaN</td>\n",
       "      <td>NaN</td>\n",
       "      <td>NaN</td>\n",
       "      <td>NaN</td>\n",
       "      <td>NaN</td>\n",
       "      <td>NaN</td>\n",
       "      <td>NaN</td>\n",
       "      <td>NaN</td>\n",
       "      <td>1958</td>\n",
       "    </tr>\n",
       "    <tr>\n",
       "      <th>6102569</th>\n",
       "      <td>2015</td>\n",
       "      <td>SC</td>\n",
       "      <td>89281</td>\n",
       "      <td>HIOS</td>\n",
       "      <td>5</td>\n",
       "      <td>2014-10-02 12:25:15</td>\n",
       "      <td>89281</td>\n",
       "      <td>95-6042390</td>\n",
       "      <td>2015-01-01</td>\n",
       "      <td>2015-12-31</td>\n",
       "      <td>89281SC0020001</td>\n",
       "      <td>Rating Area 43</td>\n",
       "      <td>No Preference</td>\n",
       "      <td>30</td>\n",
       "      <td>0</td>\n",
       "      <td>NaN</td>\n",
       "      <td>NaN</td>\n",
       "      <td>NaN</td>\n",
       "      <td>NaN</td>\n",
       "      <td>NaN</td>\n",
       "      <td>NaN</td>\n",
       "      <td>NaN</td>\n",
       "      <td>NaN</td>\n",
       "      <td>1956</td>\n",
       "    </tr>\n",
       "    <tr>\n",
       "      <th>6102602</th>\n",
       "      <td>2015</td>\n",
       "      <td>SC</td>\n",
       "      <td>89281</td>\n",
       "      <td>HIOS</td>\n",
       "      <td>5</td>\n",
       "      <td>2014-10-02 12:25:15</td>\n",
       "      <td>89281</td>\n",
       "      <td>95-6042390</td>\n",
       "      <td>2015-01-01</td>\n",
       "      <td>2015-12-31</td>\n",
       "      <td>89281SC0010001</td>\n",
       "      <td>Rating Area 43</td>\n",
       "      <td>No Preference</td>\n",
       "      <td>32</td>\n",
       "      <td>0</td>\n",
       "      <td>NaN</td>\n",
       "      <td>NaN</td>\n",
       "      <td>NaN</td>\n",
       "      <td>NaN</td>\n",
       "      <td>NaN</td>\n",
       "      <td>NaN</td>\n",
       "      <td>NaN</td>\n",
       "      <td>NaN</td>\n",
       "      <td>1958</td>\n",
       "    </tr>\n",
       "    <tr>\n",
       "      <th>6102616</th>\n",
       "      <td>2015</td>\n",
       "      <td>SC</td>\n",
       "      <td>89281</td>\n",
       "      <td>HIOS</td>\n",
       "      <td>5</td>\n",
       "      <td>2014-10-02 12:25:15</td>\n",
       "      <td>89281</td>\n",
       "      <td>95-6042390</td>\n",
       "      <td>2015-01-01</td>\n",
       "      <td>2015-12-31</td>\n",
       "      <td>89281SC0010002</td>\n",
       "      <td>Rating Area 43</td>\n",
       "      <td>No Preference</td>\n",
       "      <td>33</td>\n",
       "      <td>0</td>\n",
       "      <td>NaN</td>\n",
       "      <td>NaN</td>\n",
       "      <td>NaN</td>\n",
       "      <td>NaN</td>\n",
       "      <td>NaN</td>\n",
       "      <td>NaN</td>\n",
       "      <td>NaN</td>\n",
       "      <td>NaN</td>\n",
       "      <td>1959</td>\n",
       "    </tr>\n",
       "    <tr>\n",
       "      <th>6102617</th>\n",
       "      <td>2015</td>\n",
       "      <td>SC</td>\n",
       "      <td>89281</td>\n",
       "      <td>HIOS</td>\n",
       "      <td>5</td>\n",
       "      <td>2014-10-02 12:25:15</td>\n",
       "      <td>89281</td>\n",
       "      <td>95-6042390</td>\n",
       "      <td>2015-01-01</td>\n",
       "      <td>2015-12-31</td>\n",
       "      <td>89281SC0010001</td>\n",
       "      <td>Rating Area 43</td>\n",
       "      <td>No Preference</td>\n",
       "      <td>33</td>\n",
       "      <td>0</td>\n",
       "      <td>NaN</td>\n",
       "      <td>NaN</td>\n",
       "      <td>NaN</td>\n",
       "      <td>NaN</td>\n",
       "      <td>NaN</td>\n",
       "      <td>NaN</td>\n",
       "      <td>NaN</td>\n",
       "      <td>NaN</td>\n",
       "      <td>1959</td>\n",
       "    </tr>\n",
       "    <tr>\n",
       "      <th>6102620</th>\n",
       "      <td>2015</td>\n",
       "      <td>SC</td>\n",
       "      <td>89281</td>\n",
       "      <td>HIOS</td>\n",
       "      <td>5</td>\n",
       "      <td>2014-10-02 12:25:15</td>\n",
       "      <td>89281</td>\n",
       "      <td>95-6042390</td>\n",
       "      <td>2015-01-01</td>\n",
       "      <td>2015-12-31</td>\n",
       "      <td>89281SC0020002</td>\n",
       "      <td>Rating Area 43</td>\n",
       "      <td>No Preference</td>\n",
       "      <td>33</td>\n",
       "      <td>0</td>\n",
       "      <td>NaN</td>\n",
       "      <td>NaN</td>\n",
       "      <td>NaN</td>\n",
       "      <td>NaN</td>\n",
       "      <td>NaN</td>\n",
       "      <td>NaN</td>\n",
       "      <td>NaN</td>\n",
       "      <td>NaN</td>\n",
       "      <td>1959</td>\n",
       "    </tr>\n",
       "    <tr>\n",
       "      <th>6102622</th>\n",
       "      <td>2015</td>\n",
       "      <td>SC</td>\n",
       "      <td>89281</td>\n",
       "      <td>HIOS</td>\n",
       "      <td>5</td>\n",
       "      <td>2014-10-02 12:25:15</td>\n",
       "      <td>89281</td>\n",
       "      <td>95-6042390</td>\n",
       "      <td>2015-01-01</td>\n",
       "      <td>2015-12-31</td>\n",
       "      <td>89281SC0020001</td>\n",
       "      <td>Rating Area 43</td>\n",
       "      <td>No Preference</td>\n",
       "      <td>33</td>\n",
       "      <td>0</td>\n",
       "      <td>NaN</td>\n",
       "      <td>NaN</td>\n",
       "      <td>NaN</td>\n",
       "      <td>NaN</td>\n",
       "      <td>NaN</td>\n",
       "      <td>NaN</td>\n",
       "      <td>NaN</td>\n",
       "      <td>NaN</td>\n",
       "      <td>1959</td>\n",
       "    </tr>\n",
       "    <tr>\n",
       "      <th>6102625</th>\n",
       "      <td>2015</td>\n",
       "      <td>SC</td>\n",
       "      <td>89281</td>\n",
       "      <td>HIOS</td>\n",
       "      <td>5</td>\n",
       "      <td>2014-10-02 12:25:15</td>\n",
       "      <td>89281</td>\n",
       "      <td>95-6042390</td>\n",
       "      <td>2015-01-01</td>\n",
       "      <td>2015-12-31</td>\n",
       "      <td>89281SC0020001</td>\n",
       "      <td>Rating Area 43</td>\n",
       "      <td>No Preference</td>\n",
       "      <td>34</td>\n",
       "      <td>0</td>\n",
       "      <td>NaN</td>\n",
       "      <td>NaN</td>\n",
       "      <td>NaN</td>\n",
       "      <td>NaN</td>\n",
       "      <td>NaN</td>\n",
       "      <td>NaN</td>\n",
       "      <td>NaN</td>\n",
       "      <td>NaN</td>\n",
       "      <td>1960</td>\n",
       "    </tr>\n",
       "    <tr>\n",
       "      <th>6102627</th>\n",
       "      <td>2015</td>\n",
       "      <td>SC</td>\n",
       "      <td>89281</td>\n",
       "      <td>HIOS</td>\n",
       "      <td>5</td>\n",
       "      <td>2014-10-02 12:25:15</td>\n",
       "      <td>89281</td>\n",
       "      <td>95-6042390</td>\n",
       "      <td>2015-01-01</td>\n",
       "      <td>2015-12-31</td>\n",
       "      <td>89281SC0020002</td>\n",
       "      <td>Rating Area 43</td>\n",
       "      <td>No Preference</td>\n",
       "      <td>34</td>\n",
       "      <td>0</td>\n",
       "      <td>NaN</td>\n",
       "      <td>NaN</td>\n",
       "      <td>NaN</td>\n",
       "      <td>NaN</td>\n",
       "      <td>NaN</td>\n",
       "      <td>NaN</td>\n",
       "      <td>NaN</td>\n",
       "      <td>NaN</td>\n",
       "      <td>1960</td>\n",
       "    </tr>\n",
       "    <tr>\n",
       "      <th>6102630</th>\n",
       "      <td>2015</td>\n",
       "      <td>SC</td>\n",
       "      <td>89281</td>\n",
       "      <td>HIOS</td>\n",
       "      <td>5</td>\n",
       "      <td>2014-10-02 12:25:15</td>\n",
       "      <td>89281</td>\n",
       "      <td>95-6042390</td>\n",
       "      <td>2015-01-01</td>\n",
       "      <td>2015-12-31</td>\n",
       "      <td>89281SC0010001</td>\n",
       "      <td>Rating Area 43</td>\n",
       "      <td>No Preference</td>\n",
       "      <td>34</td>\n",
       "      <td>0</td>\n",
       "      <td>NaN</td>\n",
       "      <td>NaN</td>\n",
       "      <td>NaN</td>\n",
       "      <td>NaN</td>\n",
       "      <td>NaN</td>\n",
       "      <td>NaN</td>\n",
       "      <td>NaN</td>\n",
       "      <td>NaN</td>\n",
       "      <td>1960</td>\n",
       "    </tr>\n",
       "    <tr>\n",
       "      <th>6102631</th>\n",
       "      <td>2015</td>\n",
       "      <td>SC</td>\n",
       "      <td>89281</td>\n",
       "      <td>HIOS</td>\n",
       "      <td>5</td>\n",
       "      <td>2014-10-02 12:25:15</td>\n",
       "      <td>89281</td>\n",
       "      <td>95-6042390</td>\n",
       "      <td>2015-01-01</td>\n",
       "      <td>2015-12-31</td>\n",
       "      <td>89281SC0010002</td>\n",
       "      <td>Rating Area 43</td>\n",
       "      <td>No Preference</td>\n",
       "      <td>34</td>\n",
       "      <td>0</td>\n",
       "      <td>NaN</td>\n",
       "      <td>NaN</td>\n",
       "      <td>NaN</td>\n",
       "      <td>NaN</td>\n",
       "      <td>NaN</td>\n",
       "      <td>NaN</td>\n",
       "      <td>NaN</td>\n",
       "      <td>NaN</td>\n",
       "      <td>1960</td>\n",
       "    </tr>\n",
       "    <tr>\n",
       "      <th>6102644</th>\n",
       "      <td>2015</td>\n",
       "      <td>SC</td>\n",
       "      <td>89281</td>\n",
       "      <td>HIOS</td>\n",
       "      <td>5</td>\n",
       "      <td>2014-10-02 12:25:15</td>\n",
       "      <td>89281</td>\n",
       "      <td>95-6042390</td>\n",
       "      <td>2015-01-01</td>\n",
       "      <td>2015-12-31</td>\n",
       "      <td>89281SC0010002</td>\n",
       "      <td>Rating Area 43</td>\n",
       "      <td>No Preference</td>\n",
       "      <td>35</td>\n",
       "      <td>0</td>\n",
       "      <td>NaN</td>\n",
       "      <td>NaN</td>\n",
       "      <td>NaN</td>\n",
       "      <td>NaN</td>\n",
       "      <td>NaN</td>\n",
       "      <td>NaN</td>\n",
       "      <td>NaN</td>\n",
       "      <td>NaN</td>\n",
       "      <td>1961</td>\n",
       "    </tr>\n",
       "    <tr>\n",
       "      <th>6102603</th>\n",
       "      <td>2015</td>\n",
       "      <td>SC</td>\n",
       "      <td>89281</td>\n",
       "      <td>HIOS</td>\n",
       "      <td>5</td>\n",
       "      <td>2014-10-02 12:25:15</td>\n",
       "      <td>89281</td>\n",
       "      <td>95-6042390</td>\n",
       "      <td>2015-01-01</td>\n",
       "      <td>2015-12-31</td>\n",
       "      <td>89281SC0010002</td>\n",
       "      <td>Rating Area 43</td>\n",
       "      <td>No Preference</td>\n",
       "      <td>32</td>\n",
       "      <td>0</td>\n",
       "      <td>NaN</td>\n",
       "      <td>NaN</td>\n",
       "      <td>NaN</td>\n",
       "      <td>NaN</td>\n",
       "      <td>NaN</td>\n",
       "      <td>NaN</td>\n",
       "      <td>NaN</td>\n",
       "      <td>NaN</td>\n",
       "      <td>1958</td>\n",
       "    </tr>\n",
       "    <tr>\n",
       "      <th>6102566</th>\n",
       "      <td>2015</td>\n",
       "      <td>SC</td>\n",
       "      <td>89281</td>\n",
       "      <td>HIOS</td>\n",
       "      <td>5</td>\n",
       "      <td>2014-10-02 12:25:15</td>\n",
       "      <td>89281</td>\n",
       "      <td>95-6042390</td>\n",
       "      <td>2015-01-01</td>\n",
       "      <td>2015-12-31</td>\n",
       "      <td>89281SC0020001</td>\n",
       "      <td>Rating Area 43</td>\n",
       "      <td>No Preference</td>\n",
       "      <td>29</td>\n",
       "      <td>0</td>\n",
       "      <td>NaN</td>\n",
       "      <td>NaN</td>\n",
       "      <td>NaN</td>\n",
       "      <td>NaN</td>\n",
       "      <td>NaN</td>\n",
       "      <td>NaN</td>\n",
       "      <td>NaN</td>\n",
       "      <td>NaN</td>\n",
       "      <td>1955</td>\n",
       "    </tr>\n",
       "    <tr>\n",
       "      <th>6102564</th>\n",
       "      <td>2015</td>\n",
       "      <td>SC</td>\n",
       "      <td>89281</td>\n",
       "      <td>HIOS</td>\n",
       "      <td>5</td>\n",
       "      <td>2014-10-02 12:25:15</td>\n",
       "      <td>89281</td>\n",
       "      <td>95-6042390</td>\n",
       "      <td>2015-01-01</td>\n",
       "      <td>2015-12-31</td>\n",
       "      <td>89281SC0020002</td>\n",
       "      <td>Rating Area 43</td>\n",
       "      <td>No Preference</td>\n",
       "      <td>29</td>\n",
       "      <td>0</td>\n",
       "      <td>NaN</td>\n",
       "      <td>NaN</td>\n",
       "      <td>NaN</td>\n",
       "      <td>NaN</td>\n",
       "      <td>NaN</td>\n",
       "      <td>NaN</td>\n",
       "      <td>NaN</td>\n",
       "      <td>NaN</td>\n",
       "      <td>1955</td>\n",
       "    </tr>\n",
       "    <tr>\n",
       "      <th>6102561</th>\n",
       "      <td>2015</td>\n",
       "      <td>SC</td>\n",
       "      <td>89281</td>\n",
       "      <td>HIOS</td>\n",
       "      <td>5</td>\n",
       "      <td>2014-10-02 12:25:15</td>\n",
       "      <td>89281</td>\n",
       "      <td>95-6042390</td>\n",
       "      <td>2015-01-01</td>\n",
       "      <td>2015-12-31</td>\n",
       "      <td>89281SC0010001</td>\n",
       "      <td>Rating Area 43</td>\n",
       "      <td>No Preference</td>\n",
       "      <td>29</td>\n",
       "      <td>0</td>\n",
       "      <td>NaN</td>\n",
       "      <td>NaN</td>\n",
       "      <td>NaN</td>\n",
       "      <td>NaN</td>\n",
       "      <td>NaN</td>\n",
       "      <td>NaN</td>\n",
       "      <td>NaN</td>\n",
       "      <td>NaN</td>\n",
       "      <td>1955</td>\n",
       "    </tr>\n",
       "    <tr>\n",
       "      <th>6102486</th>\n",
       "      <td>2015</td>\n",
       "      <td>SC</td>\n",
       "      <td>89281</td>\n",
       "      <td>HIOS</td>\n",
       "      <td>5</td>\n",
       "      <td>2014-10-02 12:25:15</td>\n",
       "      <td>89281</td>\n",
       "      <td>95-6042390</td>\n",
       "      <td>2015-01-01</td>\n",
       "      <td>2015-12-31</td>\n",
       "      <td>89281SC0020002</td>\n",
       "      <td>Rating Area 43</td>\n",
       "      <td>No Preference</td>\n",
       "      <td>24</td>\n",
       "      <td>0</td>\n",
       "      <td>NaN</td>\n",
       "      <td>NaN</td>\n",
       "      <td>NaN</td>\n",
       "      <td>NaN</td>\n",
       "      <td>NaN</td>\n",
       "      <td>NaN</td>\n",
       "      <td>NaN</td>\n",
       "      <td>NaN</td>\n",
       "      <td>1950</td>\n",
       "    </tr>\n",
       "    <tr>\n",
       "      <th>6102488</th>\n",
       "      <td>2015</td>\n",
       "      <td>SC</td>\n",
       "      <td>89281</td>\n",
       "      <td>HIOS</td>\n",
       "      <td>5</td>\n",
       "      <td>2014-10-02 12:25:15</td>\n",
       "      <td>89281</td>\n",
       "      <td>95-6042390</td>\n",
       "      <td>2015-01-01</td>\n",
       "      <td>2015-12-31</td>\n",
       "      <td>89281SC0020001</td>\n",
       "      <td>Rating Area 43</td>\n",
       "      <td>No Preference</td>\n",
       "      <td>24</td>\n",
       "      <td>0</td>\n",
       "      <td>NaN</td>\n",
       "      <td>NaN</td>\n",
       "      <td>NaN</td>\n",
       "      <td>NaN</td>\n",
       "      <td>NaN</td>\n",
       "      <td>NaN</td>\n",
       "      <td>NaN</td>\n",
       "      <td>NaN</td>\n",
       "      <td>1950</td>\n",
       "    </tr>\n",
       "    <tr>\n",
       "      <th>6102490</th>\n",
       "      <td>2015</td>\n",
       "      <td>SC</td>\n",
       "      <td>89281</td>\n",
       "      <td>HIOS</td>\n",
       "      <td>5</td>\n",
       "      <td>2014-10-02 12:25:15</td>\n",
       "      <td>89281</td>\n",
       "      <td>95-6042390</td>\n",
       "      <td>2015-01-01</td>\n",
       "      <td>2015-12-31</td>\n",
       "      <td>89281SC0010001</td>\n",
       "      <td>Rating Area 43</td>\n",
       "      <td>No Preference</td>\n",
       "      <td>24</td>\n",
       "      <td>0</td>\n",
       "      <td>NaN</td>\n",
       "      <td>NaN</td>\n",
       "      <td>NaN</td>\n",
       "      <td>NaN</td>\n",
       "      <td>NaN</td>\n",
       "      <td>NaN</td>\n",
       "      <td>NaN</td>\n",
       "      <td>NaN</td>\n",
       "      <td>1950</td>\n",
       "    </tr>\n",
       "    <tr>\n",
       "      <th>6102491</th>\n",
       "      <td>2015</td>\n",
       "      <td>SC</td>\n",
       "      <td>89281</td>\n",
       "      <td>HIOS</td>\n",
       "      <td>5</td>\n",
       "      <td>2014-10-02 12:25:15</td>\n",
       "      <td>89281</td>\n",
       "      <td>95-6042390</td>\n",
       "      <td>2015-01-01</td>\n",
       "      <td>2015-12-31</td>\n",
       "      <td>89281SC0010002</td>\n",
       "      <td>Rating Area 43</td>\n",
       "      <td>No Preference</td>\n",
       "      <td>24</td>\n",
       "      <td>0</td>\n",
       "      <td>NaN</td>\n",
       "      <td>NaN</td>\n",
       "      <td>NaN</td>\n",
       "      <td>NaN</td>\n",
       "      <td>NaN</td>\n",
       "      <td>NaN</td>\n",
       "      <td>NaN</td>\n",
       "      <td>NaN</td>\n",
       "      <td>1950</td>\n",
       "    </tr>\n",
       "    <tr>\n",
       "      <th>6102504</th>\n",
       "      <td>2015</td>\n",
       "      <td>SC</td>\n",
       "      <td>89281</td>\n",
       "      <td>HIOS</td>\n",
       "      <td>5</td>\n",
       "      <td>2014-10-02 12:25:15</td>\n",
       "      <td>89281</td>\n",
       "      <td>95-6042390</td>\n",
       "      <td>2015-01-01</td>\n",
       "      <td>2015-12-31</td>\n",
       "      <td>89281SC0010002</td>\n",
       "      <td>Rating Area 43</td>\n",
       "      <td>No Preference</td>\n",
       "      <td>25</td>\n",
       "      <td>0</td>\n",
       "      <td>NaN</td>\n",
       "      <td>NaN</td>\n",
       "      <td>NaN</td>\n",
       "      <td>NaN</td>\n",
       "      <td>NaN</td>\n",
       "      <td>NaN</td>\n",
       "      <td>NaN</td>\n",
       "      <td>NaN</td>\n",
       "      <td>1951</td>\n",
       "    </tr>\n",
       "    <tr>\n",
       "      <th>...</th>\n",
       "      <td>...</td>\n",
       "      <td>...</td>\n",
       "      <td>...</td>\n",
       "      <td>...</td>\n",
       "      <td>...</td>\n",
       "      <td>...</td>\n",
       "      <td>...</td>\n",
       "      <td>...</td>\n",
       "      <td>...</td>\n",
       "      <td>...</td>\n",
       "      <td>...</td>\n",
       "      <td>...</td>\n",
       "      <td>...</td>\n",
       "      <td>...</td>\n",
       "      <td>...</td>\n",
       "      <td>...</td>\n",
       "      <td>...</td>\n",
       "      <td>...</td>\n",
       "      <td>...</td>\n",
       "      <td>...</td>\n",
       "      <td>...</td>\n",
       "      <td>...</td>\n",
       "      <td>...</td>\n",
       "      <td>...</td>\n",
       "    </tr>\n",
       "    <tr>\n",
       "      <th>3411064</th>\n",
       "      <td>2014</td>\n",
       "      <td>NE</td>\n",
       "      <td>50022</td>\n",
       "      <td>SERFF</td>\n",
       "      <td>6</td>\n",
       "      <td>2014-01-21 11:24:32</td>\n",
       "      <td>50022</td>\n",
       "      <td>95-6042390</td>\n",
       "      <td>2004-01-01</td>\n",
       "      <td>2014-12-31</td>\n",
       "      <td>50022NE0020001</td>\n",
       "      <td>Rating Area 3</td>\n",
       "      <td>No Preference</td>\n",
       "      <td>26</td>\n",
       "      <td>999999</td>\n",
       "      <td>NaN</td>\n",
       "      <td>NaN</td>\n",
       "      <td>NaN</td>\n",
       "      <td>NaN</td>\n",
       "      <td>NaN</td>\n",
       "      <td>NaN</td>\n",
       "      <td>NaN</td>\n",
       "      <td>NaN</td>\n",
       "      <td>112</td>\n",
       "    </tr>\n",
       "    <tr>\n",
       "      <th>3411074</th>\n",
       "      <td>2014</td>\n",
       "      <td>NE</td>\n",
       "      <td>50022</td>\n",
       "      <td>SERFF</td>\n",
       "      <td>6</td>\n",
       "      <td>2014-01-21 11:24:32</td>\n",
       "      <td>50022</td>\n",
       "      <td>95-6042390</td>\n",
       "      <td>2004-01-01</td>\n",
       "      <td>2014-12-31</td>\n",
       "      <td>50022NE0020002</td>\n",
       "      <td>Rating Area 3</td>\n",
       "      <td>No Preference</td>\n",
       "      <td>28</td>\n",
       "      <td>999999</td>\n",
       "      <td>NaN</td>\n",
       "      <td>NaN</td>\n",
       "      <td>NaN</td>\n",
       "      <td>NaN</td>\n",
       "      <td>NaN</td>\n",
       "      <td>NaN</td>\n",
       "      <td>NaN</td>\n",
       "      <td>NaN</td>\n",
       "      <td>114</td>\n",
       "    </tr>\n",
       "    <tr>\n",
       "      <th>3411087</th>\n",
       "      <td>2014</td>\n",
       "      <td>NE</td>\n",
       "      <td>50022</td>\n",
       "      <td>SERFF</td>\n",
       "      <td>6</td>\n",
       "      <td>2014-01-21 11:24:32</td>\n",
       "      <td>50022</td>\n",
       "      <td>95-6042390</td>\n",
       "      <td>2004-01-01</td>\n",
       "      <td>2014-12-31</td>\n",
       "      <td>50022NE0020001</td>\n",
       "      <td>Rating Area 3</td>\n",
       "      <td>No Preference</td>\n",
       "      <td>31</td>\n",
       "      <td>999999</td>\n",
       "      <td>NaN</td>\n",
       "      <td>NaN</td>\n",
       "      <td>NaN</td>\n",
       "      <td>NaN</td>\n",
       "      <td>NaN</td>\n",
       "      <td>NaN</td>\n",
       "      <td>NaN</td>\n",
       "      <td>NaN</td>\n",
       "      <td>117</td>\n",
       "    </tr>\n",
       "    <tr>\n",
       "      <th>3411088</th>\n",
       "      <td>2014</td>\n",
       "      <td>NE</td>\n",
       "      <td>50022</td>\n",
       "      <td>SERFF</td>\n",
       "      <td>6</td>\n",
       "      <td>2014-01-21 11:24:32</td>\n",
       "      <td>50022</td>\n",
       "      <td>95-6042390</td>\n",
       "      <td>2004-01-01</td>\n",
       "      <td>2014-12-31</td>\n",
       "      <td>50022NE0020001</td>\n",
       "      <td>Rating Area 3</td>\n",
       "      <td>No Preference</td>\n",
       "      <td>32</td>\n",
       "      <td>999999</td>\n",
       "      <td>NaN</td>\n",
       "      <td>NaN</td>\n",
       "      <td>NaN</td>\n",
       "      <td>NaN</td>\n",
       "      <td>NaN</td>\n",
       "      <td>NaN</td>\n",
       "      <td>NaN</td>\n",
       "      <td>NaN</td>\n",
       "      <td>118</td>\n",
       "    </tr>\n",
       "    <tr>\n",
       "      <th>3411089</th>\n",
       "      <td>2014</td>\n",
       "      <td>NE</td>\n",
       "      <td>50022</td>\n",
       "      <td>SERFF</td>\n",
       "      <td>6</td>\n",
       "      <td>2014-01-21 11:24:32</td>\n",
       "      <td>50022</td>\n",
       "      <td>95-6042390</td>\n",
       "      <td>2004-01-01</td>\n",
       "      <td>2014-12-31</td>\n",
       "      <td>50022NE0010001</td>\n",
       "      <td>Rating Area 3</td>\n",
       "      <td>No Preference</td>\n",
       "      <td>32</td>\n",
       "      <td>999999</td>\n",
       "      <td>NaN</td>\n",
       "      <td>NaN</td>\n",
       "      <td>NaN</td>\n",
       "      <td>NaN</td>\n",
       "      <td>NaN</td>\n",
       "      <td>NaN</td>\n",
       "      <td>NaN</td>\n",
       "      <td>NaN</td>\n",
       "      <td>118</td>\n",
       "    </tr>\n",
       "    <tr>\n",
       "      <th>3411112</th>\n",
       "      <td>2014</td>\n",
       "      <td>NE</td>\n",
       "      <td>50022</td>\n",
       "      <td>SERFF</td>\n",
       "      <td>6</td>\n",
       "      <td>2014-01-21 11:24:32</td>\n",
       "      <td>50022</td>\n",
       "      <td>95-6042390</td>\n",
       "      <td>2004-01-01</td>\n",
       "      <td>2014-12-31</td>\n",
       "      <td>50022NE0020001</td>\n",
       "      <td>Rating Area 3</td>\n",
       "      <td>No Preference</td>\n",
       "      <td>38</td>\n",
       "      <td>999999</td>\n",
       "      <td>NaN</td>\n",
       "      <td>NaN</td>\n",
       "      <td>NaN</td>\n",
       "      <td>NaN</td>\n",
       "      <td>NaN</td>\n",
       "      <td>NaN</td>\n",
       "      <td>NaN</td>\n",
       "      <td>NaN</td>\n",
       "      <td>124</td>\n",
       "    </tr>\n",
       "    <tr>\n",
       "      <th>3411111</th>\n",
       "      <td>2014</td>\n",
       "      <td>NE</td>\n",
       "      <td>50022</td>\n",
       "      <td>SERFF</td>\n",
       "      <td>6</td>\n",
       "      <td>2014-01-21 11:24:32</td>\n",
       "      <td>50022</td>\n",
       "      <td>95-6042390</td>\n",
       "      <td>2004-01-01</td>\n",
       "      <td>2014-12-31</td>\n",
       "      <td>50022NE0020001</td>\n",
       "      <td>Rating Area 3</td>\n",
       "      <td>No Preference</td>\n",
       "      <td>37</td>\n",
       "      <td>999999</td>\n",
       "      <td>NaN</td>\n",
       "      <td>NaN</td>\n",
       "      <td>NaN</td>\n",
       "      <td>NaN</td>\n",
       "      <td>NaN</td>\n",
       "      <td>NaN</td>\n",
       "      <td>NaN</td>\n",
       "      <td>NaN</td>\n",
       "      <td>123</td>\n",
       "    </tr>\n",
       "    <tr>\n",
       "      <th>3411110</th>\n",
       "      <td>2014</td>\n",
       "      <td>NE</td>\n",
       "      <td>50022</td>\n",
       "      <td>SERFF</td>\n",
       "      <td>6</td>\n",
       "      <td>2014-01-21 11:24:32</td>\n",
       "      <td>50022</td>\n",
       "      <td>95-6042390</td>\n",
       "      <td>2004-01-01</td>\n",
       "      <td>2014-12-31</td>\n",
       "      <td>50022NE0010001</td>\n",
       "      <td>Rating Area 3</td>\n",
       "      <td>No Preference</td>\n",
       "      <td>37</td>\n",
       "      <td>999999</td>\n",
       "      <td>NaN</td>\n",
       "      <td>NaN</td>\n",
       "      <td>NaN</td>\n",
       "      <td>NaN</td>\n",
       "      <td>NaN</td>\n",
       "      <td>NaN</td>\n",
       "      <td>NaN</td>\n",
       "      <td>NaN</td>\n",
       "      <td>123</td>\n",
       "    </tr>\n",
       "    <tr>\n",
       "      <th>3411109</th>\n",
       "      <td>2014</td>\n",
       "      <td>NE</td>\n",
       "      <td>50022</td>\n",
       "      <td>SERFF</td>\n",
       "      <td>6</td>\n",
       "      <td>2014-01-21 11:24:32</td>\n",
       "      <td>50022</td>\n",
       "      <td>95-6042390</td>\n",
       "      <td>2004-01-01</td>\n",
       "      <td>2014-12-31</td>\n",
       "      <td>50022NE0020002</td>\n",
       "      <td>Rating Area 3</td>\n",
       "      <td>No Preference</td>\n",
       "      <td>37</td>\n",
       "      <td>999999</td>\n",
       "      <td>NaN</td>\n",
       "      <td>NaN</td>\n",
       "      <td>NaN</td>\n",
       "      <td>NaN</td>\n",
       "      <td>NaN</td>\n",
       "      <td>NaN</td>\n",
       "      <td>NaN</td>\n",
       "      <td>NaN</td>\n",
       "      <td>123</td>\n",
       "    </tr>\n",
       "    <tr>\n",
       "      <th>3411108</th>\n",
       "      <td>2014</td>\n",
       "      <td>NE</td>\n",
       "      <td>50022</td>\n",
       "      <td>SERFF</td>\n",
       "      <td>6</td>\n",
       "      <td>2014-01-21 11:24:32</td>\n",
       "      <td>50022</td>\n",
       "      <td>95-6042390</td>\n",
       "      <td>2004-01-01</td>\n",
       "      <td>2014-12-31</td>\n",
       "      <td>50022NE0010002</td>\n",
       "      <td>Rating Area 3</td>\n",
       "      <td>No Preference</td>\n",
       "      <td>37</td>\n",
       "      <td>999999</td>\n",
       "      <td>NaN</td>\n",
       "      <td>NaN</td>\n",
       "      <td>NaN</td>\n",
       "      <td>NaN</td>\n",
       "      <td>NaN</td>\n",
       "      <td>NaN</td>\n",
       "      <td>NaN</td>\n",
       "      <td>NaN</td>\n",
       "      <td>123</td>\n",
       "    </tr>\n",
       "    <tr>\n",
       "      <th>3411107</th>\n",
       "      <td>2014</td>\n",
       "      <td>NE</td>\n",
       "      <td>50022</td>\n",
       "      <td>SERFF</td>\n",
       "      <td>6</td>\n",
       "      <td>2014-01-21 11:24:32</td>\n",
       "      <td>50022</td>\n",
       "      <td>95-6042390</td>\n",
       "      <td>2004-01-01</td>\n",
       "      <td>2014-12-31</td>\n",
       "      <td>50022NE0010002</td>\n",
       "      <td>Rating Area 3</td>\n",
       "      <td>No Preference</td>\n",
       "      <td>36</td>\n",
       "      <td>999999</td>\n",
       "      <td>NaN</td>\n",
       "      <td>NaN</td>\n",
       "      <td>NaN</td>\n",
       "      <td>NaN</td>\n",
       "      <td>NaN</td>\n",
       "      <td>NaN</td>\n",
       "      <td>NaN</td>\n",
       "      <td>NaN</td>\n",
       "      <td>122</td>\n",
       "    </tr>\n",
       "    <tr>\n",
       "      <th>3411106</th>\n",
       "      <td>2014</td>\n",
       "      <td>NE</td>\n",
       "      <td>50022</td>\n",
       "      <td>SERFF</td>\n",
       "      <td>6</td>\n",
       "      <td>2014-01-21 11:24:32</td>\n",
       "      <td>50022</td>\n",
       "      <td>95-6042390</td>\n",
       "      <td>2004-01-01</td>\n",
       "      <td>2014-12-31</td>\n",
       "      <td>50022NE0020002</td>\n",
       "      <td>Rating Area 3</td>\n",
       "      <td>No Preference</td>\n",
       "      <td>36</td>\n",
       "      <td>999999</td>\n",
       "      <td>NaN</td>\n",
       "      <td>NaN</td>\n",
       "      <td>NaN</td>\n",
       "      <td>NaN</td>\n",
       "      <td>NaN</td>\n",
       "      <td>NaN</td>\n",
       "      <td>NaN</td>\n",
       "      <td>NaN</td>\n",
       "      <td>122</td>\n",
       "    </tr>\n",
       "    <tr>\n",
       "      <th>3411105</th>\n",
       "      <td>2014</td>\n",
       "      <td>NE</td>\n",
       "      <td>50022</td>\n",
       "      <td>SERFF</td>\n",
       "      <td>6</td>\n",
       "      <td>2014-01-21 11:24:32</td>\n",
       "      <td>50022</td>\n",
       "      <td>95-6042390</td>\n",
       "      <td>2004-01-01</td>\n",
       "      <td>2014-12-31</td>\n",
       "      <td>50022NE0010001</td>\n",
       "      <td>Rating Area 3</td>\n",
       "      <td>No Preference</td>\n",
       "      <td>36</td>\n",
       "      <td>999999</td>\n",
       "      <td>NaN</td>\n",
       "      <td>NaN</td>\n",
       "      <td>NaN</td>\n",
       "      <td>NaN</td>\n",
       "      <td>NaN</td>\n",
       "      <td>NaN</td>\n",
       "      <td>NaN</td>\n",
       "      <td>NaN</td>\n",
       "      <td>122</td>\n",
       "    </tr>\n",
       "    <tr>\n",
       "      <th>3411104</th>\n",
       "      <td>2014</td>\n",
       "      <td>NE</td>\n",
       "      <td>50022</td>\n",
       "      <td>SERFF</td>\n",
       "      <td>6</td>\n",
       "      <td>2014-01-21 11:24:32</td>\n",
       "      <td>50022</td>\n",
       "      <td>95-6042390</td>\n",
       "      <td>2004-01-01</td>\n",
       "      <td>2014-12-31</td>\n",
       "      <td>50022NE0020001</td>\n",
       "      <td>Rating Area 3</td>\n",
       "      <td>No Preference</td>\n",
       "      <td>36</td>\n",
       "      <td>999999</td>\n",
       "      <td>NaN</td>\n",
       "      <td>NaN</td>\n",
       "      <td>NaN</td>\n",
       "      <td>NaN</td>\n",
       "      <td>NaN</td>\n",
       "      <td>NaN</td>\n",
       "      <td>NaN</td>\n",
       "      <td>NaN</td>\n",
       "      <td>122</td>\n",
       "    </tr>\n",
       "    <tr>\n",
       "      <th>3411103</th>\n",
       "      <td>2014</td>\n",
       "      <td>NE</td>\n",
       "      <td>50022</td>\n",
       "      <td>SERFF</td>\n",
       "      <td>6</td>\n",
       "      <td>2014-01-21 11:24:32</td>\n",
       "      <td>50022</td>\n",
       "      <td>95-6042390</td>\n",
       "      <td>2004-01-01</td>\n",
       "      <td>2014-12-31</td>\n",
       "      <td>50022NE0020001</td>\n",
       "      <td>Rating Area 3</td>\n",
       "      <td>No Preference</td>\n",
       "      <td>35</td>\n",
       "      <td>999999</td>\n",
       "      <td>NaN</td>\n",
       "      <td>NaN</td>\n",
       "      <td>NaN</td>\n",
       "      <td>NaN</td>\n",
       "      <td>NaN</td>\n",
       "      <td>NaN</td>\n",
       "      <td>NaN</td>\n",
       "      <td>NaN</td>\n",
       "      <td>121</td>\n",
       "    </tr>\n",
       "    <tr>\n",
       "      <th>3411102</th>\n",
       "      <td>2014</td>\n",
       "      <td>NE</td>\n",
       "      <td>50022</td>\n",
       "      <td>SERFF</td>\n",
       "      <td>6</td>\n",
       "      <td>2014-01-21 11:24:32</td>\n",
       "      <td>50022</td>\n",
       "      <td>95-6042390</td>\n",
       "      <td>2004-01-01</td>\n",
       "      <td>2014-12-31</td>\n",
       "      <td>50022NE0010001</td>\n",
       "      <td>Rating Area 3</td>\n",
       "      <td>No Preference</td>\n",
       "      <td>35</td>\n",
       "      <td>999999</td>\n",
       "      <td>NaN</td>\n",
       "      <td>NaN</td>\n",
       "      <td>NaN</td>\n",
       "      <td>NaN</td>\n",
       "      <td>NaN</td>\n",
       "      <td>NaN</td>\n",
       "      <td>NaN</td>\n",
       "      <td>NaN</td>\n",
       "      <td>121</td>\n",
       "    </tr>\n",
       "    <tr>\n",
       "      <th>3411101</th>\n",
       "      <td>2014</td>\n",
       "      <td>NE</td>\n",
       "      <td>50022</td>\n",
       "      <td>SERFF</td>\n",
       "      <td>6</td>\n",
       "      <td>2014-01-21 11:24:32</td>\n",
       "      <td>50022</td>\n",
       "      <td>95-6042390</td>\n",
       "      <td>2004-01-01</td>\n",
       "      <td>2014-12-31</td>\n",
       "      <td>50022NE0020002</td>\n",
       "      <td>Rating Area 3</td>\n",
       "      <td>No Preference</td>\n",
       "      <td>35</td>\n",
       "      <td>999999</td>\n",
       "      <td>NaN</td>\n",
       "      <td>NaN</td>\n",
       "      <td>NaN</td>\n",
       "      <td>NaN</td>\n",
       "      <td>NaN</td>\n",
       "      <td>NaN</td>\n",
       "      <td>NaN</td>\n",
       "      <td>NaN</td>\n",
       "      <td>121</td>\n",
       "    </tr>\n",
       "    <tr>\n",
       "      <th>3411100</th>\n",
       "      <td>2014</td>\n",
       "      <td>NE</td>\n",
       "      <td>50022</td>\n",
       "      <td>SERFF</td>\n",
       "      <td>6</td>\n",
       "      <td>2014-01-21 11:24:32</td>\n",
       "      <td>50022</td>\n",
       "      <td>95-6042390</td>\n",
       "      <td>2004-01-01</td>\n",
       "      <td>2014-12-31</td>\n",
       "      <td>50022NE0010002</td>\n",
       "      <td>Rating Area 3</td>\n",
       "      <td>No Preference</td>\n",
       "      <td>35</td>\n",
       "      <td>999999</td>\n",
       "      <td>NaN</td>\n",
       "      <td>NaN</td>\n",
       "      <td>NaN</td>\n",
       "      <td>NaN</td>\n",
       "      <td>NaN</td>\n",
       "      <td>NaN</td>\n",
       "      <td>NaN</td>\n",
       "      <td>NaN</td>\n",
       "      <td>121</td>\n",
       "    </tr>\n",
       "    <tr>\n",
       "      <th>3411099</th>\n",
       "      <td>2014</td>\n",
       "      <td>NE</td>\n",
       "      <td>50022</td>\n",
       "      <td>SERFF</td>\n",
       "      <td>6</td>\n",
       "      <td>2014-01-21 11:24:32</td>\n",
       "      <td>50022</td>\n",
       "      <td>95-6042390</td>\n",
       "      <td>2004-01-01</td>\n",
       "      <td>2014-12-31</td>\n",
       "      <td>50022NE0010002</td>\n",
       "      <td>Rating Area 3</td>\n",
       "      <td>No Preference</td>\n",
       "      <td>34</td>\n",
       "      <td>999999</td>\n",
       "      <td>NaN</td>\n",
       "      <td>NaN</td>\n",
       "      <td>NaN</td>\n",
       "      <td>NaN</td>\n",
       "      <td>NaN</td>\n",
       "      <td>NaN</td>\n",
       "      <td>NaN</td>\n",
       "      <td>NaN</td>\n",
       "      <td>120</td>\n",
       "    </tr>\n",
       "    <tr>\n",
       "      <th>3411098</th>\n",
       "      <td>2014</td>\n",
       "      <td>NE</td>\n",
       "      <td>50022</td>\n",
       "      <td>SERFF</td>\n",
       "      <td>6</td>\n",
       "      <td>2014-01-21 11:24:32</td>\n",
       "      <td>50022</td>\n",
       "      <td>95-6042390</td>\n",
       "      <td>2004-01-01</td>\n",
       "      <td>2014-12-31</td>\n",
       "      <td>50022NE0020002</td>\n",
       "      <td>Rating Area 3</td>\n",
       "      <td>No Preference</td>\n",
       "      <td>34</td>\n",
       "      <td>999999</td>\n",
       "      <td>NaN</td>\n",
       "      <td>NaN</td>\n",
       "      <td>NaN</td>\n",
       "      <td>NaN</td>\n",
       "      <td>NaN</td>\n",
       "      <td>NaN</td>\n",
       "      <td>NaN</td>\n",
       "      <td>NaN</td>\n",
       "      <td>120</td>\n",
       "    </tr>\n",
       "    <tr>\n",
       "      <th>3411097</th>\n",
       "      <td>2014</td>\n",
       "      <td>NE</td>\n",
       "      <td>50022</td>\n",
       "      <td>SERFF</td>\n",
       "      <td>6</td>\n",
       "      <td>2014-01-21 11:24:32</td>\n",
       "      <td>50022</td>\n",
       "      <td>95-6042390</td>\n",
       "      <td>2004-01-01</td>\n",
       "      <td>2014-12-31</td>\n",
       "      <td>50022NE0010001</td>\n",
       "      <td>Rating Area 3</td>\n",
       "      <td>No Preference</td>\n",
       "      <td>34</td>\n",
       "      <td>999999</td>\n",
       "      <td>NaN</td>\n",
       "      <td>NaN</td>\n",
       "      <td>NaN</td>\n",
       "      <td>NaN</td>\n",
       "      <td>NaN</td>\n",
       "      <td>NaN</td>\n",
       "      <td>NaN</td>\n",
       "      <td>NaN</td>\n",
       "      <td>120</td>\n",
       "    </tr>\n",
       "    <tr>\n",
       "      <th>3411096</th>\n",
       "      <td>2014</td>\n",
       "      <td>NE</td>\n",
       "      <td>50022</td>\n",
       "      <td>SERFF</td>\n",
       "      <td>6</td>\n",
       "      <td>2014-01-21 11:24:32</td>\n",
       "      <td>50022</td>\n",
       "      <td>95-6042390</td>\n",
       "      <td>2004-01-01</td>\n",
       "      <td>2014-12-31</td>\n",
       "      <td>50022NE0020001</td>\n",
       "      <td>Rating Area 3</td>\n",
       "      <td>No Preference</td>\n",
       "      <td>34</td>\n",
       "      <td>999999</td>\n",
       "      <td>NaN</td>\n",
       "      <td>NaN</td>\n",
       "      <td>NaN</td>\n",
       "      <td>NaN</td>\n",
       "      <td>NaN</td>\n",
       "      <td>NaN</td>\n",
       "      <td>NaN</td>\n",
       "      <td>NaN</td>\n",
       "      <td>120</td>\n",
       "    </tr>\n",
       "    <tr>\n",
       "      <th>3411095</th>\n",
       "      <td>2014</td>\n",
       "      <td>NE</td>\n",
       "      <td>50022</td>\n",
       "      <td>SERFF</td>\n",
       "      <td>6</td>\n",
       "      <td>2014-01-21 11:24:32</td>\n",
       "      <td>50022</td>\n",
       "      <td>95-6042390</td>\n",
       "      <td>2004-01-01</td>\n",
       "      <td>2014-12-31</td>\n",
       "      <td>50022NE0020001</td>\n",
       "      <td>Rating Area 3</td>\n",
       "      <td>No Preference</td>\n",
       "      <td>33</td>\n",
       "      <td>999999</td>\n",
       "      <td>NaN</td>\n",
       "      <td>NaN</td>\n",
       "      <td>NaN</td>\n",
       "      <td>NaN</td>\n",
       "      <td>NaN</td>\n",
       "      <td>NaN</td>\n",
       "      <td>NaN</td>\n",
       "      <td>NaN</td>\n",
       "      <td>119</td>\n",
       "    </tr>\n",
       "    <tr>\n",
       "      <th>3411094</th>\n",
       "      <td>2014</td>\n",
       "      <td>NE</td>\n",
       "      <td>50022</td>\n",
       "      <td>SERFF</td>\n",
       "      <td>6</td>\n",
       "      <td>2014-01-21 11:24:32</td>\n",
       "      <td>50022</td>\n",
       "      <td>95-6042390</td>\n",
       "      <td>2004-01-01</td>\n",
       "      <td>2014-12-31</td>\n",
       "      <td>50022NE0010001</td>\n",
       "      <td>Rating Area 3</td>\n",
       "      <td>No Preference</td>\n",
       "      <td>33</td>\n",
       "      <td>999999</td>\n",
       "      <td>NaN</td>\n",
       "      <td>NaN</td>\n",
       "      <td>NaN</td>\n",
       "      <td>NaN</td>\n",
       "      <td>NaN</td>\n",
       "      <td>NaN</td>\n",
       "      <td>NaN</td>\n",
       "      <td>NaN</td>\n",
       "      <td>119</td>\n",
       "    </tr>\n",
       "    <tr>\n",
       "      <th>3411093</th>\n",
       "      <td>2014</td>\n",
       "      <td>NE</td>\n",
       "      <td>50022</td>\n",
       "      <td>SERFF</td>\n",
       "      <td>6</td>\n",
       "      <td>2014-01-21 11:24:32</td>\n",
       "      <td>50022</td>\n",
       "      <td>95-6042390</td>\n",
       "      <td>2004-01-01</td>\n",
       "      <td>2014-12-31</td>\n",
       "      <td>50022NE0020002</td>\n",
       "      <td>Rating Area 3</td>\n",
       "      <td>No Preference</td>\n",
       "      <td>33</td>\n",
       "      <td>999999</td>\n",
       "      <td>NaN</td>\n",
       "      <td>NaN</td>\n",
       "      <td>NaN</td>\n",
       "      <td>NaN</td>\n",
       "      <td>NaN</td>\n",
       "      <td>NaN</td>\n",
       "      <td>NaN</td>\n",
       "      <td>NaN</td>\n",
       "      <td>119</td>\n",
       "    </tr>\n",
       "    <tr>\n",
       "      <th>3411092</th>\n",
       "      <td>2014</td>\n",
       "      <td>NE</td>\n",
       "      <td>50022</td>\n",
       "      <td>SERFF</td>\n",
       "      <td>6</td>\n",
       "      <td>2014-01-21 11:24:32</td>\n",
       "      <td>50022</td>\n",
       "      <td>95-6042390</td>\n",
       "      <td>2004-01-01</td>\n",
       "      <td>2014-12-31</td>\n",
       "      <td>50022NE0010002</td>\n",
       "      <td>Rating Area 3</td>\n",
       "      <td>No Preference</td>\n",
       "      <td>33</td>\n",
       "      <td>999999</td>\n",
       "      <td>NaN</td>\n",
       "      <td>NaN</td>\n",
       "      <td>NaN</td>\n",
       "      <td>NaN</td>\n",
       "      <td>NaN</td>\n",
       "      <td>NaN</td>\n",
       "      <td>NaN</td>\n",
       "      <td>NaN</td>\n",
       "      <td>119</td>\n",
       "    </tr>\n",
       "    <tr>\n",
       "      <th>3411091</th>\n",
       "      <td>2014</td>\n",
       "      <td>NE</td>\n",
       "      <td>50022</td>\n",
       "      <td>SERFF</td>\n",
       "      <td>6</td>\n",
       "      <td>2014-01-21 11:24:32</td>\n",
       "      <td>50022</td>\n",
       "      <td>95-6042390</td>\n",
       "      <td>2004-01-01</td>\n",
       "      <td>2014-12-31</td>\n",
       "      <td>50022NE0010002</td>\n",
       "      <td>Rating Area 3</td>\n",
       "      <td>No Preference</td>\n",
       "      <td>32</td>\n",
       "      <td>999999</td>\n",
       "      <td>NaN</td>\n",
       "      <td>NaN</td>\n",
       "      <td>NaN</td>\n",
       "      <td>NaN</td>\n",
       "      <td>NaN</td>\n",
       "      <td>NaN</td>\n",
       "      <td>NaN</td>\n",
       "      <td>NaN</td>\n",
       "      <td>118</td>\n",
       "    </tr>\n",
       "    <tr>\n",
       "      <th>3411090</th>\n",
       "      <td>2014</td>\n",
       "      <td>NE</td>\n",
       "      <td>50022</td>\n",
       "      <td>SERFF</td>\n",
       "      <td>6</td>\n",
       "      <td>2014-01-21 11:24:32</td>\n",
       "      <td>50022</td>\n",
       "      <td>95-6042390</td>\n",
       "      <td>2004-01-01</td>\n",
       "      <td>2014-12-31</td>\n",
       "      <td>50022NE0020002</td>\n",
       "      <td>Rating Area 3</td>\n",
       "      <td>No Preference</td>\n",
       "      <td>32</td>\n",
       "      <td>999999</td>\n",
       "      <td>NaN</td>\n",
       "      <td>NaN</td>\n",
       "      <td>NaN</td>\n",
       "      <td>NaN</td>\n",
       "      <td>NaN</td>\n",
       "      <td>NaN</td>\n",
       "      <td>NaN</td>\n",
       "      <td>NaN</td>\n",
       "      <td>118</td>\n",
       "    </tr>\n",
       "    <tr>\n",
       "      <th>3411166</th>\n",
       "      <td>2014</td>\n",
       "      <td>NE</td>\n",
       "      <td>50022</td>\n",
       "      <td>SERFF</td>\n",
       "      <td>6</td>\n",
       "      <td>2014-01-21 11:24:32</td>\n",
       "      <td>50022</td>\n",
       "      <td>95-6042390</td>\n",
       "      <td>2004-01-01</td>\n",
       "      <td>2014-12-31</td>\n",
       "      <td>50022NE0010001</td>\n",
       "      <td>Rating Area 3</td>\n",
       "      <td>No Preference</td>\n",
       "      <td>51</td>\n",
       "      <td>999999</td>\n",
       "      <td>NaN</td>\n",
       "      <td>NaN</td>\n",
       "      <td>NaN</td>\n",
       "      <td>NaN</td>\n",
       "      <td>NaN</td>\n",
       "      <td>NaN</td>\n",
       "      <td>NaN</td>\n",
       "      <td>NaN</td>\n",
       "      <td>137</td>\n",
       "    </tr>\n",
       "    <tr>\n",
       "      <th>1261062</th>\n",
       "      <td>2014</td>\n",
       "      <td>IN</td>\n",
       "      <td>83557</td>\n",
       "      <td>HIOS</td>\n",
       "      <td>8</td>\n",
       "      <td>2014-01-21 08:29:49</td>\n",
       "      <td>83557</td>\n",
       "      <td>95-6042390</td>\n",
       "      <td>2014-01-01</td>\n",
       "      <td>2014-12-31</td>\n",
       "      <td>83557IN0010002</td>\n",
       "      <td>Rating Area 1</td>\n",
       "      <td>No Preference</td>\n",
       "      <td>23</td>\n",
       "      <td>999999</td>\n",
       "      <td>NaN</td>\n",
       "      <td>NaN</td>\n",
       "      <td>NaN</td>\n",
       "      <td>NaN</td>\n",
       "      <td>NaN</td>\n",
       "      <td>NaN</td>\n",
       "      <td>NaN</td>\n",
       "      <td>NaN</td>\n",
       "      <td>17</td>\n",
       "    </tr>\n",
       "  </tbody>\n",
       "</table>\n",
       "<p>12694445 rows × 24 columns</p>\n",
       "</div>"
      ],
      "text/plain": [
       "         BusinessYear StateCode  IssuerId SourceName  VersionNum           ImportDate  IssuerId2  FederalTIN RateEffectiveDate RateExpirationDate          PlanId    RatingAreaId        Tobacco Age  IndividualRate  IndividualTobaccoRate  Couple  PrimarySubscriberAndOneDependent  PrimarySubscriberAndTwoDependents  PrimarySubscriberAndThreeOrMoreDependents  CoupleAndOneDependent  CoupleAndTwoDependents  CoupleAndThreeOrMoreDependents  RowNumber\n",
       "9231208          2016        GA     78196       HIOS           2  2015-07-07 02:38:10      78196  93-0242990        2016-01-01         2016-12-31  78196GA0030002  Rating Area 13  No Preference  49               0                    NaN     NaN                               NaN                                NaN                                        NaN                    NaN                     NaN                             NaN       1331\n",
       "6102571          2015        SC     89281       HIOS           5  2014-10-02 12:25:15      89281  95-6042390        2015-01-01         2015-12-31  89281SC0020002  Rating Area 43  No Preference  30               0                    NaN     NaN                               NaN                                NaN                                        NaN                    NaN                     NaN                             NaN       1956\n",
       "6102574          2015        SC     89281       HIOS           5  2014-10-02 12:25:15      89281  95-6042390        2015-01-01         2015-12-31  89281SC0010001  Rating Area 43  No Preference  30               0                    NaN     NaN                               NaN                                NaN                                        NaN                    NaN                     NaN                             NaN       1956\n",
       "6102575          2015        SC     89281       HIOS           5  2014-10-02 12:25:15      89281  95-6042390        2015-01-01         2015-12-31  89281SC0010002  Rating Area 43  No Preference  30               0                    NaN     NaN                               NaN                                NaN                                        NaN                    NaN                     NaN                             NaN       1956\n",
       "6102588          2015        SC     89281       HIOS           5  2014-10-02 12:25:15      89281  95-6042390        2015-01-01         2015-12-31  89281SC0010002  Rating Area 43  No Preference  31               0                    NaN     NaN                               NaN                                NaN                                        NaN                    NaN                     NaN                             NaN       1957\n",
       "6102589          2015        SC     89281       HIOS           5  2014-10-02 12:25:15      89281  95-6042390        2015-01-01         2015-12-31  89281SC0010001  Rating Area 43  No Preference  31               0                    NaN     NaN                               NaN                                NaN                                        NaN                    NaN                     NaN                             NaN       1957\n",
       "6102592          2015        SC     89281       HIOS           5  2014-10-02 12:25:15      89281  95-6042390        2015-01-01         2015-12-31  89281SC0020002  Rating Area 43  No Preference  31               0                    NaN     NaN                               NaN                                NaN                                        NaN                    NaN                     NaN                             NaN       1957\n",
       "6102594          2015        SC     89281       HIOS           5  2014-10-02 12:25:15      89281  95-6042390        2015-01-01         2015-12-31  89281SC0020001  Rating Area 43  No Preference  31               0                    NaN     NaN                               NaN                                NaN                                        NaN                    NaN                     NaN                             NaN       1957\n",
       "6102597          2015        SC     89281       HIOS           5  2014-10-02 12:25:15      89281  95-6042390        2015-01-01         2015-12-31  89281SC0020001  Rating Area 43  No Preference  32               0                    NaN     NaN                               NaN                                NaN                                        NaN                    NaN                     NaN                             NaN       1958\n",
       "6102599          2015        SC     89281       HIOS           5  2014-10-02 12:25:15      89281  95-6042390        2015-01-01         2015-12-31  89281SC0020002  Rating Area 43  No Preference  32               0                    NaN     NaN                               NaN                                NaN                                        NaN                    NaN                     NaN                             NaN       1958\n",
       "6102569          2015        SC     89281       HIOS           5  2014-10-02 12:25:15      89281  95-6042390        2015-01-01         2015-12-31  89281SC0020001  Rating Area 43  No Preference  30               0                    NaN     NaN                               NaN                                NaN                                        NaN                    NaN                     NaN                             NaN       1956\n",
       "6102602          2015        SC     89281       HIOS           5  2014-10-02 12:25:15      89281  95-6042390        2015-01-01         2015-12-31  89281SC0010001  Rating Area 43  No Preference  32               0                    NaN     NaN                               NaN                                NaN                                        NaN                    NaN                     NaN                             NaN       1958\n",
       "6102616          2015        SC     89281       HIOS           5  2014-10-02 12:25:15      89281  95-6042390        2015-01-01         2015-12-31  89281SC0010002  Rating Area 43  No Preference  33               0                    NaN     NaN                               NaN                                NaN                                        NaN                    NaN                     NaN                             NaN       1959\n",
       "6102617          2015        SC     89281       HIOS           5  2014-10-02 12:25:15      89281  95-6042390        2015-01-01         2015-12-31  89281SC0010001  Rating Area 43  No Preference  33               0                    NaN     NaN                               NaN                                NaN                                        NaN                    NaN                     NaN                             NaN       1959\n",
       "6102620          2015        SC     89281       HIOS           5  2014-10-02 12:25:15      89281  95-6042390        2015-01-01         2015-12-31  89281SC0020002  Rating Area 43  No Preference  33               0                    NaN     NaN                               NaN                                NaN                                        NaN                    NaN                     NaN                             NaN       1959\n",
       "6102622          2015        SC     89281       HIOS           5  2014-10-02 12:25:15      89281  95-6042390        2015-01-01         2015-12-31  89281SC0020001  Rating Area 43  No Preference  33               0                    NaN     NaN                               NaN                                NaN                                        NaN                    NaN                     NaN                             NaN       1959\n",
       "6102625          2015        SC     89281       HIOS           5  2014-10-02 12:25:15      89281  95-6042390        2015-01-01         2015-12-31  89281SC0020001  Rating Area 43  No Preference  34               0                    NaN     NaN                               NaN                                NaN                                        NaN                    NaN                     NaN                             NaN       1960\n",
       "6102627          2015        SC     89281       HIOS           5  2014-10-02 12:25:15      89281  95-6042390        2015-01-01         2015-12-31  89281SC0020002  Rating Area 43  No Preference  34               0                    NaN     NaN                               NaN                                NaN                                        NaN                    NaN                     NaN                             NaN       1960\n",
       "6102630          2015        SC     89281       HIOS           5  2014-10-02 12:25:15      89281  95-6042390        2015-01-01         2015-12-31  89281SC0010001  Rating Area 43  No Preference  34               0                    NaN     NaN                               NaN                                NaN                                        NaN                    NaN                     NaN                             NaN       1960\n",
       "6102631          2015        SC     89281       HIOS           5  2014-10-02 12:25:15      89281  95-6042390        2015-01-01         2015-12-31  89281SC0010002  Rating Area 43  No Preference  34               0                    NaN     NaN                               NaN                                NaN                                        NaN                    NaN                     NaN                             NaN       1960\n",
       "6102644          2015        SC     89281       HIOS           5  2014-10-02 12:25:15      89281  95-6042390        2015-01-01         2015-12-31  89281SC0010002  Rating Area 43  No Preference  35               0                    NaN     NaN                               NaN                                NaN                                        NaN                    NaN                     NaN                             NaN       1961\n",
       "6102603          2015        SC     89281       HIOS           5  2014-10-02 12:25:15      89281  95-6042390        2015-01-01         2015-12-31  89281SC0010002  Rating Area 43  No Preference  32               0                    NaN     NaN                               NaN                                NaN                                        NaN                    NaN                     NaN                             NaN       1958\n",
       "6102566          2015        SC     89281       HIOS           5  2014-10-02 12:25:15      89281  95-6042390        2015-01-01         2015-12-31  89281SC0020001  Rating Area 43  No Preference  29               0                    NaN     NaN                               NaN                                NaN                                        NaN                    NaN                     NaN                             NaN       1955\n",
       "6102564          2015        SC     89281       HIOS           5  2014-10-02 12:25:15      89281  95-6042390        2015-01-01         2015-12-31  89281SC0020002  Rating Area 43  No Preference  29               0                    NaN     NaN                               NaN                                NaN                                        NaN                    NaN                     NaN                             NaN       1955\n",
       "6102561          2015        SC     89281       HIOS           5  2014-10-02 12:25:15      89281  95-6042390        2015-01-01         2015-12-31  89281SC0010001  Rating Area 43  No Preference  29               0                    NaN     NaN                               NaN                                NaN                                        NaN                    NaN                     NaN                             NaN       1955\n",
       "6102486          2015        SC     89281       HIOS           5  2014-10-02 12:25:15      89281  95-6042390        2015-01-01         2015-12-31  89281SC0020002  Rating Area 43  No Preference  24               0                    NaN     NaN                               NaN                                NaN                                        NaN                    NaN                     NaN                             NaN       1950\n",
       "6102488          2015        SC     89281       HIOS           5  2014-10-02 12:25:15      89281  95-6042390        2015-01-01         2015-12-31  89281SC0020001  Rating Area 43  No Preference  24               0                    NaN     NaN                               NaN                                NaN                                        NaN                    NaN                     NaN                             NaN       1950\n",
       "6102490          2015        SC     89281       HIOS           5  2014-10-02 12:25:15      89281  95-6042390        2015-01-01         2015-12-31  89281SC0010001  Rating Area 43  No Preference  24               0                    NaN     NaN                               NaN                                NaN                                        NaN                    NaN                     NaN                             NaN       1950\n",
       "6102491          2015        SC     89281       HIOS           5  2014-10-02 12:25:15      89281  95-6042390        2015-01-01         2015-12-31  89281SC0010002  Rating Area 43  No Preference  24               0                    NaN     NaN                               NaN                                NaN                                        NaN                    NaN                     NaN                             NaN       1950\n",
       "6102504          2015        SC     89281       HIOS           5  2014-10-02 12:25:15      89281  95-6042390        2015-01-01         2015-12-31  89281SC0010002  Rating Area 43  No Preference  25               0                    NaN     NaN                               NaN                                NaN                                        NaN                    NaN                     NaN                             NaN       1951\n",
       "...               ...       ...       ...        ...         ...                  ...        ...         ...               ...                ...             ...             ...            ...  ..             ...                    ...     ...                               ...                                ...                                        ...                    ...                     ...                             ...        ...\n",
       "3411064          2014        NE     50022      SERFF           6  2014-01-21 11:24:32      50022  95-6042390        2004-01-01         2014-12-31  50022NE0020001   Rating Area 3  No Preference  26          999999                    NaN     NaN                               NaN                                NaN                                        NaN                    NaN                     NaN                             NaN        112\n",
       "3411074          2014        NE     50022      SERFF           6  2014-01-21 11:24:32      50022  95-6042390        2004-01-01         2014-12-31  50022NE0020002   Rating Area 3  No Preference  28          999999                    NaN     NaN                               NaN                                NaN                                        NaN                    NaN                     NaN                             NaN        114\n",
       "3411087          2014        NE     50022      SERFF           6  2014-01-21 11:24:32      50022  95-6042390        2004-01-01         2014-12-31  50022NE0020001   Rating Area 3  No Preference  31          999999                    NaN     NaN                               NaN                                NaN                                        NaN                    NaN                     NaN                             NaN        117\n",
       "3411088          2014        NE     50022      SERFF           6  2014-01-21 11:24:32      50022  95-6042390        2004-01-01         2014-12-31  50022NE0020001   Rating Area 3  No Preference  32          999999                    NaN     NaN                               NaN                                NaN                                        NaN                    NaN                     NaN                             NaN        118\n",
       "3411089          2014        NE     50022      SERFF           6  2014-01-21 11:24:32      50022  95-6042390        2004-01-01         2014-12-31  50022NE0010001   Rating Area 3  No Preference  32          999999                    NaN     NaN                               NaN                                NaN                                        NaN                    NaN                     NaN                             NaN        118\n",
       "3411112          2014        NE     50022      SERFF           6  2014-01-21 11:24:32      50022  95-6042390        2004-01-01         2014-12-31  50022NE0020001   Rating Area 3  No Preference  38          999999                    NaN     NaN                               NaN                                NaN                                        NaN                    NaN                     NaN                             NaN        124\n",
       "3411111          2014        NE     50022      SERFF           6  2014-01-21 11:24:32      50022  95-6042390        2004-01-01         2014-12-31  50022NE0020001   Rating Area 3  No Preference  37          999999                    NaN     NaN                               NaN                                NaN                                        NaN                    NaN                     NaN                             NaN        123\n",
       "3411110          2014        NE     50022      SERFF           6  2014-01-21 11:24:32      50022  95-6042390        2004-01-01         2014-12-31  50022NE0010001   Rating Area 3  No Preference  37          999999                    NaN     NaN                               NaN                                NaN                                        NaN                    NaN                     NaN                             NaN        123\n",
       "3411109          2014        NE     50022      SERFF           6  2014-01-21 11:24:32      50022  95-6042390        2004-01-01         2014-12-31  50022NE0020002   Rating Area 3  No Preference  37          999999                    NaN     NaN                               NaN                                NaN                                        NaN                    NaN                     NaN                             NaN        123\n",
       "3411108          2014        NE     50022      SERFF           6  2014-01-21 11:24:32      50022  95-6042390        2004-01-01         2014-12-31  50022NE0010002   Rating Area 3  No Preference  37          999999                    NaN     NaN                               NaN                                NaN                                        NaN                    NaN                     NaN                             NaN        123\n",
       "3411107          2014        NE     50022      SERFF           6  2014-01-21 11:24:32      50022  95-6042390        2004-01-01         2014-12-31  50022NE0010002   Rating Area 3  No Preference  36          999999                    NaN     NaN                               NaN                                NaN                                        NaN                    NaN                     NaN                             NaN        122\n",
       "3411106          2014        NE     50022      SERFF           6  2014-01-21 11:24:32      50022  95-6042390        2004-01-01         2014-12-31  50022NE0020002   Rating Area 3  No Preference  36          999999                    NaN     NaN                               NaN                                NaN                                        NaN                    NaN                     NaN                             NaN        122\n",
       "3411105          2014        NE     50022      SERFF           6  2014-01-21 11:24:32      50022  95-6042390        2004-01-01         2014-12-31  50022NE0010001   Rating Area 3  No Preference  36          999999                    NaN     NaN                               NaN                                NaN                                        NaN                    NaN                     NaN                             NaN        122\n",
       "3411104          2014        NE     50022      SERFF           6  2014-01-21 11:24:32      50022  95-6042390        2004-01-01         2014-12-31  50022NE0020001   Rating Area 3  No Preference  36          999999                    NaN     NaN                               NaN                                NaN                                        NaN                    NaN                     NaN                             NaN        122\n",
       "3411103          2014        NE     50022      SERFF           6  2014-01-21 11:24:32      50022  95-6042390        2004-01-01         2014-12-31  50022NE0020001   Rating Area 3  No Preference  35          999999                    NaN     NaN                               NaN                                NaN                                        NaN                    NaN                     NaN                             NaN        121\n",
       "3411102          2014        NE     50022      SERFF           6  2014-01-21 11:24:32      50022  95-6042390        2004-01-01         2014-12-31  50022NE0010001   Rating Area 3  No Preference  35          999999                    NaN     NaN                               NaN                                NaN                                        NaN                    NaN                     NaN                             NaN        121\n",
       "3411101          2014        NE     50022      SERFF           6  2014-01-21 11:24:32      50022  95-6042390        2004-01-01         2014-12-31  50022NE0020002   Rating Area 3  No Preference  35          999999                    NaN     NaN                               NaN                                NaN                                        NaN                    NaN                     NaN                             NaN        121\n",
       "3411100          2014        NE     50022      SERFF           6  2014-01-21 11:24:32      50022  95-6042390        2004-01-01         2014-12-31  50022NE0010002   Rating Area 3  No Preference  35          999999                    NaN     NaN                               NaN                                NaN                                        NaN                    NaN                     NaN                             NaN        121\n",
       "3411099          2014        NE     50022      SERFF           6  2014-01-21 11:24:32      50022  95-6042390        2004-01-01         2014-12-31  50022NE0010002   Rating Area 3  No Preference  34          999999                    NaN     NaN                               NaN                                NaN                                        NaN                    NaN                     NaN                             NaN        120\n",
       "3411098          2014        NE     50022      SERFF           6  2014-01-21 11:24:32      50022  95-6042390        2004-01-01         2014-12-31  50022NE0020002   Rating Area 3  No Preference  34          999999                    NaN     NaN                               NaN                                NaN                                        NaN                    NaN                     NaN                             NaN        120\n",
       "3411097          2014        NE     50022      SERFF           6  2014-01-21 11:24:32      50022  95-6042390        2004-01-01         2014-12-31  50022NE0010001   Rating Area 3  No Preference  34          999999                    NaN     NaN                               NaN                                NaN                                        NaN                    NaN                     NaN                             NaN        120\n",
       "3411096          2014        NE     50022      SERFF           6  2014-01-21 11:24:32      50022  95-6042390        2004-01-01         2014-12-31  50022NE0020001   Rating Area 3  No Preference  34          999999                    NaN     NaN                               NaN                                NaN                                        NaN                    NaN                     NaN                             NaN        120\n",
       "3411095          2014        NE     50022      SERFF           6  2014-01-21 11:24:32      50022  95-6042390        2004-01-01         2014-12-31  50022NE0020001   Rating Area 3  No Preference  33          999999                    NaN     NaN                               NaN                                NaN                                        NaN                    NaN                     NaN                             NaN        119\n",
       "3411094          2014        NE     50022      SERFF           6  2014-01-21 11:24:32      50022  95-6042390        2004-01-01         2014-12-31  50022NE0010001   Rating Area 3  No Preference  33          999999                    NaN     NaN                               NaN                                NaN                                        NaN                    NaN                     NaN                             NaN        119\n",
       "3411093          2014        NE     50022      SERFF           6  2014-01-21 11:24:32      50022  95-6042390        2004-01-01         2014-12-31  50022NE0020002   Rating Area 3  No Preference  33          999999                    NaN     NaN                               NaN                                NaN                                        NaN                    NaN                     NaN                             NaN        119\n",
       "3411092          2014        NE     50022      SERFF           6  2014-01-21 11:24:32      50022  95-6042390        2004-01-01         2014-12-31  50022NE0010002   Rating Area 3  No Preference  33          999999                    NaN     NaN                               NaN                                NaN                                        NaN                    NaN                     NaN                             NaN        119\n",
       "3411091          2014        NE     50022      SERFF           6  2014-01-21 11:24:32      50022  95-6042390        2004-01-01         2014-12-31  50022NE0010002   Rating Area 3  No Preference  32          999999                    NaN     NaN                               NaN                                NaN                                        NaN                    NaN                     NaN                             NaN        118\n",
       "3411090          2014        NE     50022      SERFF           6  2014-01-21 11:24:32      50022  95-6042390        2004-01-01         2014-12-31  50022NE0020002   Rating Area 3  No Preference  32          999999                    NaN     NaN                               NaN                                NaN                                        NaN                    NaN                     NaN                             NaN        118\n",
       "3411166          2014        NE     50022      SERFF           6  2014-01-21 11:24:32      50022  95-6042390        2004-01-01         2014-12-31  50022NE0010001   Rating Area 3  No Preference  51          999999                    NaN     NaN                               NaN                                NaN                                        NaN                    NaN                     NaN                             NaN        137\n",
       "1261062          2014        IN     83557       HIOS           8  2014-01-21 08:29:49      83557  95-6042390        2014-01-01         2014-12-31  83557IN0010002   Rating Area 1  No Preference  23          999999                    NaN     NaN                               NaN                                NaN                                        NaN                    NaN                     NaN                             NaN         17\n",
       "\n",
       "[12694445 rows x 24 columns]"
      ]
     },
     "execution_count": 13,
     "metadata": {},
     "output_type": "execute_result"
    }
   ],
   "source": [
    "df.sort_values(by='IndividualRate') #na_position='first') # use na_position='first' to see the largest values in a long list"
   ]
  },
  {
   "cell_type": "markdown",
   "metadata": {},
   "source": [
    "We can fix the 0, 999999, etc, entries by specifying a list of NaN values before reading in the CSV file. We can also leave out some of the columns to save memory."
   ]
  },
  {
   "cell_type": "code",
   "execution_count": 14,
   "metadata": {
    "collapsed": false
   },
   "outputs": [],
   "source": [
    "na_values = ['NaN', 'N/A', '0', '0.01', '9999', '9999.99', '999999']\n",
    "df = pd.read_csv(\"Rate.csv\", na_values=na_values, usecols=['BusinessYear', 'StateCode', 'PlanId', 'RatingAreaId','Tobacco', 'Age', 'IndividualRate','IndividualTobaccoRate','Couple', 'PrimarySubscriberAndOneDependent', 'PrimarySubscriberAndTwoDependents', 'PrimarySubscriberAndThreeOrMoreDependents', 'CoupleAndOneDependent', 'CoupleAndTwoDependents', 'CoupleAndThreeOrMoreDependents'])"
   ]
  },
  {
   "cell_type": "markdown",
   "metadata": {},
   "source": [
    "Now we should get rid of duplicates within this reduced dataframe:"
   ]
  },
  {
   "cell_type": "code",
   "execution_count": 15,
   "metadata": {
    "collapsed": false
   },
   "outputs": [],
   "source": [
    "df = df.drop_duplicates().reset_index(drop=True)"
   ]
  },
  {
   "cell_type": "code",
   "execution_count": 16,
   "metadata": {
    "collapsed": false
   },
   "outputs": [
    {
     "data": {
      "text/plain": [
       "(12442241, 15)"
      ]
     },
     "execution_count": 16,
     "metadata": {},
     "output_type": "execute_result"
    }
   ],
   "source": [
    "df.shape"
   ]
  },
  {
   "cell_type": "markdown",
   "metadata": {},
   "source": [
    "**Third finding:** The raw dataset was quite clean already. Only about 250,000 rows in the dataframe contained (for our purposes) redundant data. \n",
    "\n",
    "For the further analysis, we will focus on 15 of the 24 columns."
   ]
  },
  {
   "cell_type": "markdown",
   "metadata": {},
   "source": [
    "## More data cleaning based on a first in-depth look at the data with some basic plots"
   ]
  },
  {
   "cell_type": "markdown",
   "metadata": {},
   "source": [
    "The data covers three consecutive years. Let's see how the years compare."
   ]
  },
  {
   "cell_type": "code",
   "execution_count": 17,
   "metadata": {
    "collapsed": false
   },
   "outputs": [
    {
     "data": {
      "text/plain": [
       "2015    4585265\n",
       "2016    4180939\n",
       "2014    3676037\n",
       "Name: BusinessYear, dtype: int64"
      ]
     },
     "execution_count": 17,
     "metadata": {},
     "output_type": "execute_result"
    }
   ],
   "source": [
    "df[\"BusinessYear\"].value_counts()"
   ]
  },
  {
   "cell_type": "markdown",
   "metadata": {},
   "source": [
    "The data seems to be more or less evenly distributed over the three years. Let's have a look at trends over the years."
   ]
  },
  {
   "cell_type": "code",
   "execution_count": 18,
   "metadata": {
    "collapsed": false
   },
   "outputs": [
    {
     "data": {
      "text/plain": [
       "<matplotlib.axes._subplots.AxesSubplot at 0x18d2d9978>"
      ]
     },
     "execution_count": 18,
     "metadata": {},
     "output_type": "execute_result"
    },
    {
     "data": {
      "image/png": "[encoded data removed]",
      "text/plain": [
       "<matplotlib.figure.Figure at 0x196ebe470>"
      ]
     },
     "metadata": {},
     "output_type": "display_data"
    }
   ],
   "source": [
    "#sns.violinplot(x=\"BusinessYear\", y=\"IndividualRate\", data=df)\n",
    "sns.boxplot(x=\"BusinessYear\", y=\"IndividualRate\", data=df)"
   ]
  },
  {
   "cell_type": "markdown",
   "metadata": {},
   "source": [
    "What's going on in 2014? These outliers make the boxchart unreadable. Let's break it down by states to narrow down the outliers. \n",
    "\n",
    "But first let's make sure that the output is in alphabetical order."
   ]
  },
  {
   "cell_type": "code",
   "execution_count": 19,
   "metadata": {
    "collapsed": false
   },
   "outputs": [],
   "source": [
    "Statelist = df['StateCode'].unique()\n",
    "Statelist = np.sort(Statelist)"
   ]
  },
  {
   "cell_type": "markdown",
   "metadata": {},
   "source": [
    "Now with this sorted list of state names, we can make a boxplot for all 34 states."
   ]
  },
  {
   "cell_type": "code",
   "execution_count": 20,
   "metadata": {
    "collapsed": false,
    "scrolled": false
   },
   "outputs": [
    {
     "data": {
      "text/plain": [
       "<matplotlib.axes._subplots.AxesSubplot at 0x19e111f98>"
      ]
     },
     "execution_count": 20,
     "metadata": {},
     "output_type": "execute_result"
    },
    {
     "data": {
      "image/png": "[encoded data removed]",
      "text/plain": [
       "<matplotlib.figure.Figure at 0x18d2e9cc0>"
      ]
     },
     "metadata": {},
     "output_type": "display_data"
    }
   ],
   "source": [
    "plt.figure(figsize=(15, 6))\n",
    "sns.set_style(\"whitegrid\")\n",
    "sns.boxplot(x=\"StateCode\", y=\"IndividualRate\", data=df, order=Statelist)"
   ]
  },
  {
   "cell_type": "markdown",
   "metadata": {},
   "source": [
    "What's going on in Virginia? It's this one state that's causing the outliers in the 2014 statistics. Let's look at VA in 2014 in more detail."
   ]
  },
  {
   "cell_type": "markdown",
   "metadata": {},
   "source": [
    "### The case of Virginia"
   ]
  },
  {
   "cell_type": "markdown",
   "metadata": {},
   "source": [
    "For the further exploration, it's convenient to split the dataframe into three separate dataframes."
   ]
  },
  {
   "cell_type": "code",
   "execution_count": 21,
   "metadata": {
    "collapsed": false
   },
   "outputs": [],
   "source": [
    "df2014 = df[df['BusinessYear'].isin([2014])].copy()\n",
    "df2015 = df[df['BusinessYear'].isin([2015])].copy()\n",
    "df2016 = df[df['BusinessYear'].isin([2016])].copy()"
   ]
  },
  {
   "cell_type": "code",
   "execution_count": 22,
   "metadata": {
    "collapsed": false
   },
   "outputs": [
    {
     "data": {
      "text/html": [
       "<div>\n",
       "<table border=\"1\" class=\"dataframe\">\n",
       "  <thead>\n",
       "    <tr style=\"text-align: right;\">\n",
       "      <th></th>\n",
       "      <th>BusinessYear</th>\n",
       "      <th>IndividualRate</th>\n",
       "      <th>IndividualTobaccoRate</th>\n",
       "      <th>Couple</th>\n",
       "      <th>PrimarySubscriberAndOneDependent</th>\n",
       "      <th>PrimarySubscriberAndTwoDependents</th>\n",
       "      <th>PrimarySubscriberAndThreeOrMoreDependents</th>\n",
       "      <th>CoupleAndOneDependent</th>\n",
       "      <th>CoupleAndTwoDependents</th>\n",
       "      <th>CoupleAndThreeOrMoreDependents</th>\n",
       "    </tr>\n",
       "  </thead>\n",
       "  <tbody>\n",
       "    <tr>\n",
       "      <th>count</th>\n",
       "      <td>3676037</td>\n",
       "      <td>3549143.000000</td>\n",
       "      <td>1601995.000000</td>\n",
       "      <td>9078.000000</td>\n",
       "      <td>9078.000000</td>\n",
       "      <td>9078.000000</td>\n",
       "      <td>9078.000000</td>\n",
       "      <td>9078.000000</td>\n",
       "      <td>9078.000000</td>\n",
       "      <td>9078.000000</td>\n",
       "    </tr>\n",
       "    <tr>\n",
       "      <th>mean</th>\n",
       "      <td>2014</td>\n",
       "      <td>317.420019</td>\n",
       "      <td>560.159229</td>\n",
       "      <td>48.318870</td>\n",
       "      <td>48.799154</td>\n",
       "      <td>68.371658</td>\n",
       "      <td>92.581684</td>\n",
       "      <td>71.081461</td>\n",
       "      <td>90.425835</td>\n",
       "      <td>114.622133</td>\n",
       "    </tr>\n",
       "    <tr>\n",
       "      <th>std</th>\n",
       "      <td>0</td>\n",
       "      <td>287.629720</td>\n",
       "      <td>334.529592</td>\n",
       "      <td>19.841312</td>\n",
       "      <td>18.060111</td>\n",
       "      <td>29.339670</td>\n",
       "      <td>45.725490</td>\n",
       "      <td>30.832572</td>\n",
       "      <td>42.059903</td>\n",
       "      <td>58.095334</td>\n",
       "    </tr>\n",
       "    <tr>\n",
       "      <th>min</th>\n",
       "      <td>2014</td>\n",
       "      <td>6.000000</td>\n",
       "      <td>55.660000</td>\n",
       "      <td>10.000000</td>\n",
       "      <td>10.000000</td>\n",
       "      <td>22.000000</td>\n",
       "      <td>22.000000</td>\n",
       "      <td>22.000000</td>\n",
       "      <td>22.000000</td>\n",
       "      <td>22.000000</td>\n",
       "    </tr>\n",
       "    <tr>\n",
       "      <th>25%</th>\n",
       "      <td>2014</td>\n",
       "      <td>32.880000</td>\n",
       "      <td>341.200000</td>\n",
       "      <td>31.570000</td>\n",
       "      <td>33.590000</td>\n",
       "      <td>44.460000</td>\n",
       "      <td>53.670000</td>\n",
       "      <td>48.452500</td>\n",
       "      <td>61.860000</td>\n",
       "      <td>73.900000</td>\n",
       "    </tr>\n",
       "    <tr>\n",
       "      <th>50%</th>\n",
       "      <td>2014</td>\n",
       "      <td>293.700000</td>\n",
       "      <td>475.960000</td>\n",
       "      <td>46.355000</td>\n",
       "      <td>47.735000</td>\n",
       "      <td>69.485000</td>\n",
       "      <td>96.300000</td>\n",
       "      <td>71.330000</td>\n",
       "      <td>93.490000</td>\n",
       "      <td>119.640000</td>\n",
       "    </tr>\n",
       "    <tr>\n",
       "      <th>75%</th>\n",
       "      <td>2014</td>\n",
       "      <td>460.940000</td>\n",
       "      <td>695.310000</td>\n",
       "      <td>60.360000</td>\n",
       "      <td>60.360000</td>\n",
       "      <td>87.470000</td>\n",
       "      <td>121.387500</td>\n",
       "      <td>90.937500</td>\n",
       "      <td>117.405000</td>\n",
       "      <td>151.345000</td>\n",
       "    </tr>\n",
       "    <tr>\n",
       "      <th>max</th>\n",
       "      <td>2014</td>\n",
       "      <td>5503.850000</td>\n",
       "      <td>6604.610000</td>\n",
       "      <td>182.400000</td>\n",
       "      <td>169.650000</td>\n",
       "      <td>248.110000</td>\n",
       "      <td>357.940000</td>\n",
       "      <td>260.850000</td>\n",
       "      <td>339.310000</td>\n",
       "      <td>449.140000</td>\n",
       "    </tr>\n",
       "  </tbody>\n",
       "</table>\n",
       "</div>"
      ],
      "text/plain": [
       "       BusinessYear  IndividualRate  IndividualTobaccoRate       Couple  PrimarySubscriberAndOneDependent  PrimarySubscriberAndTwoDependents  PrimarySubscriberAndThreeOrMoreDependents  CoupleAndOneDependent  CoupleAndTwoDependents  CoupleAndThreeOrMoreDependents\n",
       "count       3676037  3549143.000000         1601995.000000  9078.000000                       9078.000000                        9078.000000                                9078.000000            9078.000000             9078.000000                     9078.000000\n",
       "mean           2014      317.420019             560.159229    48.318870                         48.799154                          68.371658                                  92.581684              71.081461               90.425835                      114.622133\n",
       "std               0      287.629720             334.529592    19.841312                         18.060111                          29.339670                                  45.725490              30.832572               42.059903                       58.095334\n",
       "min            2014        6.000000              55.660000    10.000000                         10.000000                          22.000000                                  22.000000              22.000000               22.000000                       22.000000\n",
       "25%            2014       32.880000             341.200000    31.570000                         33.590000                          44.460000                                  53.670000              48.452500               61.860000                       73.900000\n",
       "50%            2014      293.700000             475.960000    46.355000                         47.735000                          69.485000                                  96.300000              71.330000               93.490000                      119.640000\n",
       "75%            2014      460.940000             695.310000    60.360000                         60.360000                          87.470000                                 121.387500              90.937500              117.405000                      151.345000\n",
       "max            2014     5503.850000            6604.610000   182.400000                        169.650000                         248.110000                                 357.940000             260.850000              339.310000                      449.140000"
      ]
     },
     "execution_count": 22,
     "metadata": {},
     "output_type": "execute_result"
    }
   ],
   "source": [
    "df2014.describe()"
   ]
  },
  {
   "cell_type": "markdown",
   "metadata": {},
   "source": [
    "The 2014 data looks similar to the 2014-1016 dataset. But with just 1/3 of the rows it's much easier to handle."
   ]
  },
  {
   "cell_type": "code",
   "execution_count": 23,
   "metadata": {
    "collapsed": false,
    "scrolled": false
   },
   "outputs": [
    {
     "data": {
      "text/plain": [
       "<matplotlib.axes._subplots.AxesSubplot at 0x10ff65320>"
      ]
     },
     "execution_count": 23,
     "metadata": {},
     "output_type": "execute_result"
    },
    {
     "data": {
      "image/png": "[encoded data removed]",
      "text/plain": [
       "<matplotlib.figure.Figure at 0x10f5b7470>"
      ]
     },
     "metadata": {},
     "output_type": "display_data"
    }
   ],
   "source": [
    "plt.figure(figsize=(15, 6))\n",
    "sns.set_style(\"whitegrid\")\n",
    "sns.boxplot(x=\"StateCode\", y=\"IndividualRate\", data=df2014, order=Statelist)"
   ]
  },
  {
   "cell_type": "markdown",
   "metadata": {},
   "source": [
    "Now we should look at Virginia in more detail. Working with the data gets much more pleasant when we create a separate Virginia 2014 dataframe: "
   ]
  },
  {
   "cell_type": "code",
   "execution_count": 24,
   "metadata": {
    "collapsed": true
   },
   "outputs": [],
   "source": [
    "df2014_va = df2014[df2014['StateCode'].isin(['VA'])].copy()"
   ]
  },
  {
   "cell_type": "code",
   "execution_count": 25,
   "metadata": {
    "collapsed": false
   },
   "outputs": [
    {
     "data": {
      "text/plain": [
       "(119574, 15)"
      ]
     },
     "execution_count": 25,
     "metadata": {},
     "output_type": "execute_result"
    }
   ],
   "source": [
    "df2014_va.shape"
   ]
  },
  {
   "cell_type": "code",
   "execution_count": 26,
   "metadata": {
    "collapsed": false,
    "scrolled": true
   },
   "outputs": [
    {
     "data": {
      "text/html": [
       "<div>\n",
       "<table border=\"1\" class=\"dataframe\">\n",
       "  <thead>\n",
       "    <tr style=\"text-align: right;\">\n",
       "      <th></th>\n",
       "      <th>BusinessYear</th>\n",
       "      <th>IndividualRate</th>\n",
       "      <th>IndividualTobaccoRate</th>\n",
       "      <th>Couple</th>\n",
       "      <th>PrimarySubscriberAndOneDependent</th>\n",
       "      <th>PrimarySubscriberAndTwoDependents</th>\n",
       "      <th>PrimarySubscriberAndThreeOrMoreDependents</th>\n",
       "      <th>CoupleAndOneDependent</th>\n",
       "      <th>CoupleAndTwoDependents</th>\n",
       "      <th>CoupleAndThreeOrMoreDependents</th>\n",
       "    </tr>\n",
       "  </thead>\n",
       "  <tbody>\n",
       "    <tr>\n",
       "      <th>count</th>\n",
       "      <td>119574</td>\n",
       "      <td>115254.000000</td>\n",
       "      <td>61318.000000</td>\n",
       "      <td>270.000000</td>\n",
       "      <td>270.000000</td>\n",
       "      <td>270.000000</td>\n",
       "      <td>270.000000</td>\n",
       "      <td>270.000000</td>\n",
       "      <td>270.000000</td>\n",
       "      <td>270.000000</td>\n",
       "    </tr>\n",
       "    <tr>\n",
       "      <th>mean</th>\n",
       "      <td>2014</td>\n",
       "      <td>396.495291</td>\n",
       "      <td>768.124408</td>\n",
       "      <td>46.957630</td>\n",
       "      <td>48.706185</td>\n",
       "      <td>63.087185</td>\n",
       "      <td>79.605333</td>\n",
       "      <td>67.665704</td>\n",
       "      <td>82.046667</td>\n",
       "      <td>98.564593</td>\n",
       "    </tr>\n",
       "    <tr>\n",
       "      <th>std</th>\n",
       "      <td>0</td>\n",
       "      <td>613.186797</td>\n",
       "      <td>863.353308</td>\n",
       "      <td>17.501699</td>\n",
       "      <td>20.158233</td>\n",
       "      <td>28.306539</td>\n",
       "      <td>40.991590</td>\n",
       "      <td>34.949403</td>\n",
       "      <td>43.313799</td>\n",
       "      <td>55.020378</td>\n",
       "    </tr>\n",
       "    <tr>\n",
       "      <th>min</th>\n",
       "      <td>2014</td>\n",
       "      <td>10.010000</td>\n",
       "      <td>63.390000</td>\n",
       "      <td>25.350000</td>\n",
       "      <td>25.350000</td>\n",
       "      <td>25.350000</td>\n",
       "      <td>25.350000</td>\n",
       "      <td>25.350000</td>\n",
       "      <td>25.350000</td>\n",
       "      <td>25.350000</td>\n",
       "    </tr>\n",
       "    <tr>\n",
       "      <th>25%</th>\n",
       "      <td>2014</td>\n",
       "      <td>31.840000</td>\n",
       "      <td>335.602500</td>\n",
       "      <td>31.180000</td>\n",
       "      <td>31.180000</td>\n",
       "      <td>31.180000</td>\n",
       "      <td>31.180000</td>\n",
       "      <td>31.180000</td>\n",
       "      <td>31.180000</td>\n",
       "      <td>31.180000</td>\n",
       "    </tr>\n",
       "    <tr>\n",
       "      <th>50%</th>\n",
       "      <td>2014</td>\n",
       "      <td>256.845000</td>\n",
       "      <td>473.315000</td>\n",
       "      <td>47.760000</td>\n",
       "      <td>47.370000</td>\n",
       "      <td>70.100000</td>\n",
       "      <td>91.605000</td>\n",
       "      <td>71.315000</td>\n",
       "      <td>94.760000</td>\n",
       "      <td>117.590000</td>\n",
       "    </tr>\n",
       "    <tr>\n",
       "      <th>75%</th>\n",
       "      <td>2014</td>\n",
       "      <td>460.087500</td>\n",
       "      <td>768.180000</td>\n",
       "      <td>59.290000</td>\n",
       "      <td>60.895000</td>\n",
       "      <td>85.370000</td>\n",
       "      <td>111.625000</td>\n",
       "      <td>92.137500</td>\n",
       "      <td>117.012500</td>\n",
       "      <td>141.272500</td>\n",
       "    </tr>\n",
       "    <tr>\n",
       "      <th>max</th>\n",
       "      <td>2014</td>\n",
       "      <td>5503.850000</td>\n",
       "      <td>6604.610000</td>\n",
       "      <td>86.750000</td>\n",
       "      <td>107.170000</td>\n",
       "      <td>112.280000</td>\n",
       "      <td>149.040000</td>\n",
       "      <td>151.120000</td>\n",
       "      <td>151.120000</td>\n",
       "      <td>187.810000</td>\n",
       "    </tr>\n",
       "  </tbody>\n",
       "</table>\n",
       "</div>"
      ],
      "text/plain": [
       "       BusinessYear  IndividualRate  IndividualTobaccoRate      Couple  PrimarySubscriberAndOneDependent  PrimarySubscriberAndTwoDependents  PrimarySubscriberAndThreeOrMoreDependents  CoupleAndOneDependent  CoupleAndTwoDependents  CoupleAndThreeOrMoreDependents\n",
       "count        119574   115254.000000           61318.000000  270.000000                        270.000000                         270.000000                                 270.000000             270.000000              270.000000                      270.000000\n",
       "mean           2014      396.495291             768.124408   46.957630                         48.706185                          63.087185                                  79.605333              67.665704               82.046667                       98.564593\n",
       "std               0      613.186797             863.353308   17.501699                         20.158233                          28.306539                                  40.991590              34.949403               43.313799                       55.020378\n",
       "min            2014       10.010000              63.390000   25.350000                         25.350000                          25.350000                                  25.350000              25.350000               25.350000                       25.350000\n",
       "25%            2014       31.840000             335.602500   31.180000                         31.180000                          31.180000                                  31.180000              31.180000               31.180000                       31.180000\n",
       "50%            2014      256.845000             473.315000   47.760000                         47.370000                          70.100000                                  91.605000              71.315000               94.760000                      117.590000\n",
       "75%            2014      460.087500             768.180000   59.290000                         60.895000                          85.370000                                 111.625000              92.137500              117.012500                      141.272500\n",
       "max            2014     5503.850000            6604.610000   86.750000                        107.170000                         112.280000                                 149.040000             151.120000              151.120000                      187.810000"
      ]
     },
     "execution_count": 26,
     "metadata": {},
     "output_type": "execute_result"
    }
   ],
   "source": [
    "df2014_va.describe()"
   ]
  },
  {
   "cell_type": "markdown",
   "metadata": {},
   "source": [
    "Maybe the ridiculously high rates are for old individuals. We should plot the plan costs by category 'Age' to see how prices compare across the individuals' ages. \n",
    "\n",
    "We have to exclude the \"Family Option\" rates first, since they are also a category of the 'Age' column."
   ]
  },
  {
   "cell_type": "code",
   "execution_count": 27,
   "metadata": {
    "collapsed": false,
    "scrolled": true
   },
   "outputs": [
    {
     "data": {
      "text/plain": [
       "(46,\n",
       " ['0-20',\n",
       "  '21',\n",
       "  '22',\n",
       "  '23',\n",
       "  '24',\n",
       "  '25',\n",
       "  '26',\n",
       "  '27',\n",
       "  '28',\n",
       "  '29',\n",
       "  '30',\n",
       "  '31',\n",
       "  '32',\n",
       "  '33',\n",
       "  '34',\n",
       "  '35',\n",
       "  '36',\n",
       "  '37',\n",
       "  '38',\n",
       "  '39',\n",
       "  '40',\n",
       "  '41',\n",
       "  '42',\n",
       "  '43',\n",
       "  '44',\n",
       "  '45',\n",
       "  '46',\n",
       "  '47',\n",
       "  '48',\n",
       "  '49',\n",
       "  '50',\n",
       "  '51',\n",
       "  '52',\n",
       "  '53',\n",
       "  '54',\n",
       "  '55',\n",
       "  '56',\n",
       "  '57',\n",
       "  '58',\n",
       "  '59',\n",
       "  '60',\n",
       "  '61',\n",
       "  '62',\n",
       "  '63',\n",
       "  '64',\n",
       "  '65+'])"
      ]
     },
     "execution_count": 27,
     "metadata": {},
     "output_type": "execute_result"
    }
   ],
   "source": [
    "exclude_list = df2014_va['Age'].isin(['Family Option'])\n",
    "df2014_va_wofamily = df2014_va[~exclude_list]\n",
    "age_labels = df2014_va_wofamily['Age'].unique()\n",
    "age_labels = ['65+' if x=='65 and over' else x for x in age_labels]  #replace label '65 and over' with '65+' for plot labels\n",
    "len(age_labels), age_labels"
   ]
  },
  {
   "cell_type": "markdown",
   "metadata": {},
   "source": [
    "Now we can make a boxplot for each age group."
   ]
  },
  {
   "cell_type": "code",
   "execution_count": 28,
   "metadata": {
    "collapsed": false,
    "scrolled": false
   },
   "outputs": [
    {
     "data": {
      "image/png": "[encoded data removed]",
      "text/plain": [
       "<matplotlib.figure.Figure at 0x114f118d0>"
      ]
     },
     "metadata": {},
     "output_type": "display_data"
    }
   ],
   "source": [
    "fig = plt.figure(figsize=(15, 6))\n",
    "sns.set_style(\"whitegrid\")\n",
    "\n",
    "fig.suptitle('Rates offered through Healthcare.gov in 2014 in Virginia', fontsize=14)\n",
    "\n",
    "ax = sns.boxplot(x=\"Age\", y=\"IndividualRate\", data=df2014_va_wofamily, linewidth=1.0, fliersize=2.0)\n",
    "ax.set_ylabel(\"Monthly rate in USD\")\n",
    "\n",
    "# Customize x tick lables\n",
    "xticks = np.arange(46)\n",
    "ax.xaxis.set_ticks(xticks)\n",
    "ax.set_xticklabels(age_labels)\n",
    "\n",
    "plt.savefig('Virginia_rates_by_age.png', bbox_inches='tight', dpi=150)"
   ]
  },
  {
   "cell_type": "markdown",
   "metadata": {},
   "source": [
    "**Fourth finding:** The large spread in premiums in Virginia is real. After some internet research it turns out that the wide range in monthly premiums in Virginia is due to plans covering gastric bypasses! In all other states, this type of surgery is covered by all plans, so the cost for these surgeries is distributed among all payees (http://www.webmd.com/health-insurance/20131011/why-some-virginia-health-plans-cost-so-much)."
   ]
  },
  {
   "cell_type": "markdown",
   "metadata": {},
   "source": [
    "What about the really low premiums in Montana? Let's look into that."
   ]
  },
  {
   "cell_type": "markdown",
   "metadata": {},
   "source": [
    "### The case of Montana"
   ]
  },
  {
   "cell_type": "markdown",
   "metadata": {},
   "source": [
    "We should create a small df for Montana 2014 to ease the exploration process"
   ]
  },
  {
   "cell_type": "code",
   "execution_count": 29,
   "metadata": {
    "collapsed": true
   },
   "outputs": [],
   "source": [
    "df2014_mo = df2014[df2014['StateCode'].isin(['MO'])].copy()"
   ]
  },
  {
   "cell_type": "markdown",
   "metadata": {},
   "source": [
    "Montana seem to have a large number of plans with rates <$100. Let's look at a histogram:"
   ]
  },
  {
   "cell_type": "code",
   "execution_count": 30,
   "metadata": {
    "collapsed": false
   },
   "outputs": [
    {
     "data": {
      "text/plain": [
       "<matplotlib.axes._subplots.AxesSubplot at 0x114f11400>"
      ]
     },
     "execution_count": 30,
     "metadata": {},
     "output_type": "execute_result"
    },
    {
     "data": {
      "image/png": "[encoded data removed]",
      "text/plain": [
       "<matplotlib.figure.Figure at 0x114f015c0>"
      ]
     },
     "metadata": {},
     "output_type": "display_data"
    }
   ],
   "source": [
    "df2014_mo['IndividualRate'].plot.hist(50)"
   ]
  },
  {
   "cell_type": "markdown",
   "metadata": {},
   "source": [
    "These low-cost plans make up the majority of plans, actually."
   ]
  },
  {
   "cell_type": "code",
   "execution_count": 31,
   "metadata": {
    "collapsed": false,
    "scrolled": true
   },
   "outputs": [
    {
     "data": {
      "text/plain": [
       "<matplotlib.axes._subplots.AxesSubplot at 0x112fe0e10>"
      ]
     },
     "execution_count": 31,
     "metadata": {},
     "output_type": "execute_result"
    },
    {
     "data": {
      "image/png": "[encoded data removed]",
      "text/plain": [
       "<matplotlib.figure.Figure at 0x112f46198>"
      ]
     },
     "metadata": {},
     "output_type": "display_data"
    }
   ],
   "source": [
    "df2014_mo['IndividualRate'].plot.hist(50, range=(0, 50))"
   ]
  },
  {
   "cell_type": "markdown",
   "metadata": {},
   "source": [
    "What's going on with these plans? Let's look at a summary of the Montana 2014 dataframe:"
   ]
  },
  {
   "cell_type": "code",
   "execution_count": 32,
   "metadata": {
    "collapsed": false,
    "scrolled": true
   },
   "outputs": [
    {
     "data": {
      "text/html": [
       "<div>\n",
       "<table border=\"1\" class=\"dataframe\">\n",
       "  <thead>\n",
       "    <tr style=\"text-align: right;\">\n",
       "      <th></th>\n",
       "      <th>BusinessYear</th>\n",
       "      <th>IndividualRate</th>\n",
       "      <th>IndividualTobaccoRate</th>\n",
       "      <th>Couple</th>\n",
       "      <th>PrimarySubscriberAndOneDependent</th>\n",
       "      <th>PrimarySubscriberAndTwoDependents</th>\n",
       "      <th>PrimarySubscriberAndThreeOrMoreDependents</th>\n",
       "      <th>CoupleAndOneDependent</th>\n",
       "      <th>CoupleAndTwoDependents</th>\n",
       "      <th>CoupleAndThreeOrMoreDependents</th>\n",
       "    </tr>\n",
       "  </thead>\n",
       "  <tbody>\n",
       "    <tr>\n",
       "      <th>count</th>\n",
       "      <td>40618</td>\n",
       "      <td>37018.000000</td>\n",
       "      <td>12512.000000</td>\n",
       "      <td>230.000000</td>\n",
       "      <td>230.000000</td>\n",
       "      <td>230.000000</td>\n",
       "      <td>230.000000</td>\n",
       "      <td>230.000000</td>\n",
       "      <td>230.000000</td>\n",
       "      <td>230.000000</td>\n",
       "    </tr>\n",
       "    <tr>\n",
       "      <th>mean</th>\n",
       "      <td>2014</td>\n",
       "      <td>157.784407</td>\n",
       "      <td>483.698700</td>\n",
       "      <td>49.273913</td>\n",
       "      <td>50.552304</td>\n",
       "      <td>72.199000</td>\n",
       "      <td>99.969522</td>\n",
       "      <td>76.618478</td>\n",
       "      <td>98.264826</td>\n",
       "      <td>126.035652</td>\n",
       "    </tr>\n",
       "    <tr>\n",
       "      <th>std</th>\n",
       "      <td>0</td>\n",
       "      <td>207.228153</td>\n",
       "      <td>234.649054</td>\n",
       "      <td>11.172008</td>\n",
       "      <td>10.261092</td>\n",
       "      <td>16.476146</td>\n",
       "      <td>29.757290</td>\n",
       "      <td>15.987663</td>\n",
       "      <td>20.807315</td>\n",
       "      <td>32.921070</td>\n",
       "    </tr>\n",
       "    <tr>\n",
       "      <th>min</th>\n",
       "      <td>2014</td>\n",
       "      <td>16.140000</td>\n",
       "      <td>68.220000</td>\n",
       "      <td>32.280000</td>\n",
       "      <td>31.760000</td>\n",
       "      <td>44.350000</td>\n",
       "      <td>44.350000</td>\n",
       "      <td>47.900000</td>\n",
       "      <td>63.510000</td>\n",
       "      <td>70.210000</td>\n",
       "    </tr>\n",
       "    <tr>\n",
       "      <th>25%</th>\n",
       "      <td>2014</td>\n",
       "      <td>23.190000</td>\n",
       "      <td>314.490000</td>\n",
       "      <td>40.555000</td>\n",
       "      <td>43.200000</td>\n",
       "      <td>60.295000</td>\n",
       "      <td>79.712500</td>\n",
       "      <td>64.912500</td>\n",
       "      <td>82.810000</td>\n",
       "      <td>101.420000</td>\n",
       "    </tr>\n",
       "    <tr>\n",
       "      <th>50%</th>\n",
       "      <td>2014</td>\n",
       "      <td>32.050000</td>\n",
       "      <td>418.125000</td>\n",
       "      <td>48.610000</td>\n",
       "      <td>50.170000</td>\n",
       "      <td>70.475000</td>\n",
       "      <td>100.670000</td>\n",
       "      <td>75.050000</td>\n",
       "      <td>96.050000</td>\n",
       "      <td>123.935000</td>\n",
       "    </tr>\n",
       "    <tr>\n",
       "      <th>75%</th>\n",
       "      <td>2014</td>\n",
       "      <td>265.477500</td>\n",
       "      <td>608.855000</td>\n",
       "      <td>55.130000</td>\n",
       "      <td>56.425000</td>\n",
       "      <td>82.935000</td>\n",
       "      <td>116.547500</td>\n",
       "      <td>85.395000</td>\n",
       "      <td>110.420000</td>\n",
       "      <td>143.427500</td>\n",
       "    </tr>\n",
       "    <tr>\n",
       "      <th>max</th>\n",
       "      <td>2014</td>\n",
       "      <td>1170.570000</td>\n",
       "      <td>1463.190000</td>\n",
       "      <td>80.970000</td>\n",
       "      <td>80.160000</td>\n",
       "      <td>119.880000</td>\n",
       "      <td>179.450000</td>\n",
       "      <td>120.680000</td>\n",
       "      <td>160.400000</td>\n",
       "      <td>219.980000</td>\n",
       "    </tr>\n",
       "  </tbody>\n",
       "</table>\n",
       "</div>"
      ],
      "text/plain": [
       "       BusinessYear  IndividualRate  IndividualTobaccoRate      Couple  PrimarySubscriberAndOneDependent  PrimarySubscriberAndTwoDependents  PrimarySubscriberAndThreeOrMoreDependents  CoupleAndOneDependent  CoupleAndTwoDependents  CoupleAndThreeOrMoreDependents\n",
       "count         40618    37018.000000           12512.000000  230.000000                        230.000000                         230.000000                                 230.000000             230.000000              230.000000                      230.000000\n",
       "mean           2014      157.784407             483.698700   49.273913                         50.552304                          72.199000                                  99.969522              76.618478               98.264826                      126.035652\n",
       "std               0      207.228153             234.649054   11.172008                         10.261092                          16.476146                                  29.757290              15.987663               20.807315                       32.921070\n",
       "min            2014       16.140000              68.220000   32.280000                         31.760000                          44.350000                                  44.350000              47.900000               63.510000                       70.210000\n",
       "25%            2014       23.190000             314.490000   40.555000                         43.200000                          60.295000                                  79.712500              64.912500               82.810000                      101.420000\n",
       "50%            2014       32.050000             418.125000   48.610000                         50.170000                          70.475000                                 100.670000              75.050000               96.050000                      123.935000\n",
       "75%            2014      265.477500             608.855000   55.130000                         56.425000                          82.935000                                 116.547500              85.395000              110.420000                      143.427500\n",
       "max            2014     1170.570000            1463.190000   80.970000                         80.160000                         119.880000                                 179.450000             120.680000              160.400000                      219.980000"
      ]
     },
     "execution_count": 32,
     "metadata": {},
     "output_type": "execute_result"
    }
   ],
   "source": [
    "df2014_mo.describe()"
   ]
  },
  {
   "cell_type": "markdown",
   "metadata": {},
   "source": [
    "It's interesting that all couple/family plans have a price range comparable to the low-price bump in the individual rates."
   ]
  },
  {
   "cell_type": "code",
   "execution_count": 33,
   "metadata": {
    "collapsed": false,
    "scrolled": true
   },
   "outputs": [
    {
     "data": {
      "text/html": [
       "<div>\n",
       "<table border=\"1\" class=\"dataframe\">\n",
       "  <thead>\n",
       "    <tr style=\"text-align: right;\">\n",
       "      <th></th>\n",
       "      <th>BusinessYear</th>\n",
       "      <th>StateCode</th>\n",
       "      <th>PlanId</th>\n",
       "      <th>RatingAreaId</th>\n",
       "      <th>Tobacco</th>\n",
       "      <th>Age</th>\n",
       "      <th>IndividualRate</th>\n",
       "      <th>IndividualTobaccoRate</th>\n",
       "      <th>Couple</th>\n",
       "      <th>PrimarySubscriberAndOneDependent</th>\n",
       "      <th>PrimarySubscriberAndTwoDependents</th>\n",
       "      <th>PrimarySubscriberAndThreeOrMoreDependents</th>\n",
       "      <th>CoupleAndOneDependent</th>\n",
       "      <th>CoupleAndTwoDependents</th>\n",
       "      <th>CoupleAndThreeOrMoreDependents</th>\n",
       "    </tr>\n",
       "  </thead>\n",
       "  <tbody>\n",
       "    <tr>\n",
       "      <th>1289292</th>\n",
       "      <td>2014</td>\n",
       "      <td>MO</td>\n",
       "      <td>29416MO0010001</td>\n",
       "      <td>Rating Area 1</td>\n",
       "      <td>No Preference</td>\n",
       "      <td>0-20</td>\n",
       "      <td>24.48</td>\n",
       "      <td>NaN</td>\n",
       "      <td>NaN</td>\n",
       "      <td>NaN</td>\n",
       "      <td>NaN</td>\n",
       "      <td>NaN</td>\n",
       "      <td>NaN</td>\n",
       "      <td>NaN</td>\n",
       "      <td>NaN</td>\n",
       "    </tr>\n",
       "    <tr>\n",
       "      <th>1289293</th>\n",
       "      <td>2014</td>\n",
       "      <td>MO</td>\n",
       "      <td>29416MO0010002</td>\n",
       "      <td>Rating Area 1</td>\n",
       "      <td>No Preference</td>\n",
       "      <td>0-20</td>\n",
       "      <td>20.12</td>\n",
       "      <td>NaN</td>\n",
       "      <td>NaN</td>\n",
       "      <td>NaN</td>\n",
       "      <td>NaN</td>\n",
       "      <td>NaN</td>\n",
       "      <td>NaN</td>\n",
       "      <td>NaN</td>\n",
       "      <td>NaN</td>\n",
       "    </tr>\n",
       "    <tr>\n",
       "      <th>1289294</th>\n",
       "      <td>2014</td>\n",
       "      <td>MO</td>\n",
       "      <td>29416MO0020001</td>\n",
       "      <td>Rating Area 1</td>\n",
       "      <td>No Preference</td>\n",
       "      <td>0-20</td>\n",
       "      <td>30.61</td>\n",
       "      <td>NaN</td>\n",
       "      <td>NaN</td>\n",
       "      <td>NaN</td>\n",
       "      <td>NaN</td>\n",
       "      <td>NaN</td>\n",
       "      <td>NaN</td>\n",
       "      <td>NaN</td>\n",
       "      <td>NaN</td>\n",
       "    </tr>\n",
       "    <tr>\n",
       "      <th>1289295</th>\n",
       "      <td>2014</td>\n",
       "      <td>MO</td>\n",
       "      <td>29416MO0020002</td>\n",
       "      <td>Rating Area 1</td>\n",
       "      <td>No Preference</td>\n",
       "      <td>0-20</td>\n",
       "      <td>25.15</td>\n",
       "      <td>NaN</td>\n",
       "      <td>NaN</td>\n",
       "      <td>NaN</td>\n",
       "      <td>NaN</td>\n",
       "      <td>NaN</td>\n",
       "      <td>NaN</td>\n",
       "      <td>NaN</td>\n",
       "      <td>NaN</td>\n",
       "    </tr>\n",
       "    <tr>\n",
       "      <th>1289296</th>\n",
       "      <td>2014</td>\n",
       "      <td>MO</td>\n",
       "      <td>29416MO0010003</td>\n",
       "      <td>Rating Area 1</td>\n",
       "      <td>No Preference</td>\n",
       "      <td>Family Option</td>\n",
       "      <td>26.37</td>\n",
       "      <td>NaN</td>\n",
       "      <td>52.74</td>\n",
       "      <td>50.89</td>\n",
       "      <td>75.42</td>\n",
       "      <td>109.75</td>\n",
       "      <td>77.26</td>\n",
       "      <td>101.79</td>\n",
       "      <td>136.12</td>\n",
       "    </tr>\n",
       "  </tbody>\n",
       "</table>\n",
       "</div>"
      ],
      "text/plain": [
       "         BusinessYear StateCode          PlanId   RatingAreaId        Tobacco            Age  IndividualRate  IndividualTobaccoRate  Couple  PrimarySubscriberAndOneDependent  PrimarySubscriberAndTwoDependents  PrimarySubscriberAndThreeOrMoreDependents  CoupleAndOneDependent  CoupleAndTwoDependents  CoupleAndThreeOrMoreDependents\n",
       "1289292          2014        MO  29416MO0010001  Rating Area 1  No Preference           0-20           24.48                    NaN     NaN                               NaN                                NaN                                        NaN                    NaN                     NaN                             NaN\n",
       "1289293          2014        MO  29416MO0010002  Rating Area 1  No Preference           0-20           20.12                    NaN     NaN                               NaN                                NaN                                        NaN                    NaN                     NaN                             NaN\n",
       "1289294          2014        MO  29416MO0020001  Rating Area 1  No Preference           0-20           30.61                    NaN     NaN                               NaN                                NaN                                        NaN                    NaN                     NaN                             NaN\n",
       "1289295          2014        MO  29416MO0020002  Rating Area 1  No Preference           0-20           25.15                    NaN     NaN                               NaN                                NaN                                        NaN                    NaN                     NaN                             NaN\n",
       "1289296          2014        MO  29416MO0010003  Rating Area 1  No Preference  Family Option           26.37                    NaN   52.74                             50.89                              75.42                                     109.75                  77.26                  101.79                          136.12"
      ]
     },
     "execution_count": 33,
     "metadata": {},
     "output_type": "execute_result"
    }
   ],
   "source": [
    "df2014_mo.head()"
   ]
  },
  {
   "cell_type": "markdown",
   "metadata": {},
   "source": [
    "** Fifth finding:** The low-cost plans are actually dental-only plans. We should exclude them if we want to say anything about health insurance premiums.\n",
    "\n",
    "We can read in another CSV file that can give us some insights on which is which."
   ]
  },
  {
   "cell_type": "markdown",
   "metadata": {},
   "source": [
    "### Distinguishing between full plans and dental-only plans"
   ]
  },
  {
   "cell_type": "markdown",
   "metadata": {},
   "source": [
    "The CSV file PlanAttributes.csv contains benefits, copays, deductibles and many more details of the individual health insurance plans. The file also lists full health insurance plans and dental-only plans. This is what we have to use to clean our dataset."
   ]
  },
  {
   "cell_type": "code",
   "execution_count": 34,
   "metadata": {
    "collapsed": false
   },
   "outputs": [
    {
     "name": "stderr",
     "output_type": "stream",
     "text": [
      "/Users/akuepper/anaconda/lib/python3.5/site-packages/IPython/core/interactiveshell.py:2723: DtypeWarning: Columns (0,7,8,9,10,11,12,13,14,15,18,19,20,22,23,24,25,26,27,28,29,31,32,33,34,39,40,41,42,66,67,68,70,71,72,75,76,77,79,80,81,82,84,85,86,88,89,90,92,93,94,96,97,98,136,137,138,140,141,142,145,146,147,150,151,152,154,155,156,158,159,160,162,163,164,166,167,168) have mixed types. Specify dtype option on import or set low_memory=False.\n",
      "  interactivity=interactivity, compiler=compiler, result=result)\n"
     ]
    }
   ],
   "source": [
    "na_values = ['NaN', 'N/A', '0', '']\n",
    "dental = pd.read_csv(\"PlanAttributes.csv\", na_values=na_values)"
   ]
  },
  {
   "cell_type": "code",
   "execution_count": 35,
   "metadata": {
    "collapsed": false
   },
   "outputs": [
    {
     "data": {
      "text/plain": [
       "(77353, 176)"
      ]
     },
     "execution_count": 35,
     "metadata": {},
     "output_type": "execute_result"
    }
   ],
   "source": [
    "dental.shape"
   ]
  },
  {
   "cell_type": "code",
   "execution_count": 36,
   "metadata": {
    "collapsed": false
   },
   "outputs": [
    {
     "data": {
      "text/plain": [
       "Index(['AVCalculatorOutputNumber', 'BeginPrimaryCareCostSharingAfterNumberOfVisits', 'BeginPrimaryCareDeductibleCoinsuranceAfterNumberOfCopays', 'BenefitPackageId', 'BusinessYear', 'CSRVariationType', 'ChildOnlyOffering', 'ChildOnlyPlanId', 'CompositeRatingOffered', 'DEHBCombInnOonFamilyMOOP',\n",
       "       ...\n",
       "       'TEHBOutOfNetFamilyMOOP', 'TEHBOutOfNetFamilyPerGroupMOOP', 'TEHBOutOfNetFamilyPerPersonMOOP', 'TEHBOutOfNetIndividualMOOP', 'TIN', 'URLForEnrollmentPayment', 'URLForSummaryofBenefitsCoverage', 'UniquePlanDesign', 'VersionNum', 'WellnessProgramOffered'], dtype='object', length=176)"
      ]
     },
     "execution_count": 36,
     "metadata": {},
     "output_type": "execute_result"
    }
   ],
   "source": [
    "dental.columns"
   ]
  },
  {
   "cell_type": "code",
   "execution_count": 37,
   "metadata": {
    "collapsed": false,
    "scrolled": true
   },
   "outputs": [
    {
     "data": {
      "text/html": [
       "<div>\n",
       "<table border=\"1\" class=\"dataframe\">\n",
       "  <thead>\n",
       "    <tr style=\"text-align: right;\">\n",
       "      <th></th>\n",
       "      <th>AVCalculatorOutputNumber</th>\n",
       "      <th>BeginPrimaryCareCostSharingAfterNumberOfVisits</th>\n",
       "      <th>BeginPrimaryCareDeductibleCoinsuranceAfterNumberOfCopays</th>\n",
       "      <th>BenefitPackageId</th>\n",
       "      <th>BusinessYear</th>\n",
       "      <th>CSRVariationType</th>\n",
       "      <th>ChildOnlyOffering</th>\n",
       "      <th>ChildOnlyPlanId</th>\n",
       "      <th>CompositeRatingOffered</th>\n",
       "      <th>DEHBCombInnOonFamilyMOOP</th>\n",
       "      <th>DEHBCombInnOonFamilyPerGroupMOOP</th>\n",
       "      <th>DEHBCombInnOonFamilyPerPersonMOOP</th>\n",
       "      <th>DEHBCombInnOonIndividualMOOP</th>\n",
       "      <th>DEHBDedCombInnOonFamily</th>\n",
       "      <th>DEHBDedCombInnOonFamilyPerGroup</th>\n",
       "      <th>DEHBDedCombInnOonFamilyPerPerson</th>\n",
       "      <th>DEHBDedCombInnOonIndividual</th>\n",
       "      <th>DEHBDedInnTier1Coinsurance</th>\n",
       "      <th>DEHBDedInnTier1Family</th>\n",
       "      <th>DEHBDedInnTier1FamilyPerGroup</th>\n",
       "      <th>DEHBDedInnTier1FamilyPerPerson</th>\n",
       "      <th>DEHBDedInnTier1Individual</th>\n",
       "      <th>DEHBDedInnTier2Coinsurance</th>\n",
       "      <th>DEHBDedInnTier2Family</th>\n",
       "      <th>DEHBDedInnTier2FamilyPerGroup</th>\n",
       "      <th>DEHBDedInnTier2FamilyPerPerson</th>\n",
       "      <th>DEHBDedInnTier2Individual</th>\n",
       "      <th>DEHBDedOutOfNetFamily</th>\n",
       "      <th>DEHBDedOutOfNetFamilyPerGroup</th>\n",
       "      <th>DEHBDedOutOfNetFamilyPerPerson</th>\n",
       "      <th>DEHBDedOutOfNetIndividual</th>\n",
       "      <th>DEHBInnTier1FamilyMOOP</th>\n",
       "      <th>DEHBInnTier1FamilyPerGroupMOOP</th>\n",
       "      <th>DEHBInnTier1FamilyPerPersonMOOP</th>\n",
       "      <th>DEHBInnTier1IndividualMOOP</th>\n",
       "      <th>DEHBInnTier2FamilyMOOP</th>\n",
       "      <th>DEHBInnTier2FamilyPerGroupMOOP</th>\n",
       "      <th>DEHBInnTier2FamilyPerPersonMOOP</th>\n",
       "      <th>DEHBInnTier2IndividualMOOP</th>\n",
       "      <th>DEHBOutOfNetFamilyMOOP</th>\n",
       "      <th>DEHBOutOfNetFamilyPerGroupMOOP</th>\n",
       "      <th>DEHBOutOfNetFamilyPerPersonMOOP</th>\n",
       "      <th>DEHBOutOfNetIndividualMOOP</th>\n",
       "      <th>DentalOnlyPlan</th>\n",
       "      <th>DiseaseManagementProgramsOffered</th>\n",
       "      <th>EHBPediatricDentalApportionmentQuantity</th>\n",
       "      <th>EHBPercentPremiumS4</th>\n",
       "      <th>EHBPercentTotalPremium</th>\n",
       "      <th>FirstTierUtilization</th>\n",
       "      <th>FormularyId</th>\n",
       "      <th>FormularyURL</th>\n",
       "      <th>HIOSProductId</th>\n",
       "      <th>HPID</th>\n",
       "      <th>HSAOrHRAEmployerContribution</th>\n",
       "      <th>HSAOrHRAEmployerContributionAmount</th>\n",
       "      <th>ImportDate</th>\n",
       "      <th>IndianPlanVariationEstimatedAdvancedPaymentAmountPerEnrollee</th>\n",
       "      <th>InpatientCopaymentMaximumDays</th>\n",
       "      <th>IsGuaranteedRate</th>\n",
       "      <th>IsHSAEligible</th>\n",
       "      <th>IsNewPlan</th>\n",
       "      <th>IsNoticeRequiredForPregnancy</th>\n",
       "      <th>IsReferralRequiredForSpecialist</th>\n",
       "      <th>IssuerActuarialValue</th>\n",
       "      <th>IssuerId</th>\n",
       "      <th>IssuerId2</th>\n",
       "      <th>MEHBCombInnOonFamilyMOOP</th>\n",
       "      <th>MEHBCombInnOonFamilyPerGroupMOOP</th>\n",
       "      <th>MEHBCombInnOonFamilyPerPersonMOOP</th>\n",
       "      <th>MEHBCombInnOonIndividualMOOP</th>\n",
       "      <th>MEHBDedCombInnOonFamily</th>\n",
       "      <th>MEHBDedCombInnOonFamilyPerGroup</th>\n",
       "      <th>MEHBDedCombInnOonFamilyPerPerson</th>\n",
       "      <th>MEHBDedCombInnOonIndividual</th>\n",
       "      <th>MEHBDedInnTier1Coinsurance</th>\n",
       "      <th>MEHBDedInnTier1Family</th>\n",
       "      <th>MEHBDedInnTier1FamilyPerGroup</th>\n",
       "      <th>MEHBDedInnTier1FamilyPerPerson</th>\n",
       "      <th>MEHBDedInnTier1Individual</th>\n",
       "      <th>MEHBDedInnTier2Coinsurance</th>\n",
       "      <th>MEHBDedInnTier2Family</th>\n",
       "      <th>MEHBDedInnTier2FamilyPerGroup</th>\n",
       "      <th>MEHBDedInnTier2FamilyPerPerson</th>\n",
       "      <th>MEHBDedInnTier2Individual</th>\n",
       "      <th>MEHBDedOutOfNetFamily</th>\n",
       "      <th>MEHBDedOutOfNetFamilyPerGroup</th>\n",
       "      <th>MEHBDedOutOfNetFamilyPerPerson</th>\n",
       "      <th>MEHBDedOutOfNetIndividual</th>\n",
       "      <th>MEHBInnTier1FamilyMOOP</th>\n",
       "      <th>MEHBInnTier1FamilyPerGroupMOOP</th>\n",
       "      <th>MEHBInnTier1FamilyPerPersonMOOP</th>\n",
       "      <th>MEHBInnTier1IndividualMOOP</th>\n",
       "      <th>MEHBInnTier2FamilyMOOP</th>\n",
       "      <th>MEHBInnTier2FamilyPerGroupMOOP</th>\n",
       "      <th>MEHBInnTier2FamilyPerPersonMOOP</th>\n",
       "      <th>MEHBInnTier2IndividualMOOP</th>\n",
       "      <th>MEHBOutOfNetFamilyMOOP</th>\n",
       "      <th>MEHBOutOfNetFamilyPerGroupMOOP</th>\n",
       "      <th>MEHBOutOfNetFamilyPerPersonMOOP</th>\n",
       "      <th>MEHBOutOfNetIndividualMOOP</th>\n",
       "      <th>MarketCoverage</th>\n",
       "      <th>MedicalDrugDeductiblesIntegrated</th>\n",
       "      <th>MedicalDrugMaximumOutofPocketIntegrated</th>\n",
       "      <th>MetalLevel</th>\n",
       "      <th>MultipleInNetworkTiers</th>\n",
       "      <th>NationalNetwork</th>\n",
       "      <th>NetworkId</th>\n",
       "      <th>OutOfCountryCoverage</th>\n",
       "      <th>OutOfCountryCoverageDescription</th>\n",
       "      <th>OutOfServiceAreaCoverage</th>\n",
       "      <th>OutOfServiceAreaCoverageDescription</th>\n",
       "      <th>PlanBrochure</th>\n",
       "      <th>PlanEffictiveDate</th>\n",
       "      <th>PlanExpirationDate</th>\n",
       "      <th>PlanId</th>\n",
       "      <th>PlanLevelExclusions</th>\n",
       "      <th>PlanMarketingName</th>\n",
       "      <th>PlanType</th>\n",
       "      <th>QHPNonQHPTypeId</th>\n",
       "      <th>RowNumber</th>\n",
       "      <th>SBCHavingDiabetesCoinsurance</th>\n",
       "      <th>SBCHavingDiabetesCopayment</th>\n",
       "      <th>SBCHavingDiabetesDeductible</th>\n",
       "      <th>SBCHavingDiabetesLimit</th>\n",
       "      <th>SBCHavingaBabyCoinsurance</th>\n",
       "      <th>SBCHavingaBabyCopayment</th>\n",
       "      <th>SBCHavingaBabyDeductible</th>\n",
       "      <th>SBCHavingaBabyLimit</th>\n",
       "      <th>SecondTierUtilization</th>\n",
       "      <th>ServiceAreaId</th>\n",
       "      <th>SourceName</th>\n",
       "      <th>SpecialistRequiringReferral</th>\n",
       "      <th>SpecialtyDrugMaximumCoinsurance</th>\n",
       "      <th>StandardComponentId</th>\n",
       "      <th>StateCode</th>\n",
       "      <th>StateCode2</th>\n",
       "      <th>TEHBCombInnOonFamilyMOOP</th>\n",
       "      <th>TEHBCombInnOonFamilyPerGroupMOOP</th>\n",
       "      <th>TEHBCombInnOonFamilyPerPersonMOOP</th>\n",
       "      <th>TEHBCombInnOonIndividualMOOP</th>\n",
       "      <th>TEHBDedCombInnOonFamily</th>\n",
       "      <th>TEHBDedCombInnOonFamilyPerGroup</th>\n",
       "      <th>TEHBDedCombInnOonFamilyPerPerson</th>\n",
       "      <th>TEHBDedCombInnOonIndividual</th>\n",
       "      <th>TEHBDedInnTier1Coinsurance</th>\n",
       "      <th>TEHBDedInnTier1Family</th>\n",
       "      <th>TEHBDedInnTier1FamilyPerGroup</th>\n",
       "      <th>TEHBDedInnTier1FamilyPerPerson</th>\n",
       "      <th>TEHBDedInnTier1Individual</th>\n",
       "      <th>TEHBDedInnTier2Coinsurance</th>\n",
       "      <th>TEHBDedInnTier2Family</th>\n",
       "      <th>TEHBDedInnTier2FamilyPerGroup</th>\n",
       "      <th>TEHBDedInnTier2FamilyPerPerson</th>\n",
       "      <th>TEHBDedInnTier2Individual</th>\n",
       "      <th>TEHBDedOutOfNetFamily</th>\n",
       "      <th>TEHBDedOutOfNetFamilyPerGroup</th>\n",
       "      <th>TEHBDedOutOfNetFamilyPerPerson</th>\n",
       "      <th>TEHBDedOutOfNetIndividual</th>\n",
       "      <th>TEHBInnTier1FamilyMOOP</th>\n",
       "      <th>TEHBInnTier1FamilyPerGroupMOOP</th>\n",
       "      <th>TEHBInnTier1FamilyPerPersonMOOP</th>\n",
       "      <th>TEHBInnTier1IndividualMOOP</th>\n",
       "      <th>TEHBInnTier2FamilyMOOP</th>\n",
       "      <th>TEHBInnTier2FamilyPerGroupMOOP</th>\n",
       "      <th>TEHBInnTier2FamilyPerPersonMOOP</th>\n",
       "      <th>TEHBInnTier2IndividualMOOP</th>\n",
       "      <th>TEHBOutOfNetFamilyMOOP</th>\n",
       "      <th>TEHBOutOfNetFamilyPerGroupMOOP</th>\n",
       "      <th>TEHBOutOfNetFamilyPerPersonMOOP</th>\n",
       "      <th>TEHBOutOfNetIndividualMOOP</th>\n",
       "      <th>TIN</th>\n",
       "      <th>URLForEnrollmentPayment</th>\n",
       "      <th>URLForSummaryofBenefitsCoverage</th>\n",
       "      <th>UniquePlanDesign</th>\n",
       "      <th>VersionNum</th>\n",
       "      <th>WellnessProgramOffered</th>\n",
       "    </tr>\n",
       "  </thead>\n",
       "  <tbody>\n",
       "    <tr>\n",
       "      <th>0</th>\n",
       "      <td>NaN</td>\n",
       "      <td>NaN</td>\n",
       "      <td>NaN</td>\n",
       "      <td>1</td>\n",
       "      <td>2014</td>\n",
       "      <td>Standard Low Off Exchange Plan</td>\n",
       "      <td>Allows Adult and Child-Only</td>\n",
       "      <td>NaN</td>\n",
       "      <td>NaN</td>\n",
       "      <td>NaN</td>\n",
       "      <td>NaN</td>\n",
       "      <td>NaN</td>\n",
       "      <td>NaN</td>\n",
       "      <td>NaN</td>\n",
       "      <td>NaN</td>\n",
       "      <td>NaN</td>\n",
       "      <td>NaN</td>\n",
       "      <td>NaN</td>\n",
       "      <td>NaN</td>\n",
       "      <td>NaN</td>\n",
       "      <td>NaN</td>\n",
       "      <td>NaN</td>\n",
       "      <td>NaN</td>\n",
       "      <td>NaN</td>\n",
       "      <td>NaN</td>\n",
       "      <td>NaN</td>\n",
       "      <td>NaN</td>\n",
       "      <td>NaN</td>\n",
       "      <td>NaN</td>\n",
       "      <td>NaN</td>\n",
       "      <td>NaN</td>\n",
       "      <td>NaN</td>\n",
       "      <td>NaN</td>\n",
       "      <td>NaN</td>\n",
       "      <td>NaN</td>\n",
       "      <td>NaN</td>\n",
       "      <td>NaN</td>\n",
       "      <td>NaN</td>\n",
       "      <td>NaN</td>\n",
       "      <td>NaN</td>\n",
       "      <td>NaN</td>\n",
       "      <td>NaN</td>\n",
       "      <td>NaN</td>\n",
       "      <td>Yes</td>\n",
       "      <td>NaN</td>\n",
       "      <td>29</td>\n",
       "      <td>NaN</td>\n",
       "      <td>NaN</td>\n",
       "      <td>100%</td>\n",
       "      <td>NaN</td>\n",
       "      <td>NaN</td>\n",
       "      <td>21989AK002</td>\n",
       "      <td>NaN</td>\n",
       "      <td>NaN</td>\n",
       "      <td>NaN</td>\n",
       "      <td>2014-03-19 07:06:49</td>\n",
       "      <td>NaN</td>\n",
       "      <td>NaN</td>\n",
       "      <td>Guaranteed Rate</td>\n",
       "      <td>NaN</td>\n",
       "      <td>New</td>\n",
       "      <td>NaN</td>\n",
       "      <td>NaN</td>\n",
       "      <td>70.00%</td>\n",
       "      <td>21989</td>\n",
       "      <td>21989</td>\n",
       "      <td>$1,400</td>\n",
       "      <td>NaN</td>\n",
       "      <td>NaN</td>\n",
       "      <td>$700</td>\n",
       "      <td>$100</td>\n",
       "      <td>NaN</td>\n",
       "      <td>NaN</td>\n",
       "      <td>$50</td>\n",
       "      <td>NaN</td>\n",
       "      <td>Not Applicable</td>\n",
       "      <td>NaN</td>\n",
       "      <td>NaN</td>\n",
       "      <td>Not Applicable</td>\n",
       "      <td>NaN</td>\n",
       "      <td>NaN</td>\n",
       "      <td>NaN</td>\n",
       "      <td>NaN</td>\n",
       "      <td>NaN</td>\n",
       "      <td>Not Applicable</td>\n",
       "      <td>NaN</td>\n",
       "      <td>NaN</td>\n",
       "      <td>Not Applicable</td>\n",
       "      <td>Not Applicable</td>\n",
       "      <td>NaN</td>\n",
       "      <td>NaN</td>\n",
       "      <td>Not Applicable</td>\n",
       "      <td>NaN</td>\n",
       "      <td>NaN</td>\n",
       "      <td>NaN</td>\n",
       "      <td>NaN</td>\n",
       "      <td>Not Applicable</td>\n",
       "      <td>NaN</td>\n",
       "      <td>NaN</td>\n",
       "      <td>Not Applicable</td>\n",
       "      <td>SHOP (Small Group)</td>\n",
       "      <td>NaN</td>\n",
       "      <td>NaN</td>\n",
       "      <td>Low</td>\n",
       "      <td>No</td>\n",
       "      <td>Yes</td>\n",
       "      <td>AKN001</td>\n",
       "      <td>No</td>\n",
       "      <td>NaN</td>\n",
       "      <td>Yes</td>\n",
       "      <td>National Network</td>\n",
       "      <td>https://www.modahealth.com/producers/grp/den.s...</td>\n",
       "      <td>2014-01-01</td>\n",
       "      <td>2014-12-31</td>\n",
       "      <td>21989AK0020002-00</td>\n",
       "      <td>OOP Max only applies to pediatric benefits</td>\n",
       "      <td>Premier</td>\n",
       "      <td>PPO</td>\n",
       "      <td>Both</td>\n",
       "      <td>6</td>\n",
       "      <td>NaN</td>\n",
       "      <td>NaN</td>\n",
       "      <td>NaN</td>\n",
       "      <td>NaN</td>\n",
       "      <td>NaN</td>\n",
       "      <td>NaN</td>\n",
       "      <td>NaN</td>\n",
       "      <td>NaN</td>\n",
       "      <td>NaN</td>\n",
       "      <td>AKS001</td>\n",
       "      <td>HIOS</td>\n",
       "      <td>NaN</td>\n",
       "      <td>NaN</td>\n",
       "      <td>21989AK0020002</td>\n",
       "      <td>AK</td>\n",
       "      <td>AK</td>\n",
       "      <td>NaN</td>\n",
       "      <td>NaN</td>\n",
       "      <td>NaN</td>\n",
       "      <td>NaN</td>\n",
       "      <td>NaN</td>\n",
       "      <td>NaN</td>\n",
       "      <td>NaN</td>\n",
       "      <td>NaN</td>\n",
       "      <td>NaN</td>\n",
       "      <td>NaN</td>\n",
       "      <td>NaN</td>\n",
       "      <td>NaN</td>\n",
       "      <td>NaN</td>\n",
       "      <td>NaN</td>\n",
       "      <td>NaN</td>\n",
       "      <td>NaN</td>\n",
       "      <td>NaN</td>\n",
       "      <td>NaN</td>\n",
       "      <td>NaN</td>\n",
       "      <td>NaN</td>\n",
       "      <td>NaN</td>\n",
       "      <td>NaN</td>\n",
       "      <td>NaN</td>\n",
       "      <td>NaN</td>\n",
       "      <td>NaN</td>\n",
       "      <td>NaN</td>\n",
       "      <td>NaN</td>\n",
       "      <td>NaN</td>\n",
       "      <td>NaN</td>\n",
       "      <td>NaN</td>\n",
       "      <td>NaN</td>\n",
       "      <td>NaN</td>\n",
       "      <td>NaN</td>\n",
       "      <td>NaN</td>\n",
       "      <td>93-0438772</td>\n",
       "      <td>https://www.modahealth.com/employers/enroll.shtml</td>\n",
       "      <td>https://www.modahealth.com/producers/grp/den.s...</td>\n",
       "      <td>NaN</td>\n",
       "      <td>6</td>\n",
       "      <td>NaN</td>\n",
       "    </tr>\n",
       "    <tr>\n",
       "      <th>1</th>\n",
       "      <td>NaN</td>\n",
       "      <td>NaN</td>\n",
       "      <td>NaN</td>\n",
       "      <td>1</td>\n",
       "      <td>2014</td>\n",
       "      <td>Standard Low On Exchange Plan</td>\n",
       "      <td>Allows Adult and Child-Only</td>\n",
       "      <td>NaN</td>\n",
       "      <td>NaN</td>\n",
       "      <td>NaN</td>\n",
       "      <td>NaN</td>\n",
       "      <td>NaN</td>\n",
       "      <td>NaN</td>\n",
       "      <td>NaN</td>\n",
       "      <td>NaN</td>\n",
       "      <td>NaN</td>\n",
       "      <td>NaN</td>\n",
       "      <td>NaN</td>\n",
       "      <td>NaN</td>\n",
       "      <td>NaN</td>\n",
       "      <td>NaN</td>\n",
       "      <td>NaN</td>\n",
       "      <td>NaN</td>\n",
       "      <td>NaN</td>\n",
       "      <td>NaN</td>\n",
       "      <td>NaN</td>\n",
       "      <td>NaN</td>\n",
       "      <td>NaN</td>\n",
       "      <td>NaN</td>\n",
       "      <td>NaN</td>\n",
       "      <td>NaN</td>\n",
       "      <td>NaN</td>\n",
       "      <td>NaN</td>\n",
       "      <td>NaN</td>\n",
       "      <td>NaN</td>\n",
       "      <td>NaN</td>\n",
       "      <td>NaN</td>\n",
       "      <td>NaN</td>\n",
       "      <td>NaN</td>\n",
       "      <td>NaN</td>\n",
       "      <td>NaN</td>\n",
       "      <td>NaN</td>\n",
       "      <td>NaN</td>\n",
       "      <td>Yes</td>\n",
       "      <td>NaN</td>\n",
       "      <td>29</td>\n",
       "      <td>NaN</td>\n",
       "      <td>NaN</td>\n",
       "      <td>100%</td>\n",
       "      <td>NaN</td>\n",
       "      <td>NaN</td>\n",
       "      <td>21989AK002</td>\n",
       "      <td>NaN</td>\n",
       "      <td>NaN</td>\n",
       "      <td>NaN</td>\n",
       "      <td>2014-03-19 07:06:49</td>\n",
       "      <td>NaN</td>\n",
       "      <td>NaN</td>\n",
       "      <td>Guaranteed Rate</td>\n",
       "      <td>NaN</td>\n",
       "      <td>New</td>\n",
       "      <td>NaN</td>\n",
       "      <td>NaN</td>\n",
       "      <td>70.00%</td>\n",
       "      <td>21989</td>\n",
       "      <td>21989</td>\n",
       "      <td>$1,400</td>\n",
       "      <td>NaN</td>\n",
       "      <td>NaN</td>\n",
       "      <td>$700</td>\n",
       "      <td>$100</td>\n",
       "      <td>NaN</td>\n",
       "      <td>NaN</td>\n",
       "      <td>$50</td>\n",
       "      <td>NaN</td>\n",
       "      <td>Not Applicable</td>\n",
       "      <td>NaN</td>\n",
       "      <td>NaN</td>\n",
       "      <td>Not Applicable</td>\n",
       "      <td>NaN</td>\n",
       "      <td>NaN</td>\n",
       "      <td>NaN</td>\n",
       "      <td>NaN</td>\n",
       "      <td>NaN</td>\n",
       "      <td>Not Applicable</td>\n",
       "      <td>NaN</td>\n",
       "      <td>NaN</td>\n",
       "      <td>Not Applicable</td>\n",
       "      <td>Not Applicable</td>\n",
       "      <td>NaN</td>\n",
       "      <td>NaN</td>\n",
       "      <td>Not Applicable</td>\n",
       "      <td>NaN</td>\n",
       "      <td>NaN</td>\n",
       "      <td>NaN</td>\n",
       "      <td>NaN</td>\n",
       "      <td>Not Applicable</td>\n",
       "      <td>NaN</td>\n",
       "      <td>NaN</td>\n",
       "      <td>Not Applicable</td>\n",
       "      <td>SHOP (Small Group)</td>\n",
       "      <td>NaN</td>\n",
       "      <td>NaN</td>\n",
       "      <td>Low</td>\n",
       "      <td>No</td>\n",
       "      <td>Yes</td>\n",
       "      <td>AKN001</td>\n",
       "      <td>No</td>\n",
       "      <td>NaN</td>\n",
       "      <td>Yes</td>\n",
       "      <td>National Network</td>\n",
       "      <td>https://www.modahealth.com/producers/grp/den.s...</td>\n",
       "      <td>2014-01-01</td>\n",
       "      <td>2014-12-31</td>\n",
       "      <td>21989AK0020002-01</td>\n",
       "      <td>OOP Max only applies to pediatric benefits</td>\n",
       "      <td>Premier</td>\n",
       "      <td>PPO</td>\n",
       "      <td>Both</td>\n",
       "      <td>7</td>\n",
       "      <td>NaN</td>\n",
       "      <td>NaN</td>\n",
       "      <td>NaN</td>\n",
       "      <td>NaN</td>\n",
       "      <td>NaN</td>\n",
       "      <td>NaN</td>\n",
       "      <td>NaN</td>\n",
       "      <td>NaN</td>\n",
       "      <td>NaN</td>\n",
       "      <td>AKS001</td>\n",
       "      <td>HIOS</td>\n",
       "      <td>NaN</td>\n",
       "      <td>NaN</td>\n",
       "      <td>21989AK0020002</td>\n",
       "      <td>AK</td>\n",
       "      <td>AK</td>\n",
       "      <td>NaN</td>\n",
       "      <td>NaN</td>\n",
       "      <td>NaN</td>\n",
       "      <td>NaN</td>\n",
       "      <td>NaN</td>\n",
       "      <td>NaN</td>\n",
       "      <td>NaN</td>\n",
       "      <td>NaN</td>\n",
       "      <td>NaN</td>\n",
       "      <td>NaN</td>\n",
       "      <td>NaN</td>\n",
       "      <td>NaN</td>\n",
       "      <td>NaN</td>\n",
       "      <td>NaN</td>\n",
       "      <td>NaN</td>\n",
       "      <td>NaN</td>\n",
       "      <td>NaN</td>\n",
       "      <td>NaN</td>\n",
       "      <td>NaN</td>\n",
       "      <td>NaN</td>\n",
       "      <td>NaN</td>\n",
       "      <td>NaN</td>\n",
       "      <td>NaN</td>\n",
       "      <td>NaN</td>\n",
       "      <td>NaN</td>\n",
       "      <td>NaN</td>\n",
       "      <td>NaN</td>\n",
       "      <td>NaN</td>\n",
       "      <td>NaN</td>\n",
       "      <td>NaN</td>\n",
       "      <td>NaN</td>\n",
       "      <td>NaN</td>\n",
       "      <td>NaN</td>\n",
       "      <td>NaN</td>\n",
       "      <td>93-0438772</td>\n",
       "      <td>https://www.modahealth.com/employers/enroll.shtml</td>\n",
       "      <td>https://www.modahealth.com/producers/grp/den.s...</td>\n",
       "      <td>NaN</td>\n",
       "      <td>6</td>\n",
       "      <td>NaN</td>\n",
       "    </tr>\n",
       "    <tr>\n",
       "      <th>2</th>\n",
       "      <td>NaN</td>\n",
       "      <td>NaN</td>\n",
       "      <td>NaN</td>\n",
       "      <td>1</td>\n",
       "      <td>2014</td>\n",
       "      <td>Standard High Off Exchange Plan</td>\n",
       "      <td>Allows Adult and Child-Only</td>\n",
       "      <td>NaN</td>\n",
       "      <td>NaN</td>\n",
       "      <td>NaN</td>\n",
       "      <td>NaN</td>\n",
       "      <td>NaN</td>\n",
       "      <td>NaN</td>\n",
       "      <td>NaN</td>\n",
       "      <td>NaN</td>\n",
       "      <td>NaN</td>\n",
       "      <td>NaN</td>\n",
       "      <td>NaN</td>\n",
       "      <td>NaN</td>\n",
       "      <td>NaN</td>\n",
       "      <td>NaN</td>\n",
       "      <td>NaN</td>\n",
       "      <td>NaN</td>\n",
       "      <td>NaN</td>\n",
       "      <td>NaN</td>\n",
       "      <td>NaN</td>\n",
       "      <td>NaN</td>\n",
       "      <td>NaN</td>\n",
       "      <td>NaN</td>\n",
       "      <td>NaN</td>\n",
       "      <td>NaN</td>\n",
       "      <td>NaN</td>\n",
       "      <td>NaN</td>\n",
       "      <td>NaN</td>\n",
       "      <td>NaN</td>\n",
       "      <td>NaN</td>\n",
       "      <td>NaN</td>\n",
       "      <td>NaN</td>\n",
       "      <td>NaN</td>\n",
       "      <td>NaN</td>\n",
       "      <td>NaN</td>\n",
       "      <td>NaN</td>\n",
       "      <td>NaN</td>\n",
       "      <td>Yes</td>\n",
       "      <td>NaN</td>\n",
       "      <td>35</td>\n",
       "      <td>NaN</td>\n",
       "      <td>NaN</td>\n",
       "      <td>100%</td>\n",
       "      <td>NaN</td>\n",
       "      <td>NaN</td>\n",
       "      <td>21989AK002</td>\n",
       "      <td>NaN</td>\n",
       "      <td>NaN</td>\n",
       "      <td>NaN</td>\n",
       "      <td>2014-03-19 07:06:49</td>\n",
       "      <td>NaN</td>\n",
       "      <td>NaN</td>\n",
       "      <td>Guaranteed Rate</td>\n",
       "      <td>NaN</td>\n",
       "      <td>New</td>\n",
       "      <td>NaN</td>\n",
       "      <td>NaN</td>\n",
       "      <td>84.60%</td>\n",
       "      <td>21989</td>\n",
       "      <td>21989</td>\n",
       "      <td>$1,400</td>\n",
       "      <td>NaN</td>\n",
       "      <td>NaN</td>\n",
       "      <td>$700</td>\n",
       "      <td>$100</td>\n",
       "      <td>NaN</td>\n",
       "      <td>NaN</td>\n",
       "      <td>$50</td>\n",
       "      <td>NaN</td>\n",
       "      <td>Not Applicable</td>\n",
       "      <td>NaN</td>\n",
       "      <td>NaN</td>\n",
       "      <td>Not Applicable</td>\n",
       "      <td>NaN</td>\n",
       "      <td>NaN</td>\n",
       "      <td>NaN</td>\n",
       "      <td>NaN</td>\n",
       "      <td>NaN</td>\n",
       "      <td>Not Applicable</td>\n",
       "      <td>NaN</td>\n",
       "      <td>NaN</td>\n",
       "      <td>Not Applicable</td>\n",
       "      <td>Not Applicable</td>\n",
       "      <td>NaN</td>\n",
       "      <td>NaN</td>\n",
       "      <td>Not Applicable</td>\n",
       "      <td>NaN</td>\n",
       "      <td>NaN</td>\n",
       "      <td>NaN</td>\n",
       "      <td>NaN</td>\n",
       "      <td>Not Applicable</td>\n",
       "      <td>NaN</td>\n",
       "      <td>NaN</td>\n",
       "      <td>Not Applicable</td>\n",
       "      <td>SHOP (Small Group)</td>\n",
       "      <td>NaN</td>\n",
       "      <td>NaN</td>\n",
       "      <td>High</td>\n",
       "      <td>No</td>\n",
       "      <td>Yes</td>\n",
       "      <td>AKN001</td>\n",
       "      <td>No</td>\n",
       "      <td>NaN</td>\n",
       "      <td>Yes</td>\n",
       "      <td>National Network</td>\n",
       "      <td>https://www.modahealth.com/producers/grp/den.s...</td>\n",
       "      <td>2014-01-01</td>\n",
       "      <td>2014-12-31</td>\n",
       "      <td>21989AK0020001-00</td>\n",
       "      <td>OOP Max only applies to pediatric benefits</td>\n",
       "      <td>Premier</td>\n",
       "      <td>PPO</td>\n",
       "      <td>Both</td>\n",
       "      <td>4</td>\n",
       "      <td>NaN</td>\n",
       "      <td>NaN</td>\n",
       "      <td>NaN</td>\n",
       "      <td>NaN</td>\n",
       "      <td>NaN</td>\n",
       "      <td>NaN</td>\n",
       "      <td>NaN</td>\n",
       "      <td>NaN</td>\n",
       "      <td>NaN</td>\n",
       "      <td>AKS001</td>\n",
       "      <td>HIOS</td>\n",
       "      <td>NaN</td>\n",
       "      <td>NaN</td>\n",
       "      <td>21989AK0020001</td>\n",
       "      <td>AK</td>\n",
       "      <td>AK</td>\n",
       "      <td>NaN</td>\n",
       "      <td>NaN</td>\n",
       "      <td>NaN</td>\n",
       "      <td>NaN</td>\n",
       "      <td>NaN</td>\n",
       "      <td>NaN</td>\n",
       "      <td>NaN</td>\n",
       "      <td>NaN</td>\n",
       "      <td>NaN</td>\n",
       "      <td>NaN</td>\n",
       "      <td>NaN</td>\n",
       "      <td>NaN</td>\n",
       "      <td>NaN</td>\n",
       "      <td>NaN</td>\n",
       "      <td>NaN</td>\n",
       "      <td>NaN</td>\n",
       "      <td>NaN</td>\n",
       "      <td>NaN</td>\n",
       "      <td>NaN</td>\n",
       "      <td>NaN</td>\n",
       "      <td>NaN</td>\n",
       "      <td>NaN</td>\n",
       "      <td>NaN</td>\n",
       "      <td>NaN</td>\n",
       "      <td>NaN</td>\n",
       "      <td>NaN</td>\n",
       "      <td>NaN</td>\n",
       "      <td>NaN</td>\n",
       "      <td>NaN</td>\n",
       "      <td>NaN</td>\n",
       "      <td>NaN</td>\n",
       "      <td>NaN</td>\n",
       "      <td>NaN</td>\n",
       "      <td>NaN</td>\n",
       "      <td>93-0438772</td>\n",
       "      <td>https://www.modahealth.com/employers/enroll.shtml</td>\n",
       "      <td>https://www.modahealth.com/producers/grp/den.s...</td>\n",
       "      <td>NaN</td>\n",
       "      <td>6</td>\n",
       "      <td>NaN</td>\n",
       "    </tr>\n",
       "    <tr>\n",
       "      <th>3</th>\n",
       "      <td>NaN</td>\n",
       "      <td>NaN</td>\n",
       "      <td>NaN</td>\n",
       "      <td>1</td>\n",
       "      <td>2014</td>\n",
       "      <td>Standard Low Off Exchange Plan</td>\n",
       "      <td>Allows Adult and Child-Only</td>\n",
       "      <td>NaN</td>\n",
       "      <td>NaN</td>\n",
       "      <td>NaN</td>\n",
       "      <td>NaN</td>\n",
       "      <td>NaN</td>\n",
       "      <td>NaN</td>\n",
       "      <td>NaN</td>\n",
       "      <td>NaN</td>\n",
       "      <td>NaN</td>\n",
       "      <td>NaN</td>\n",
       "      <td>NaN</td>\n",
       "      <td>NaN</td>\n",
       "      <td>NaN</td>\n",
       "      <td>NaN</td>\n",
       "      <td>NaN</td>\n",
       "      <td>NaN</td>\n",
       "      <td>NaN</td>\n",
       "      <td>NaN</td>\n",
       "      <td>NaN</td>\n",
       "      <td>NaN</td>\n",
       "      <td>NaN</td>\n",
       "      <td>NaN</td>\n",
       "      <td>NaN</td>\n",
       "      <td>NaN</td>\n",
       "      <td>NaN</td>\n",
       "      <td>NaN</td>\n",
       "      <td>NaN</td>\n",
       "      <td>NaN</td>\n",
       "      <td>NaN</td>\n",
       "      <td>NaN</td>\n",
       "      <td>NaN</td>\n",
       "      <td>NaN</td>\n",
       "      <td>NaN</td>\n",
       "      <td>NaN</td>\n",
       "      <td>NaN</td>\n",
       "      <td>NaN</td>\n",
       "      <td>Yes</td>\n",
       "      <td>NaN</td>\n",
       "      <td>29</td>\n",
       "      <td>NaN</td>\n",
       "      <td>NaN</td>\n",
       "      <td>100%</td>\n",
       "      <td>NaN</td>\n",
       "      <td>NaN</td>\n",
       "      <td>21989AK001</td>\n",
       "      <td>NaN</td>\n",
       "      <td>NaN</td>\n",
       "      <td>NaN</td>\n",
       "      <td>2014-03-19 07:06:49</td>\n",
       "      <td>NaN</td>\n",
       "      <td>NaN</td>\n",
       "      <td>Guaranteed Rate</td>\n",
       "      <td>NaN</td>\n",
       "      <td>New</td>\n",
       "      <td>NaN</td>\n",
       "      <td>NaN</td>\n",
       "      <td>69.90%</td>\n",
       "      <td>21989</td>\n",
       "      <td>21989</td>\n",
       "      <td>$1,400</td>\n",
       "      <td>NaN</td>\n",
       "      <td>NaN</td>\n",
       "      <td>$700</td>\n",
       "      <td>$0</td>\n",
       "      <td>NaN</td>\n",
       "      <td>NaN</td>\n",
       "      <td>$0</td>\n",
       "      <td>NaN</td>\n",
       "      <td>Not Applicable</td>\n",
       "      <td>NaN</td>\n",
       "      <td>NaN</td>\n",
       "      <td>Not Applicable</td>\n",
       "      <td>NaN</td>\n",
       "      <td>NaN</td>\n",
       "      <td>NaN</td>\n",
       "      <td>NaN</td>\n",
       "      <td>NaN</td>\n",
       "      <td>Not Applicable</td>\n",
       "      <td>NaN</td>\n",
       "      <td>NaN</td>\n",
       "      <td>Not Applicable</td>\n",
       "      <td>Not Applicable</td>\n",
       "      <td>NaN</td>\n",
       "      <td>NaN</td>\n",
       "      <td>Not Applicable</td>\n",
       "      <td>NaN</td>\n",
       "      <td>NaN</td>\n",
       "      <td>NaN</td>\n",
       "      <td>NaN</td>\n",
       "      <td>Not Applicable</td>\n",
       "      <td>NaN</td>\n",
       "      <td>NaN</td>\n",
       "      <td>Not Applicable</td>\n",
       "      <td>Individual</td>\n",
       "      <td>NaN</td>\n",
       "      <td>NaN</td>\n",
       "      <td>Low</td>\n",
       "      <td>No</td>\n",
       "      <td>Yes</td>\n",
       "      <td>AKN001</td>\n",
       "      <td>No</td>\n",
       "      <td>NaN</td>\n",
       "      <td>Yes</td>\n",
       "      <td>National Network</td>\n",
       "      <td>https://www.modahealth.com/pdfs/ak/members/201...</td>\n",
       "      <td>2014-01-01</td>\n",
       "      <td>2014-12-31</td>\n",
       "      <td>21989AK0010001-00</td>\n",
       "      <td>OOP Max only applies to pediatric benefits</td>\n",
       "      <td>Premier</td>\n",
       "      <td>PPO</td>\n",
       "      <td>Both</td>\n",
       "      <td>4</td>\n",
       "      <td>NaN</td>\n",
       "      <td>NaN</td>\n",
       "      <td>NaN</td>\n",
       "      <td>NaN</td>\n",
       "      <td>NaN</td>\n",
       "      <td>NaN</td>\n",
       "      <td>NaN</td>\n",
       "      <td>NaN</td>\n",
       "      <td>NaN</td>\n",
       "      <td>AKS001</td>\n",
       "      <td>HIOS</td>\n",
       "      <td>NaN</td>\n",
       "      <td>NaN</td>\n",
       "      <td>21989AK0010001</td>\n",
       "      <td>AK</td>\n",
       "      <td>AK</td>\n",
       "      <td>NaN</td>\n",
       "      <td>NaN</td>\n",
       "      <td>NaN</td>\n",
       "      <td>NaN</td>\n",
       "      <td>NaN</td>\n",
       "      <td>NaN</td>\n",
       "      <td>NaN</td>\n",
       "      <td>NaN</td>\n",
       "      <td>NaN</td>\n",
       "      <td>NaN</td>\n",
       "      <td>NaN</td>\n",
       "      <td>NaN</td>\n",
       "      <td>NaN</td>\n",
       "      <td>NaN</td>\n",
       "      <td>NaN</td>\n",
       "      <td>NaN</td>\n",
       "      <td>NaN</td>\n",
       "      <td>NaN</td>\n",
       "      <td>NaN</td>\n",
       "      <td>NaN</td>\n",
       "      <td>NaN</td>\n",
       "      <td>NaN</td>\n",
       "      <td>NaN</td>\n",
       "      <td>NaN</td>\n",
       "      <td>NaN</td>\n",
       "      <td>NaN</td>\n",
       "      <td>NaN</td>\n",
       "      <td>NaN</td>\n",
       "      <td>NaN</td>\n",
       "      <td>NaN</td>\n",
       "      <td>NaN</td>\n",
       "      <td>NaN</td>\n",
       "      <td>NaN</td>\n",
       "      <td>NaN</td>\n",
       "      <td>93-0438772</td>\n",
       "      <td>https://www.modahealth.com/mymoda/</td>\n",
       "      <td>https://www.modahealth.com/pdfs/plans/individu...</td>\n",
       "      <td>NaN</td>\n",
       "      <td>6</td>\n",
       "      <td>NaN</td>\n",
       "    </tr>\n",
       "    <tr>\n",
       "      <th>4</th>\n",
       "      <td>NaN</td>\n",
       "      <td>NaN</td>\n",
       "      <td>NaN</td>\n",
       "      <td>1</td>\n",
       "      <td>2014</td>\n",
       "      <td>Standard Low On Exchange Plan</td>\n",
       "      <td>Allows Adult and Child-Only</td>\n",
       "      <td>NaN</td>\n",
       "      <td>NaN</td>\n",
       "      <td>NaN</td>\n",
       "      <td>NaN</td>\n",
       "      <td>NaN</td>\n",
       "      <td>NaN</td>\n",
       "      <td>NaN</td>\n",
       "      <td>NaN</td>\n",
       "      <td>NaN</td>\n",
       "      <td>NaN</td>\n",
       "      <td>NaN</td>\n",
       "      <td>NaN</td>\n",
       "      <td>NaN</td>\n",
       "      <td>NaN</td>\n",
       "      <td>NaN</td>\n",
       "      <td>NaN</td>\n",
       "      <td>NaN</td>\n",
       "      <td>NaN</td>\n",
       "      <td>NaN</td>\n",
       "      <td>NaN</td>\n",
       "      <td>NaN</td>\n",
       "      <td>NaN</td>\n",
       "      <td>NaN</td>\n",
       "      <td>NaN</td>\n",
       "      <td>NaN</td>\n",
       "      <td>NaN</td>\n",
       "      <td>NaN</td>\n",
       "      <td>NaN</td>\n",
       "      <td>NaN</td>\n",
       "      <td>NaN</td>\n",
       "      <td>NaN</td>\n",
       "      <td>NaN</td>\n",
       "      <td>NaN</td>\n",
       "      <td>NaN</td>\n",
       "      <td>NaN</td>\n",
       "      <td>NaN</td>\n",
       "      <td>Yes</td>\n",
       "      <td>NaN</td>\n",
       "      <td>29</td>\n",
       "      <td>NaN</td>\n",
       "      <td>NaN</td>\n",
       "      <td>100%</td>\n",
       "      <td>NaN</td>\n",
       "      <td>NaN</td>\n",
       "      <td>21989AK001</td>\n",
       "      <td>NaN</td>\n",
       "      <td>NaN</td>\n",
       "      <td>NaN</td>\n",
       "      <td>2014-03-19 07:06:49</td>\n",
       "      <td>NaN</td>\n",
       "      <td>NaN</td>\n",
       "      <td>Guaranteed Rate</td>\n",
       "      <td>NaN</td>\n",
       "      <td>New</td>\n",
       "      <td>NaN</td>\n",
       "      <td>NaN</td>\n",
       "      <td>69.90%</td>\n",
       "      <td>21989</td>\n",
       "      <td>21989</td>\n",
       "      <td>$1,400</td>\n",
       "      <td>NaN</td>\n",
       "      <td>NaN</td>\n",
       "      <td>$700</td>\n",
       "      <td>$0</td>\n",
       "      <td>NaN</td>\n",
       "      <td>NaN</td>\n",
       "      <td>$0</td>\n",
       "      <td>NaN</td>\n",
       "      <td>Not Applicable</td>\n",
       "      <td>NaN</td>\n",
       "      <td>NaN</td>\n",
       "      <td>Not Applicable</td>\n",
       "      <td>NaN</td>\n",
       "      <td>NaN</td>\n",
       "      <td>NaN</td>\n",
       "      <td>NaN</td>\n",
       "      <td>NaN</td>\n",
       "      <td>Not Applicable</td>\n",
       "      <td>NaN</td>\n",
       "      <td>NaN</td>\n",
       "      <td>Not Applicable</td>\n",
       "      <td>Not Applicable</td>\n",
       "      <td>NaN</td>\n",
       "      <td>NaN</td>\n",
       "      <td>Not Applicable</td>\n",
       "      <td>NaN</td>\n",
       "      <td>NaN</td>\n",
       "      <td>NaN</td>\n",
       "      <td>NaN</td>\n",
       "      <td>Not Applicable</td>\n",
       "      <td>NaN</td>\n",
       "      <td>NaN</td>\n",
       "      <td>Not Applicable</td>\n",
       "      <td>Individual</td>\n",
       "      <td>NaN</td>\n",
       "      <td>NaN</td>\n",
       "      <td>Low</td>\n",
       "      <td>No</td>\n",
       "      <td>Yes</td>\n",
       "      <td>AKN001</td>\n",
       "      <td>No</td>\n",
       "      <td>NaN</td>\n",
       "      <td>Yes</td>\n",
       "      <td>National Network</td>\n",
       "      <td>https://www.modahealth.com/pdfs/ak/members/201...</td>\n",
       "      <td>2014-01-01</td>\n",
       "      <td>2014-12-31</td>\n",
       "      <td>21989AK0010001-01</td>\n",
       "      <td>OOP Max only applies to pediatric benefits</td>\n",
       "      <td>Premier</td>\n",
       "      <td>PPO</td>\n",
       "      <td>Both</td>\n",
       "      <td>5</td>\n",
       "      <td>NaN</td>\n",
       "      <td>NaN</td>\n",
       "      <td>NaN</td>\n",
       "      <td>NaN</td>\n",
       "      <td>NaN</td>\n",
       "      <td>NaN</td>\n",
       "      <td>NaN</td>\n",
       "      <td>NaN</td>\n",
       "      <td>NaN</td>\n",
       "      <td>AKS001</td>\n",
       "      <td>HIOS</td>\n",
       "      <td>NaN</td>\n",
       "      <td>NaN</td>\n",
       "      <td>21989AK0010001</td>\n",
       "      <td>AK</td>\n",
       "      <td>AK</td>\n",
       "      <td>NaN</td>\n",
       "      <td>NaN</td>\n",
       "      <td>NaN</td>\n",
       "      <td>NaN</td>\n",
       "      <td>NaN</td>\n",
       "      <td>NaN</td>\n",
       "      <td>NaN</td>\n",
       "      <td>NaN</td>\n",
       "      <td>NaN</td>\n",
       "      <td>NaN</td>\n",
       "      <td>NaN</td>\n",
       "      <td>NaN</td>\n",
       "      <td>NaN</td>\n",
       "      <td>NaN</td>\n",
       "      <td>NaN</td>\n",
       "      <td>NaN</td>\n",
       "      <td>NaN</td>\n",
       "      <td>NaN</td>\n",
       "      <td>NaN</td>\n",
       "      <td>NaN</td>\n",
       "      <td>NaN</td>\n",
       "      <td>NaN</td>\n",
       "      <td>NaN</td>\n",
       "      <td>NaN</td>\n",
       "      <td>NaN</td>\n",
       "      <td>NaN</td>\n",
       "      <td>NaN</td>\n",
       "      <td>NaN</td>\n",
       "      <td>NaN</td>\n",
       "      <td>NaN</td>\n",
       "      <td>NaN</td>\n",
       "      <td>NaN</td>\n",
       "      <td>NaN</td>\n",
       "      <td>NaN</td>\n",
       "      <td>93-0438772</td>\n",
       "      <td>https://www.modahealth.com/mymoda/</td>\n",
       "      <td>https://www.modahealth.com/pdfs/plans/individu...</td>\n",
       "      <td>NaN</td>\n",
       "      <td>6</td>\n",
       "      <td>NaN</td>\n",
       "    </tr>\n",
       "  </tbody>\n",
       "</table>\n",
       "</div>"
      ],
      "text/plain": [
       "  AVCalculatorOutputNumber  BeginPrimaryCareCostSharingAfterNumberOfVisits  BeginPrimaryCareDeductibleCoinsuranceAfterNumberOfCopays  BenefitPackageId  BusinessYear                 CSRVariationType            ChildOnlyOffering ChildOnlyPlanId CompositeRatingOffered DEHBCombInnOonFamilyMOOP DEHBCombInnOonFamilyPerGroupMOOP DEHBCombInnOonFamilyPerPersonMOOP DEHBCombInnOonIndividualMOOP DEHBDedCombInnOonFamily DEHBDedCombInnOonFamilyPerGroup DEHBDedCombInnOonFamilyPerPerson DEHBDedCombInnOonIndividual DEHBDedInnTier1Coinsurance DEHBDedInnTier1Family DEHBDedInnTier1FamilyPerGroup DEHBDedInnTier1FamilyPerPerson DEHBDedInnTier1Individual DEHBDedInnTier2Coinsurance DEHBDedInnTier2Family DEHBDedInnTier2FamilyPerGroup DEHBDedInnTier2FamilyPerPerson DEHBDedInnTier2Individual DEHBDedOutOfNetFamily DEHBDedOutOfNetFamilyPerGroup DEHBDedOutOfNetFamilyPerPerson DEHBDedOutOfNetIndividual DEHBInnTier1FamilyMOOP DEHBInnTier1FamilyPerGroupMOOP DEHBInnTier1FamilyPerPersonMOOP DEHBInnTier1IndividualMOOP  DEHBInnTier2FamilyMOOP  DEHBInnTier2FamilyPerGroupMOOP  DEHBInnTier2FamilyPerPersonMOOP  DEHBInnTier2IndividualMOOP DEHBOutOfNetFamilyMOOP DEHBOutOfNetFamilyPerGroupMOOP DEHBOutOfNetFamilyPerPersonMOOP DEHBOutOfNetIndividualMOOP DentalOnlyPlan DiseaseManagementProgramsOffered EHBPediatricDentalApportionmentQuantity  EHBPercentPremiumS4  EHBPercentTotalPremium FirstTierUtilization FormularyId FormularyURL HIOSProductId  HPID HSAOrHRAEmployerContribution HSAOrHRAEmployerContributionAmount           ImportDate IndianPlanVariationEstimatedAdvancedPaymentAmountPerEnrollee  InpatientCopaymentMaximumDays IsGuaranteedRate IsHSAEligible IsNewPlan IsNoticeRequiredForPregnancy IsReferralRequiredForSpecialist IssuerActuarialValue  IssuerId  IssuerId2 MEHBCombInnOonFamilyMOOP MEHBCombInnOonFamilyPerGroupMOOP MEHBCombInnOonFamilyPerPersonMOOP MEHBCombInnOonIndividualMOOP MEHBDedCombInnOonFamily MEHBDedCombInnOonFamilyPerGroup MEHBDedCombInnOonFamilyPerPerson MEHBDedCombInnOonIndividual MEHBDedInnTier1Coinsurance MEHBDedInnTier1Family MEHBDedInnTier1FamilyPerGroup MEHBDedInnTier1FamilyPerPerson MEHBDedInnTier1Individual MEHBDedInnTier2Coinsurance MEHBDedInnTier2Family MEHBDedInnTier2FamilyPerGroup MEHBDedInnTier2FamilyPerPerson MEHBDedInnTier2Individual MEHBDedOutOfNetFamily MEHBDedOutOfNetFamilyPerGroup MEHBDedOutOfNetFamilyPerPerson MEHBDedOutOfNetIndividual MEHBInnTier1FamilyMOOP MEHBInnTier1FamilyPerGroupMOOP MEHBInnTier1FamilyPerPersonMOOP MEHBInnTier1IndividualMOOP MEHBInnTier2FamilyMOOP MEHBInnTier2FamilyPerGroupMOOP MEHBInnTier2FamilyPerPersonMOOP MEHBInnTier2IndividualMOOP MEHBOutOfNetFamilyMOOP MEHBOutOfNetFamilyPerGroupMOOP MEHBOutOfNetFamilyPerPersonMOOP MEHBOutOfNetIndividualMOOP      MarketCoverage MedicalDrugDeductiblesIntegrated MedicalDrugMaximumOutofPocketIntegrated MetalLevel MultipleInNetworkTiers NationalNetwork NetworkId OutOfCountryCoverage OutOfCountryCoverageDescription OutOfServiceAreaCoverage OutOfServiceAreaCoverageDescription                                       PlanBrochure PlanEffictiveDate PlanExpirationDate             PlanId                         PlanLevelExclusions PlanMarketingName PlanType QHPNonQHPTypeId  RowNumber SBCHavingDiabetesCoinsurance SBCHavingDiabetesCopayment SBCHavingDiabetesDeductible SBCHavingDiabetesLimit SBCHavingaBabyCoinsurance SBCHavingaBabyCopayment SBCHavingaBabyDeductible SBCHavingaBabyLimit SecondTierUtilization ServiceAreaId SourceName SpecialistRequiringReferral SpecialtyDrugMaximumCoinsurance StandardComponentId StateCode StateCode2 TEHBCombInnOonFamilyMOOP TEHBCombInnOonFamilyPerGroupMOOP TEHBCombInnOonFamilyPerPersonMOOP TEHBCombInnOonIndividualMOOP TEHBDedCombInnOonFamily TEHBDedCombInnOonFamilyPerGroup TEHBDedCombInnOonFamilyPerPerson TEHBDedCombInnOonIndividual TEHBDedInnTier1Coinsurance TEHBDedInnTier1Family TEHBDedInnTier1FamilyPerGroup TEHBDedInnTier1FamilyPerPerson TEHBDedInnTier1Individual TEHBDedInnTier2Coinsurance TEHBDedInnTier2Family TEHBDedInnTier2FamilyPerGroup TEHBDedInnTier2FamilyPerPerson TEHBDedInnTier2Individual TEHBDedOutOfNetFamily TEHBDedOutOfNetFamilyPerGroup TEHBDedOutOfNetFamilyPerPerson TEHBDedOutOfNetIndividual TEHBInnTier1FamilyMOOP TEHBInnTier1FamilyPerGroupMOOP TEHBInnTier1FamilyPerPersonMOOP TEHBInnTier1IndividualMOOP TEHBInnTier2FamilyMOOP TEHBInnTier2FamilyPerGroupMOOP TEHBInnTier2FamilyPerPersonMOOP TEHBInnTier2IndividualMOOP TEHBOutOfNetFamilyMOOP TEHBOutOfNetFamilyPerGroupMOOP TEHBOutOfNetFamilyPerPersonMOOP TEHBOutOfNetIndividualMOOP         TIN                            URLForEnrollmentPayment                    URLForSummaryofBenefitsCoverage UniquePlanDesign  VersionNum WellnessProgramOffered\n",
       "0                      NaN                                             NaN                                                NaN                        1          2014   Standard Low Off Exchange Plan  Allows Adult and Child-Only             NaN                    NaN                      NaN                              NaN                               NaN                          NaN                     NaN                             NaN                              NaN                         NaN                        NaN                   NaN                           NaN                            NaN                       NaN                        NaN                   NaN                           NaN                            NaN                       NaN                   NaN                           NaN                            NaN                       NaN                    NaN                            NaN                             NaN                        NaN                     NaN                             NaN                              NaN                         NaN                    NaN                            NaN                             NaN                        NaN            Yes                              NaN                                      29                  NaN                     NaN                 100%         NaN          NaN    21989AK002   NaN                          NaN                                NaN  2014-03-19 07:06:49                                                NaN                                      NaN  Guaranteed Rate           NaN       New                          NaN                             NaN               70.00%     21989      21989                   $1,400                              NaN                               NaN                         $700                    $100                             NaN                              NaN                         $50                        NaN        Not Applicable                           NaN                            NaN            Not Applicable                        NaN                   NaN                           NaN                            NaN                       NaN        Not Applicable                           NaN                            NaN            Not Applicable         Not Applicable                            NaN                             NaN             Not Applicable                    NaN                            NaN                             NaN                        NaN         Not Applicable                            NaN                             NaN             Not Applicable  SHOP (Small Group)                              NaN                                     NaN        Low                     No             Yes    AKN001                   No                             NaN                      Yes                    National Network  https://www.modahealth.com/producers/grp/den.s...        2014-01-01         2014-12-31  21989AK0020002-00  OOP Max only applies to pediatric benefits           Premier      PPO            Both          6                          NaN                        NaN                         NaN                    NaN                       NaN                     NaN                      NaN                 NaN                   NaN        AKS001       HIOS                         NaN                             NaN      21989AK0020002        AK         AK                      NaN                              NaN                               NaN                          NaN                     NaN                             NaN                              NaN                         NaN                        NaN                   NaN                           NaN                            NaN                       NaN                        NaN                   NaN                           NaN                            NaN                       NaN                   NaN                           NaN                            NaN                       NaN                    NaN                            NaN                             NaN                        NaN                    NaN                            NaN                             NaN                        NaN                    NaN                            NaN                             NaN                        NaN  93-0438772  https://www.modahealth.com/employers/enroll.shtml  https://www.modahealth.com/producers/grp/den.s...              NaN           6                    NaN\n",
       "1                      NaN                                             NaN                                                NaN                        1          2014    Standard Low On Exchange Plan  Allows Adult and Child-Only             NaN                    NaN                      NaN                              NaN                               NaN                          NaN                     NaN                             NaN                              NaN                         NaN                        NaN                   NaN                           NaN                            NaN                       NaN                        NaN                   NaN                           NaN                            NaN                       NaN                   NaN                           NaN                            NaN                       NaN                    NaN                            NaN                             NaN                        NaN                     NaN                             NaN                              NaN                         NaN                    NaN                            NaN                             NaN                        NaN            Yes                              NaN                                      29                  NaN                     NaN                 100%         NaN          NaN    21989AK002   NaN                          NaN                                NaN  2014-03-19 07:06:49                                                NaN                                      NaN  Guaranteed Rate           NaN       New                          NaN                             NaN               70.00%     21989      21989                   $1,400                              NaN                               NaN                         $700                    $100                             NaN                              NaN                         $50                        NaN        Not Applicable                           NaN                            NaN            Not Applicable                        NaN                   NaN                           NaN                            NaN                       NaN        Not Applicable                           NaN                            NaN            Not Applicable         Not Applicable                            NaN                             NaN             Not Applicable                    NaN                            NaN                             NaN                        NaN         Not Applicable                            NaN                             NaN             Not Applicable  SHOP (Small Group)                              NaN                                     NaN        Low                     No             Yes    AKN001                   No                             NaN                      Yes                    National Network  https://www.modahealth.com/producers/grp/den.s...        2014-01-01         2014-12-31  21989AK0020002-01  OOP Max only applies to pediatric benefits           Premier      PPO            Both          7                          NaN                        NaN                         NaN                    NaN                       NaN                     NaN                      NaN                 NaN                   NaN        AKS001       HIOS                         NaN                             NaN      21989AK0020002        AK         AK                      NaN                              NaN                               NaN                          NaN                     NaN                             NaN                              NaN                         NaN                        NaN                   NaN                           NaN                            NaN                       NaN                        NaN                   NaN                           NaN                            NaN                       NaN                   NaN                           NaN                            NaN                       NaN                    NaN                            NaN                             NaN                        NaN                    NaN                            NaN                             NaN                        NaN                    NaN                            NaN                             NaN                        NaN  93-0438772  https://www.modahealth.com/employers/enroll.shtml  https://www.modahealth.com/producers/grp/den.s...              NaN           6                    NaN\n",
       "2                      NaN                                             NaN                                                NaN                        1          2014  Standard High Off Exchange Plan  Allows Adult and Child-Only             NaN                    NaN                      NaN                              NaN                               NaN                          NaN                     NaN                             NaN                              NaN                         NaN                        NaN                   NaN                           NaN                            NaN                       NaN                        NaN                   NaN                           NaN                            NaN                       NaN                   NaN                           NaN                            NaN                       NaN                    NaN                            NaN                             NaN                        NaN                     NaN                             NaN                              NaN                         NaN                    NaN                            NaN                             NaN                        NaN            Yes                              NaN                                      35                  NaN                     NaN                 100%         NaN          NaN    21989AK002   NaN                          NaN                                NaN  2014-03-19 07:06:49                                                NaN                                      NaN  Guaranteed Rate           NaN       New                          NaN                             NaN               84.60%     21989      21989                   $1,400                              NaN                               NaN                         $700                    $100                             NaN                              NaN                         $50                        NaN        Not Applicable                           NaN                            NaN            Not Applicable                        NaN                   NaN                           NaN                            NaN                       NaN        Not Applicable                           NaN                            NaN            Not Applicable         Not Applicable                            NaN                             NaN             Not Applicable                    NaN                            NaN                             NaN                        NaN         Not Applicable                            NaN                             NaN             Not Applicable  SHOP (Small Group)                              NaN                                     NaN       High                     No             Yes    AKN001                   No                             NaN                      Yes                    National Network  https://www.modahealth.com/producers/grp/den.s...        2014-01-01         2014-12-31  21989AK0020001-00  OOP Max only applies to pediatric benefits           Premier      PPO            Both          4                          NaN                        NaN                         NaN                    NaN                       NaN                     NaN                      NaN                 NaN                   NaN        AKS001       HIOS                         NaN                             NaN      21989AK0020001        AK         AK                      NaN                              NaN                               NaN                          NaN                     NaN                             NaN                              NaN                         NaN                        NaN                   NaN                           NaN                            NaN                       NaN                        NaN                   NaN                           NaN                            NaN                       NaN                   NaN                           NaN                            NaN                       NaN                    NaN                            NaN                             NaN                        NaN                    NaN                            NaN                             NaN                        NaN                    NaN                            NaN                             NaN                        NaN  93-0438772  https://www.modahealth.com/employers/enroll.shtml  https://www.modahealth.com/producers/grp/den.s...              NaN           6                    NaN\n",
       "3                      NaN                                             NaN                                                NaN                        1          2014   Standard Low Off Exchange Plan  Allows Adult and Child-Only             NaN                    NaN                      NaN                              NaN                               NaN                          NaN                     NaN                             NaN                              NaN                         NaN                        NaN                   NaN                           NaN                            NaN                       NaN                        NaN                   NaN                           NaN                            NaN                       NaN                   NaN                           NaN                            NaN                       NaN                    NaN                            NaN                             NaN                        NaN                     NaN                             NaN                              NaN                         NaN                    NaN                            NaN                             NaN                        NaN            Yes                              NaN                                      29                  NaN                     NaN                 100%         NaN          NaN    21989AK001   NaN                          NaN                                NaN  2014-03-19 07:06:49                                                NaN                                      NaN  Guaranteed Rate           NaN       New                          NaN                             NaN               69.90%     21989      21989                   $1,400                              NaN                               NaN                         $700                      $0                             NaN                              NaN                          $0                        NaN        Not Applicable                           NaN                            NaN            Not Applicable                        NaN                   NaN                           NaN                            NaN                       NaN        Not Applicable                           NaN                            NaN            Not Applicable         Not Applicable                            NaN                             NaN             Not Applicable                    NaN                            NaN                             NaN                        NaN         Not Applicable                            NaN                             NaN             Not Applicable          Individual                              NaN                                     NaN        Low                     No             Yes    AKN001                   No                             NaN                      Yes                    National Network  https://www.modahealth.com/pdfs/ak/members/201...        2014-01-01         2014-12-31  21989AK0010001-00  OOP Max only applies to pediatric benefits           Premier      PPO            Both          4                          NaN                        NaN                         NaN                    NaN                       NaN                     NaN                      NaN                 NaN                   NaN        AKS001       HIOS                         NaN                             NaN      21989AK0010001        AK         AK                      NaN                              NaN                               NaN                          NaN                     NaN                             NaN                              NaN                         NaN                        NaN                   NaN                           NaN                            NaN                       NaN                        NaN                   NaN                           NaN                            NaN                       NaN                   NaN                           NaN                            NaN                       NaN                    NaN                            NaN                             NaN                        NaN                    NaN                            NaN                             NaN                        NaN                    NaN                            NaN                             NaN                        NaN  93-0438772                 https://www.modahealth.com/mymoda/  https://www.modahealth.com/pdfs/plans/individu...              NaN           6                    NaN\n",
       "4                      NaN                                             NaN                                                NaN                        1          2014    Standard Low On Exchange Plan  Allows Adult and Child-Only             NaN                    NaN                      NaN                              NaN                               NaN                          NaN                     NaN                             NaN                              NaN                         NaN                        NaN                   NaN                           NaN                            NaN                       NaN                        NaN                   NaN                           NaN                            NaN                       NaN                   NaN                           NaN                            NaN                       NaN                    NaN                            NaN                             NaN                        NaN                     NaN                             NaN                              NaN                         NaN                    NaN                            NaN                             NaN                        NaN            Yes                              NaN                                      29                  NaN                     NaN                 100%         NaN          NaN    21989AK001   NaN                          NaN                                NaN  2014-03-19 07:06:49                                                NaN                                      NaN  Guaranteed Rate           NaN       New                          NaN                             NaN               69.90%     21989      21989                   $1,400                              NaN                               NaN                         $700                      $0                             NaN                              NaN                          $0                        NaN        Not Applicable                           NaN                            NaN            Not Applicable                        NaN                   NaN                           NaN                            NaN                       NaN        Not Applicable                           NaN                            NaN            Not Applicable         Not Applicable                            NaN                             NaN             Not Applicable                    NaN                            NaN                             NaN                        NaN         Not Applicable                            NaN                             NaN             Not Applicable          Individual                              NaN                                     NaN        Low                     No             Yes    AKN001                   No                             NaN                      Yes                    National Network  https://www.modahealth.com/pdfs/ak/members/201...        2014-01-01         2014-12-31  21989AK0010001-01  OOP Max only applies to pediatric benefits           Premier      PPO            Both          5                          NaN                        NaN                         NaN                    NaN                       NaN                     NaN                      NaN                 NaN                   NaN        AKS001       HIOS                         NaN                             NaN      21989AK0010001        AK         AK                      NaN                              NaN                               NaN                          NaN                     NaN                             NaN                              NaN                         NaN                        NaN                   NaN                           NaN                            NaN                       NaN                        NaN                   NaN                           NaN                            NaN                       NaN                   NaN                           NaN                            NaN                       NaN                    NaN                            NaN                             NaN                        NaN                    NaN                            NaN                             NaN                        NaN                    NaN                            NaN                             NaN                        NaN  93-0438772                 https://www.modahealth.com/mymoda/  https://www.modahealth.com/pdfs/plans/individu...              NaN           6                    NaN"
      ]
     },
     "execution_count": 37,
     "metadata": {},
     "output_type": "execute_result"
    }
   ],
   "source": [
    "dental.head()"
   ]
  },
  {
   "cell_type": "markdown",
   "metadata": {},
   "source": [
    "Well, this is a big messy dataframe. We are only interested in the column DentalOnlyPlan. Let's have a look at it:"
   ]
  },
  {
   "cell_type": "code",
   "execution_count": 38,
   "metadata": {
    "collapsed": false,
    "scrolled": true
   },
   "outputs": [
    {
     "data": {
      "text/plain": [
       "array(['Yes', 'No'], dtype=object)"
      ]
     },
     "execution_count": 38,
     "metadata": {},
     "output_type": "execute_result"
    }
   ],
   "source": [
    "dental['DentalOnlyPlan'].unique()"
   ]
  },
  {
   "cell_type": "markdown",
   "metadata": {},
   "source": [
    "At least this one is clean!"
   ]
  },
  {
   "cell_type": "markdown",
   "metadata": {},
   "source": [
    "If we want to merge this dataframe with our first ones from above, we have to make sure that we have one identifier on which we can actually merge them. PlanId seems to be a natural choice. Unfortunately, there is no PlanId in the dental dataframe. However, there is a HIOSProductId that seems to be related."
   ]
  },
  {
   "cell_type": "code",
   "execution_count": 39,
   "metadata": {
    "collapsed": false
   },
   "outputs": [
    {
     "data": {
      "text/plain": [
       "3497"
      ]
     },
     "execution_count": 39,
     "metadata": {},
     "output_type": "execute_result"
    }
   ],
   "source": [
    "len(dental['HIOSProductId'].unique())"
   ]
  },
  {
   "cell_type": "code",
   "execution_count": 40,
   "metadata": {
    "collapsed": false
   },
   "outputs": [
    {
     "data": {
      "text/plain": [
       "16808"
      ]
     },
     "execution_count": 40,
     "metadata": {},
     "output_type": "execute_result"
    }
   ],
   "source": [
    "len(df['PlanId'].unique())"
   ]
  },
  {
   "cell_type": "markdown",
   "metadata": {},
   "source": [
    "These PlanId's from the Rate.csv file are not exactly the same as the HIOSProductId's from the PlanAttributes.csv file. The format is similar: 29416MO0010001 versus 21989AK002. I can try to strip the last four digits from the PlanId's to see if the number of PlanId's and HIOSProductId's matches then."
   ]
  },
  {
   "cell_type": "code",
   "execution_count": 41,
   "metadata": {
    "collapsed": false
   },
   "outputs": [
    {
     "data": {
      "text/plain": [
       "3498"
      ]
     },
     "execution_count": 41,
     "metadata": {},
     "output_type": "execute_result"
    }
   ],
   "source": [
    "Ids = df.PlanId\n",
    "mod_Ids = [x[:-4] for x in Ids]\n",
    "len(set(mod_Ids))"
   ]
  },
  {
   "cell_type": "markdown",
   "metadata": {},
   "source": [
    "There is one more element in the modified PlanId list than in the dental list. Let's find it."
   ]
  },
  {
   "cell_type": "code",
   "execution_count": 42,
   "metadata": {
    "collapsed": false
   },
   "outputs": [
    {
     "data": {
      "text/plain": [
       "{'19312TZ001'}"
      ]
     },
     "execution_count": 42,
     "metadata": {},
     "output_type": "execute_result"
    }
   ],
   "source": [
    "set(mod_Ids)-set(dental['HIOSProductId'].unique())"
   ]
  },
  {
   "cell_type": "markdown",
   "metadata": {},
   "source": [
    "TZ is not a valid State abbreviation. There's a plan in Texas with name 19312TX001, though. So let's change this typo."
   ]
  },
  {
   "cell_type": "code",
   "execution_count": 43,
   "metadata": {
    "collapsed": false
   },
   "outputs": [
    {
     "data": {
      "text/plain": [
       "set()"
      ]
     },
     "execution_count": 43,
     "metadata": {},
     "output_type": "execute_result"
    }
   ],
   "source": [
    "mod_Ids = ['19312TX001' if x=='19312TZ001' else x for x in mod_Ids]\n",
    "set(mod_Ids)-set(dental['HIOSProductId'].unique())"
   ]
  },
  {
   "cell_type": "markdown",
   "metadata": {},
   "source": [
    "Well, there we go. That was easy. Now lets add these new labels as a new column to the original dataframe and then merge the dental dataframe."
   ]
  },
  {
   "cell_type": "code",
   "execution_count": 44,
   "metadata": {
    "collapsed": false
   },
   "outputs": [],
   "source": [
    "df.loc[:,'HIOSProductId'] = pd.Series(mod_Ids, index=df.index)"
   ]
  },
  {
   "cell_type": "code",
   "execution_count": 45,
   "metadata": {
    "collapsed": false
   },
   "outputs": [
    {
     "data": {
      "text/plain": [
       "(12442241, 16)"
      ]
     },
     "execution_count": 45,
     "metadata": {},
     "output_type": "execute_result"
    }
   ],
   "source": [
    "df.shape"
   ]
  },
  {
   "cell_type": "markdown",
   "metadata": {},
   "source": [
    "Success. Let's do all this for the dfs of the individual three years"
   ]
  },
  {
   "cell_type": "code",
   "execution_count": 46,
   "metadata": {
    "collapsed": false
   },
   "outputs": [],
   "source": [
    "Ids_2014 = df2014.PlanId\n",
    "mod_Ids_2014 = [x[:-4] for x in Ids_2014]\n",
    "Ids_2015 = df2015.PlanId\n",
    "mod_Ids_2015 = [x[:-4] for x in Ids_2015]\n",
    "Ids_2016 = df2016.PlanId\n",
    "mod_Ids_2016 = [x[:-4] for x in Ids_2016]"
   ]
  },
  {
   "cell_type": "code",
   "execution_count": 47,
   "metadata": {
    "collapsed": true
   },
   "outputs": [],
   "source": [
    "mod_Ids_2014 = ['19312TX001' if x=='19312TZ001' else x for x in mod_Ids_2014]\n",
    "mod_Ids_2015 = ['19312TX001' if x=='19312TZ001' else x for x in mod_Ids_2015]\n",
    "mod_Ids_2016 = ['19312TX001' if x=='19312TZ001' else x for x in mod_Ids_2016]"
   ]
  },
  {
   "cell_type": "code",
   "execution_count": 48,
   "metadata": {
    "collapsed": false
   },
   "outputs": [],
   "source": [
    "df2014.loc[:,'HIOSProductId'] = mod_Ids_2014\n",
    "df2015.loc[:,'HIOSProductId'] = mod_Ids_2015\n",
    "df2016.loc[:,'HIOSProductId'] = mod_Ids_2016"
   ]
  },
  {
   "cell_type": "code",
   "execution_count": 49,
   "metadata": {
    "collapsed": false
   },
   "outputs": [
    {
     "data": {
      "text/plain": [
       "1836"
      ]
     },
     "execution_count": 49,
     "metadata": {},
     "output_type": "execute_result"
    }
   ],
   "source": [
    "len(set(df2014['HIOSProductId']))"
   ]
  },
  {
   "cell_type": "code",
   "execution_count": 50,
   "metadata": {
    "collapsed": false
   },
   "outputs": [
    {
     "data": {
      "text/plain": [
       "(3676037, 16)"
      ]
     },
     "execution_count": 50,
     "metadata": {},
     "output_type": "execute_result"
    }
   ],
   "source": [
    "df2014.shape"
   ]
  },
  {
   "cell_type": "markdown",
   "metadata": {},
   "source": [
    "Let's create a diet version of the dental DataFrame before we merge it with the dfs. We only need the DentalOnlyPlan column."
   ]
  },
  {
   "cell_type": "code",
   "execution_count": 51,
   "metadata": {
    "collapsed": false
   },
   "outputs": [
    {
     "data": {
      "text/plain": [
       "(77353, 2)"
      ]
     },
     "execution_count": 51,
     "metadata": {},
     "output_type": "execute_result"
    }
   ],
   "source": [
    "dental_diet = dental[['HIOSProductId', 'DentalOnlyPlan']].copy()\n",
    "dental_diet.shape"
   ]
  },
  {
   "cell_type": "code",
   "execution_count": 52,
   "metadata": {
    "collapsed": false
   },
   "outputs": [
    {
     "data": {
      "text/html": [
       "<div>\n",
       "<table border=\"1\" class=\"dataframe\">\n",
       "  <thead>\n",
       "    <tr style=\"text-align: right;\">\n",
       "      <th></th>\n",
       "      <th>HIOSProductId</th>\n",
       "      <th>DentalOnlyPlan</th>\n",
       "    </tr>\n",
       "  </thead>\n",
       "  <tbody>\n",
       "    <tr>\n",
       "      <th>0</th>\n",
       "      <td>21989AK002</td>\n",
       "      <td>Yes</td>\n",
       "    </tr>\n",
       "    <tr>\n",
       "      <th>1</th>\n",
       "      <td>21989AK002</td>\n",
       "      <td>Yes</td>\n",
       "    </tr>\n",
       "    <tr>\n",
       "      <th>2</th>\n",
       "      <td>21989AK002</td>\n",
       "      <td>Yes</td>\n",
       "    </tr>\n",
       "    <tr>\n",
       "      <th>3</th>\n",
       "      <td>21989AK001</td>\n",
       "      <td>Yes</td>\n",
       "    </tr>\n",
       "    <tr>\n",
       "      <th>4</th>\n",
       "      <td>21989AK001</td>\n",
       "      <td>Yes</td>\n",
       "    </tr>\n",
       "  </tbody>\n",
       "</table>\n",
       "</div>"
      ],
      "text/plain": [
       "  HIOSProductId DentalOnlyPlan\n",
       "0    21989AK002            Yes\n",
       "1    21989AK002            Yes\n",
       "2    21989AK002            Yes\n",
       "3    21989AK001            Yes\n",
       "4    21989AK001            Yes"
      ]
     },
     "execution_count": 52,
     "metadata": {},
     "output_type": "execute_result"
    }
   ],
   "source": [
    "dental_diet.head()"
   ]
  },
  {
   "cell_type": "code",
   "execution_count": 53,
   "metadata": {
    "collapsed": false
   },
   "outputs": [
    {
     "data": {
      "text/plain": [
       "No     65704\n",
       "Yes    11649\n",
       "Name: DentalOnlyPlan, dtype: int64"
      ]
     },
     "execution_count": 53,
     "metadata": {},
     "output_type": "execute_result"
    }
   ],
   "source": [
    "dental_diet['DentalOnlyPlan'].value_counts()"
   ]
  },
  {
   "cell_type": "markdown",
   "metadata": {},
   "source": [
    "Merging two dataframes can be a bit tricky. Since it is likely that we will have to try several times until it works the way we imagine them to be merged, we should test the merging process on a smaller df first. Let's use the 2014 df.\n",
    "\n",
    "Now, not all the PlanId's are in the 2014 df. If we merge the full dental df with the 2014 df, we will get spurious rows with the PlanId's that are not used in 2014. We should create a 2014 dental df to avoid these spurious entries after merging."
   ]
  },
  {
   "cell_type": "code",
   "execution_count": 54,
   "metadata": {
    "collapsed": false
   },
   "outputs": [],
   "source": [
    "not_in_2014 = set(dental_diet['HIOSProductId'])-set(df2014['HIOSProductId'])\n",
    "exclude_list_2014 = dental_diet['HIOSProductId'].isin(not_in_2014)\n",
    "dental_2014 = dental_diet[~exclude_list_2014].drop_duplicates().reset_index(drop=True)"
   ]
  },
  {
   "cell_type": "code",
   "execution_count": 55,
   "metadata": {
    "collapsed": false
   },
   "outputs": [
    {
     "data": {
      "text/plain": [
       "Yes    1074\n",
       "No      762\n",
       "Name: DentalOnlyPlan, dtype: int64"
      ]
     },
     "execution_count": 55,
     "metadata": {},
     "output_type": "execute_result"
    }
   ],
   "source": [
    "dental_2014['DentalOnlyPlan'].value_counts()"
   ]
  },
  {
   "cell_type": "markdown",
   "metadata": {},
   "source": [
    "And similar for 2015 and 2016:"
   ]
  },
  {
   "cell_type": "code",
   "execution_count": 56,
   "metadata": {
    "collapsed": true
   },
   "outputs": [],
   "source": [
    "not_in_2015 = set(dental_diet['HIOSProductId'])-set(df2015['HIOSProductId'])\n",
    "exclude_list_2015 = dental_diet['HIOSProductId'].isin(not_in_2015)\n",
    "dental_2015 = dental_diet[~exclude_list_2015].drop_duplicates().reset_index(drop=True)"
   ]
  },
  {
   "cell_type": "code",
   "execution_count": 57,
   "metadata": {
    "collapsed": true
   },
   "outputs": [],
   "source": [
    "not_in_2016 = set(dental_diet['HIOSProductId'])-set(df2016['HIOSProductId'])\n",
    "exclude_list_2016 = dental_diet['HIOSProductId'].isin(not_in_2016)\n",
    "dental_2016 = dental_diet[~exclude_list_2016].drop_duplicates().reset_index(drop=True)"
   ]
  },
  {
   "cell_type": "markdown",
   "metadata": {},
   "source": [
    "Merging the slim dental dataframe with the full dataframe containing all rates across all three years crashes as the Jupyter notebook runs out of memory. Let's just merge the 2014, 2015 and 2016 dental df's with the df's of the individual years -- and let's save them right away as CSV files so that we can start our further analysis from there."
   ]
  },
  {
   "cell_type": "code",
   "execution_count": 60,
   "metadata": {
    "collapsed": false
   },
   "outputs": [],
   "source": [
    "#df_merged = pd.merge(df, dental_diet, on='HIOSProductId',how='left', sort=False) # doesn't work, kernel will freeze as it runs out of memory\n",
    "df2014_merged = pd.merge(df2014, dental_2014, on='HIOSProductId', how='inner', sort=False)"
   ]
  },
  {
   "cell_type": "code",
   "execution_count": 61,
   "metadata": {
    "collapsed": false
   },
   "outputs": [
    {
     "data": {
      "text/plain": [
       "(3676037, 17)"
      ]
     },
     "execution_count": 61,
     "metadata": {},
     "output_type": "execute_result"
    }
   ],
   "source": [
    "df2014_merged.shape"
   ]
  },
  {
   "cell_type": "code",
   "execution_count": 62,
   "metadata": {
    "collapsed": false
   },
   "outputs": [
    {
     "data": {
      "text/html": [
       "<div>\n",
       "<table border=\"1\" class=\"dataframe\">\n",
       "  <thead>\n",
       "    <tr style=\"text-align: right;\">\n",
       "      <th></th>\n",
       "      <th>BusinessYear</th>\n",
       "      <th>StateCode</th>\n",
       "      <th>PlanId</th>\n",
       "      <th>RatingAreaId</th>\n",
       "      <th>Tobacco</th>\n",
       "      <th>Age</th>\n",
       "      <th>IndividualRate</th>\n",
       "      <th>IndividualTobaccoRate</th>\n",
       "      <th>Couple</th>\n",
       "      <th>PrimarySubscriberAndOneDependent</th>\n",
       "      <th>PrimarySubscriberAndTwoDependents</th>\n",
       "      <th>PrimarySubscriberAndThreeOrMoreDependents</th>\n",
       "      <th>CoupleAndOneDependent</th>\n",
       "      <th>CoupleAndTwoDependents</th>\n",
       "      <th>CoupleAndThreeOrMoreDependents</th>\n",
       "      <th>HIOSProductId</th>\n",
       "      <th>DentalOnlyPlan</th>\n",
       "    </tr>\n",
       "  </thead>\n",
       "  <tbody>\n",
       "    <tr>\n",
       "      <th>0</th>\n",
       "      <td>2014</td>\n",
       "      <td>AK</td>\n",
       "      <td>21989AK0010001</td>\n",
       "      <td>Rating Area 1</td>\n",
       "      <td>No Preference</td>\n",
       "      <td>0-20</td>\n",
       "      <td>29</td>\n",
       "      <td>NaN</td>\n",
       "      <td>NaN</td>\n",
       "      <td>NaN</td>\n",
       "      <td>NaN</td>\n",
       "      <td>NaN</td>\n",
       "      <td>NaN</td>\n",
       "      <td>NaN</td>\n",
       "      <td>NaN</td>\n",
       "      <td>21989AK001</td>\n",
       "      <td>Yes</td>\n",
       "    </tr>\n",
       "    <tr>\n",
       "      <th>1</th>\n",
       "      <td>2014</td>\n",
       "      <td>AK</td>\n",
       "      <td>21989AK0010001</td>\n",
       "      <td>Rating Area 1</td>\n",
       "      <td>No Preference</td>\n",
       "      <td>21</td>\n",
       "      <td>32</td>\n",
       "      <td>NaN</td>\n",
       "      <td>NaN</td>\n",
       "      <td>NaN</td>\n",
       "      <td>NaN</td>\n",
       "      <td>NaN</td>\n",
       "      <td>NaN</td>\n",
       "      <td>NaN</td>\n",
       "      <td>NaN</td>\n",
       "      <td>21989AK001</td>\n",
       "      <td>Yes</td>\n",
       "    </tr>\n",
       "    <tr>\n",
       "      <th>2</th>\n",
       "      <td>2014</td>\n",
       "      <td>AK</td>\n",
       "      <td>21989AK0010001</td>\n",
       "      <td>Rating Area 1</td>\n",
       "      <td>No Preference</td>\n",
       "      <td>22</td>\n",
       "      <td>32</td>\n",
       "      <td>NaN</td>\n",
       "      <td>NaN</td>\n",
       "      <td>NaN</td>\n",
       "      <td>NaN</td>\n",
       "      <td>NaN</td>\n",
       "      <td>NaN</td>\n",
       "      <td>NaN</td>\n",
       "      <td>NaN</td>\n",
       "      <td>21989AK001</td>\n",
       "      <td>Yes</td>\n",
       "    </tr>\n",
       "    <tr>\n",
       "      <th>3</th>\n",
       "      <td>2014</td>\n",
       "      <td>AK</td>\n",
       "      <td>21989AK0010001</td>\n",
       "      <td>Rating Area 1</td>\n",
       "      <td>No Preference</td>\n",
       "      <td>23</td>\n",
       "      <td>32</td>\n",
       "      <td>NaN</td>\n",
       "      <td>NaN</td>\n",
       "      <td>NaN</td>\n",
       "      <td>NaN</td>\n",
       "      <td>NaN</td>\n",
       "      <td>NaN</td>\n",
       "      <td>NaN</td>\n",
       "      <td>NaN</td>\n",
       "      <td>21989AK001</td>\n",
       "      <td>Yes</td>\n",
       "    </tr>\n",
       "    <tr>\n",
       "      <th>4</th>\n",
       "      <td>2014</td>\n",
       "      <td>AK</td>\n",
       "      <td>21989AK0010001</td>\n",
       "      <td>Rating Area 1</td>\n",
       "      <td>No Preference</td>\n",
       "      <td>24</td>\n",
       "      <td>32</td>\n",
       "      <td>NaN</td>\n",
       "      <td>NaN</td>\n",
       "      <td>NaN</td>\n",
       "      <td>NaN</td>\n",
       "      <td>NaN</td>\n",
       "      <td>NaN</td>\n",
       "      <td>NaN</td>\n",
       "      <td>NaN</td>\n",
       "      <td>21989AK001</td>\n",
       "      <td>Yes</td>\n",
       "    </tr>\n",
       "  </tbody>\n",
       "</table>\n",
       "</div>"
      ],
      "text/plain": [
       "   BusinessYear StateCode          PlanId   RatingAreaId        Tobacco   Age  IndividualRate  IndividualTobaccoRate  Couple  PrimarySubscriberAndOneDependent  PrimarySubscriberAndTwoDependents  PrimarySubscriberAndThreeOrMoreDependents  CoupleAndOneDependent  CoupleAndTwoDependents  CoupleAndThreeOrMoreDependents HIOSProductId DentalOnlyPlan\n",
       "0          2014        AK  21989AK0010001  Rating Area 1  No Preference  0-20              29                    NaN     NaN                               NaN                                NaN                                        NaN                    NaN                     NaN                             NaN    21989AK001            Yes\n",
       "1          2014        AK  21989AK0010001  Rating Area 1  No Preference    21              32                    NaN     NaN                               NaN                                NaN                                        NaN                    NaN                     NaN                             NaN    21989AK001            Yes\n",
       "2          2014        AK  21989AK0010001  Rating Area 1  No Preference    22              32                    NaN     NaN                               NaN                                NaN                                        NaN                    NaN                     NaN                             NaN    21989AK001            Yes\n",
       "3          2014        AK  21989AK0010001  Rating Area 1  No Preference    23              32                    NaN     NaN                               NaN                                NaN                                        NaN                    NaN                     NaN                             NaN    21989AK001            Yes\n",
       "4          2014        AK  21989AK0010001  Rating Area 1  No Preference    24              32                    NaN     NaN                               NaN                                NaN                                        NaN                    NaN                     NaN                             NaN    21989AK001            Yes"
      ]
     },
     "execution_count": 62,
     "metadata": {},
     "output_type": "execute_result"
    }
   ],
   "source": [
    "df2014_merged.head()"
   ]
  },
  {
   "cell_type": "markdown",
   "metadata": {},
   "source": [
    "Great, it worked! Let's see if there were any duplicates that we should drop:"
   ]
  },
  {
   "cell_type": "code",
   "execution_count": 63,
   "metadata": {
    "collapsed": false
   },
   "outputs": [],
   "source": [
    "df2014_cleaned = df2014_merged.drop_duplicates().reset_index(drop=True)"
   ]
  },
  {
   "cell_type": "code",
   "execution_count": 64,
   "metadata": {
    "collapsed": false
   },
   "outputs": [
    {
     "data": {
      "text/plain": [
       "(3676037, 17)"
      ]
     },
     "execution_count": 64,
     "metadata": {},
     "output_type": "execute_result"
    }
   ],
   "source": [
    "df2014_cleaned.shape"
   ]
  },
  {
   "cell_type": "markdown",
   "metadata": {},
   "source": [
    "No, the merging was clean. Great! \n",
    "\n",
    "How many dental only plans are there in 2014?"
   ]
  },
  {
   "cell_type": "code",
   "execution_count": 65,
   "metadata": {
    "collapsed": false
   },
   "outputs": [
    {
     "data": {
      "text/plain": [
       "No     2370659\n",
       "Yes    1305378\n",
       "Name: DentalOnlyPlan, dtype: int64"
      ]
     },
     "execution_count": 65,
     "metadata": {},
     "output_type": "execute_result"
    }
   ],
   "source": [
    "df2014_cleaned['DentalOnlyPlan'].value_counts()"
   ]
  },
  {
   "cell_type": "markdown",
   "metadata": {},
   "source": [
    "**Sixth finding:** One third of all listed plans are dental-only plans.\n",
    "\n",
    "The goal was to remove these dental-only plans so that we can get some statistics on the prizes of health insurance plans for individuals. So let's get rid of the dental-only plans!"
   ]
  },
  {
   "cell_type": "code",
   "execution_count": 66,
   "metadata": {
    "collapsed": true
   },
   "outputs": [],
   "source": [
    "df2014_merged_nodental = df2014_cleaned[df2014_cleaned['DentalOnlyPlan'].isin(['No'])].copy()"
   ]
  },
  {
   "cell_type": "code",
   "execution_count": 67,
   "metadata": {
    "collapsed": false
   },
   "outputs": [
    {
     "data": {
      "text/html": [
       "<div>\n",
       "<table border=\"1\" class=\"dataframe\">\n",
       "  <thead>\n",
       "    <tr style=\"text-align: right;\">\n",
       "      <th></th>\n",
       "      <th>BusinessYear</th>\n",
       "      <th>StateCode</th>\n",
       "      <th>PlanId</th>\n",
       "      <th>RatingAreaId</th>\n",
       "      <th>Tobacco</th>\n",
       "      <th>Age</th>\n",
       "      <th>IndividualRate</th>\n",
       "      <th>IndividualTobaccoRate</th>\n",
       "      <th>Couple</th>\n",
       "      <th>PrimarySubscriberAndOneDependent</th>\n",
       "      <th>PrimarySubscriberAndTwoDependents</th>\n",
       "      <th>PrimarySubscriberAndThreeOrMoreDependents</th>\n",
       "      <th>CoupleAndOneDependent</th>\n",
       "      <th>CoupleAndTwoDependents</th>\n",
       "      <th>CoupleAndThreeOrMoreDependents</th>\n",
       "      <th>HIOSProductId</th>\n",
       "      <th>DentalOnlyPlan</th>\n",
       "    </tr>\n",
       "  </thead>\n",
       "  <tbody>\n",
       "    <tr>\n",
       "      <th>1398</th>\n",
       "      <td>2014</td>\n",
       "      <td>AK</td>\n",
       "      <td>73836AK0620001</td>\n",
       "      <td>Rating Area 1</td>\n",
       "      <td>No Preference</td>\n",
       "      <td>0-20</td>\n",
       "      <td>143</td>\n",
       "      <td>NaN</td>\n",
       "      <td>NaN</td>\n",
       "      <td>NaN</td>\n",
       "      <td>NaN</td>\n",
       "      <td>NaN</td>\n",
       "      <td>NaN</td>\n",
       "      <td>NaN</td>\n",
       "      <td>NaN</td>\n",
       "      <td>73836AK062</td>\n",
       "      <td>No</td>\n",
       "    </tr>\n",
       "    <tr>\n",
       "      <th>1399</th>\n",
       "      <td>2014</td>\n",
       "      <td>AK</td>\n",
       "      <td>73836AK0620001</td>\n",
       "      <td>Rating Area 1</td>\n",
       "      <td>No Preference</td>\n",
       "      <td>21</td>\n",
       "      <td>225</td>\n",
       "      <td>NaN</td>\n",
       "      <td>NaN</td>\n",
       "      <td>NaN</td>\n",
       "      <td>NaN</td>\n",
       "      <td>NaN</td>\n",
       "      <td>NaN</td>\n",
       "      <td>NaN</td>\n",
       "      <td>NaN</td>\n",
       "      <td>73836AK062</td>\n",
       "      <td>No</td>\n",
       "    </tr>\n",
       "    <tr>\n",
       "      <th>1400</th>\n",
       "      <td>2014</td>\n",
       "      <td>AK</td>\n",
       "      <td>73836AK0620001</td>\n",
       "      <td>Rating Area 1</td>\n",
       "      <td>No Preference</td>\n",
       "      <td>22</td>\n",
       "      <td>225</td>\n",
       "      <td>NaN</td>\n",
       "      <td>NaN</td>\n",
       "      <td>NaN</td>\n",
       "      <td>NaN</td>\n",
       "      <td>NaN</td>\n",
       "      <td>NaN</td>\n",
       "      <td>NaN</td>\n",
       "      <td>NaN</td>\n",
       "      <td>73836AK062</td>\n",
       "      <td>No</td>\n",
       "    </tr>\n",
       "    <tr>\n",
       "      <th>1401</th>\n",
       "      <td>2014</td>\n",
       "      <td>AK</td>\n",
       "      <td>73836AK0620001</td>\n",
       "      <td>Rating Area 1</td>\n",
       "      <td>No Preference</td>\n",
       "      <td>23</td>\n",
       "      <td>225</td>\n",
       "      <td>NaN</td>\n",
       "      <td>NaN</td>\n",
       "      <td>NaN</td>\n",
       "      <td>NaN</td>\n",
       "      <td>NaN</td>\n",
       "      <td>NaN</td>\n",
       "      <td>NaN</td>\n",
       "      <td>NaN</td>\n",
       "      <td>73836AK062</td>\n",
       "      <td>No</td>\n",
       "    </tr>\n",
       "    <tr>\n",
       "      <th>1402</th>\n",
       "      <td>2014</td>\n",
       "      <td>AK</td>\n",
       "      <td>73836AK0620001</td>\n",
       "      <td>Rating Area 1</td>\n",
       "      <td>No Preference</td>\n",
       "      <td>24</td>\n",
       "      <td>225</td>\n",
       "      <td>NaN</td>\n",
       "      <td>NaN</td>\n",
       "      <td>NaN</td>\n",
       "      <td>NaN</td>\n",
       "      <td>NaN</td>\n",
       "      <td>NaN</td>\n",
       "      <td>NaN</td>\n",
       "      <td>NaN</td>\n",
       "      <td>73836AK062</td>\n",
       "      <td>No</td>\n",
       "    </tr>\n",
       "  </tbody>\n",
       "</table>\n",
       "</div>"
      ],
      "text/plain": [
       "      BusinessYear StateCode          PlanId   RatingAreaId        Tobacco   Age  IndividualRate  IndividualTobaccoRate  Couple  PrimarySubscriberAndOneDependent  PrimarySubscriberAndTwoDependents  PrimarySubscriberAndThreeOrMoreDependents  CoupleAndOneDependent  CoupleAndTwoDependents  CoupleAndThreeOrMoreDependents HIOSProductId DentalOnlyPlan\n",
       "1398          2014        AK  73836AK0620001  Rating Area 1  No Preference  0-20             143                    NaN     NaN                               NaN                                NaN                                        NaN                    NaN                     NaN                             NaN    73836AK062             No\n",
       "1399          2014        AK  73836AK0620001  Rating Area 1  No Preference    21             225                    NaN     NaN                               NaN                                NaN                                        NaN                    NaN                     NaN                             NaN    73836AK062             No\n",
       "1400          2014        AK  73836AK0620001  Rating Area 1  No Preference    22             225                    NaN     NaN                               NaN                                NaN                                        NaN                    NaN                     NaN                             NaN    73836AK062             No\n",
       "1401          2014        AK  73836AK0620001  Rating Area 1  No Preference    23             225                    NaN     NaN                               NaN                                NaN                                        NaN                    NaN                     NaN                             NaN    73836AK062             No\n",
       "1402          2014        AK  73836AK0620001  Rating Area 1  No Preference    24             225                    NaN     NaN                               NaN                                NaN                                        NaN                    NaN                     NaN                             NaN    73836AK062             No"
      ]
     },
     "execution_count": 67,
     "metadata": {},
     "output_type": "execute_result"
    }
   ],
   "source": [
    "df2014_merged_nodental.head()"
   ]
  },
  {
   "cell_type": "code",
   "execution_count": 68,
   "metadata": {
    "collapsed": false,
    "scrolled": true
   },
   "outputs": [
    {
     "data": {
      "text/plain": [
       "(2370659, 17)"
      ]
     },
     "execution_count": 68,
     "metadata": {},
     "output_type": "execute_result"
    }
   ],
   "source": [
    "df2014_merged_nodental.shape"
   ]
  },
  {
   "cell_type": "markdown",
   "metadata": {},
   "source": [
    "This is slow and painful. We shouldn't have to do this more than once. Let's write the df to a file."
   ]
  },
  {
   "cell_type": "code",
   "execution_count": 69,
   "metadata": {
    "collapsed": true
   },
   "outputs": [],
   "source": [
    "df2014_merged_nodental.to_csv(\"Rates2014.csv\")"
   ]
  },
  {
   "cell_type": "markdown",
   "metadata": {},
   "source": [
    "And repeat for the other years:"
   ]
  },
  {
   "cell_type": "code",
   "execution_count": 70,
   "metadata": {
    "collapsed": true
   },
   "outputs": [],
   "source": [
    "df2015_merged = pd.merge(df2015, dental_2015, on='HIOSProductId',how='inner', sort=False)"
   ]
  },
  {
   "cell_type": "code",
   "execution_count": 71,
   "metadata": {
    "collapsed": false
   },
   "outputs": [],
   "source": [
    "df2015_cleaned = df2015_merged.drop_duplicates().reset_index(drop=True)"
   ]
  },
  {
   "cell_type": "code",
   "execution_count": 72,
   "metadata": {
    "collapsed": true
   },
   "outputs": [],
   "source": [
    "df2015_merged_nodental = df2015_cleaned[df2015_cleaned['DentalOnlyPlan'].isin(['No'])]"
   ]
  },
  {
   "cell_type": "code",
   "execution_count": 73,
   "metadata": {
    "collapsed": true
   },
   "outputs": [],
   "source": [
    "df2015_merged_nodental.to_csv(\"Rates2015.csv\")"
   ]
  },
  {
   "cell_type": "code",
   "execution_count": 74,
   "metadata": {
    "collapsed": true
   },
   "outputs": [],
   "source": [
    "df2016_merged = pd.merge(df2016, dental_2016, on='HIOSProductId',how='inner', sort=False)"
   ]
  },
  {
   "cell_type": "code",
   "execution_count": 75,
   "metadata": {
    "collapsed": true
   },
   "outputs": [],
   "source": [
    "df2016_cleaned = df2016_merged.drop_duplicates().reset_index(drop=True)"
   ]
  },
  {
   "cell_type": "code",
   "execution_count": 76,
   "metadata": {
    "collapsed": false
   },
   "outputs": [],
   "source": [
    "df2016_merged_nodental = df2016_cleaned[df2016_cleaned['DentalOnlyPlan'].isin(['No'])]"
   ]
  },
  {
   "cell_type": "code",
   "execution_count": 77,
   "metadata": {
    "collapsed": false
   },
   "outputs": [],
   "source": [
    "df2016_merged_nodental.to_csv(\"Rates2016.csv\")"
   ]
  },
  {
   "cell_type": "markdown",
   "metadata": {},
   "source": [
    "### The cleaned datasets for full health insurance plan rates (the case of Montana continued)"
   ]
  },
  {
   "cell_type": "markdown",
   "metadata": {},
   "source": [
    "Now that we have removed all the dental-only plans, we can actually have a look at the distribution of plan rates in Montana.\n",
    "\n",
    "We can either create a new Montana dataframe from the cleaned 2014 df, or quickly clean the Montana df. Let's do the latter. It's good exercise."
   ]
  },
  {
   "cell_type": "code",
   "execution_count": 78,
   "metadata": {
    "collapsed": false
   },
   "outputs": [
    {
     "data": {
      "text/plain": [
       "73"
      ]
     },
     "execution_count": 78,
     "metadata": {},
     "output_type": "execute_result"
    }
   ],
   "source": [
    "Ids_mo = df2014_mo.PlanId\n",
    "mod_Ids_mo = [x[:-4] for x in Ids_mo]\n",
    "len(set(mod_Ids_mo))"
   ]
  },
  {
   "cell_type": "code",
   "execution_count": 79,
   "metadata": {
    "collapsed": false
   },
   "outputs": [
    {
     "data": {
      "text/plain": [
       "(40618,)"
      ]
     },
     "execution_count": 79,
     "metadata": {},
     "output_type": "execute_result"
    }
   ],
   "source": [
    "Ids_mo.shape"
   ]
  },
  {
   "cell_type": "code",
   "execution_count": 80,
   "metadata": {
    "collapsed": false,
    "scrolled": true
   },
   "outputs": [
    {
     "data": {
      "text/plain": [
       "set()"
      ]
     },
     "execution_count": 80,
     "metadata": {},
     "output_type": "execute_result"
    }
   ],
   "source": [
    "mod_Ids_mo = ['19312TX001' if x=='19312TZ001' else x for x in mod_Ids_mo]\n",
    "set(mod_Ids_mo)-set(dental['HIOSProductId'].unique())"
   ]
  },
  {
   "cell_type": "code",
   "execution_count": 81,
   "metadata": {
    "collapsed": false
   },
   "outputs": [],
   "source": [
    "df2014_mo.loc[:,'HIOSProductId']= mod_Ids_mo"
   ]
  },
  {
   "cell_type": "code",
   "execution_count": 82,
   "metadata": {
    "collapsed": false
   },
   "outputs": [
    {
     "data": {
      "text/html": [
       "<div>\n",
       "<table border=\"1\" class=\"dataframe\">\n",
       "  <thead>\n",
       "    <tr style=\"text-align: right;\">\n",
       "      <th></th>\n",
       "      <th>BusinessYear</th>\n",
       "      <th>StateCode</th>\n",
       "      <th>PlanId</th>\n",
       "      <th>RatingAreaId</th>\n",
       "      <th>Tobacco</th>\n",
       "      <th>Age</th>\n",
       "      <th>IndividualRate</th>\n",
       "      <th>IndividualTobaccoRate</th>\n",
       "      <th>Couple</th>\n",
       "      <th>PrimarySubscriberAndOneDependent</th>\n",
       "      <th>PrimarySubscriberAndTwoDependents</th>\n",
       "      <th>PrimarySubscriberAndThreeOrMoreDependents</th>\n",
       "      <th>CoupleAndOneDependent</th>\n",
       "      <th>CoupleAndTwoDependents</th>\n",
       "      <th>CoupleAndThreeOrMoreDependents</th>\n",
       "      <th>HIOSProductId</th>\n",
       "    </tr>\n",
       "  </thead>\n",
       "  <tbody>\n",
       "    <tr>\n",
       "      <th>1289292</th>\n",
       "      <td>2014</td>\n",
       "      <td>MO</td>\n",
       "      <td>29416MO0010001</td>\n",
       "      <td>Rating Area 1</td>\n",
       "      <td>No Preference</td>\n",
       "      <td>0-20</td>\n",
       "      <td>24.48</td>\n",
       "      <td>NaN</td>\n",
       "      <td>NaN</td>\n",
       "      <td>NaN</td>\n",
       "      <td>NaN</td>\n",
       "      <td>NaN</td>\n",
       "      <td>NaN</td>\n",
       "      <td>NaN</td>\n",
       "      <td>NaN</td>\n",
       "      <td>29416MO001</td>\n",
       "    </tr>\n",
       "    <tr>\n",
       "      <th>1289293</th>\n",
       "      <td>2014</td>\n",
       "      <td>MO</td>\n",
       "      <td>29416MO0010002</td>\n",
       "      <td>Rating Area 1</td>\n",
       "      <td>No Preference</td>\n",
       "      <td>0-20</td>\n",
       "      <td>20.12</td>\n",
       "      <td>NaN</td>\n",
       "      <td>NaN</td>\n",
       "      <td>NaN</td>\n",
       "      <td>NaN</td>\n",
       "      <td>NaN</td>\n",
       "      <td>NaN</td>\n",
       "      <td>NaN</td>\n",
       "      <td>NaN</td>\n",
       "      <td>29416MO001</td>\n",
       "    </tr>\n",
       "    <tr>\n",
       "      <th>1289294</th>\n",
       "      <td>2014</td>\n",
       "      <td>MO</td>\n",
       "      <td>29416MO0020001</td>\n",
       "      <td>Rating Area 1</td>\n",
       "      <td>No Preference</td>\n",
       "      <td>0-20</td>\n",
       "      <td>30.61</td>\n",
       "      <td>NaN</td>\n",
       "      <td>NaN</td>\n",
       "      <td>NaN</td>\n",
       "      <td>NaN</td>\n",
       "      <td>NaN</td>\n",
       "      <td>NaN</td>\n",
       "      <td>NaN</td>\n",
       "      <td>NaN</td>\n",
       "      <td>29416MO002</td>\n",
       "    </tr>\n",
       "    <tr>\n",
       "      <th>1289295</th>\n",
       "      <td>2014</td>\n",
       "      <td>MO</td>\n",
       "      <td>29416MO0020002</td>\n",
       "      <td>Rating Area 1</td>\n",
       "      <td>No Preference</td>\n",
       "      <td>0-20</td>\n",
       "      <td>25.15</td>\n",
       "      <td>NaN</td>\n",
       "      <td>NaN</td>\n",
       "      <td>NaN</td>\n",
       "      <td>NaN</td>\n",
       "      <td>NaN</td>\n",
       "      <td>NaN</td>\n",
       "      <td>NaN</td>\n",
       "      <td>NaN</td>\n",
       "      <td>29416MO002</td>\n",
       "    </tr>\n",
       "    <tr>\n",
       "      <th>1289296</th>\n",
       "      <td>2014</td>\n",
       "      <td>MO</td>\n",
       "      <td>29416MO0010003</td>\n",
       "      <td>Rating Area 1</td>\n",
       "      <td>No Preference</td>\n",
       "      <td>Family Option</td>\n",
       "      <td>26.37</td>\n",
       "      <td>NaN</td>\n",
       "      <td>52.74</td>\n",
       "      <td>50.89</td>\n",
       "      <td>75.42</td>\n",
       "      <td>109.75</td>\n",
       "      <td>77.26</td>\n",
       "      <td>101.79</td>\n",
       "      <td>136.12</td>\n",
       "      <td>29416MO001</td>\n",
       "    </tr>\n",
       "  </tbody>\n",
       "</table>\n",
       "</div>"
      ],
      "text/plain": [
       "         BusinessYear StateCode          PlanId   RatingAreaId        Tobacco            Age  IndividualRate  IndividualTobaccoRate  Couple  PrimarySubscriberAndOneDependent  PrimarySubscriberAndTwoDependents  PrimarySubscriberAndThreeOrMoreDependents  CoupleAndOneDependent  CoupleAndTwoDependents  CoupleAndThreeOrMoreDependents HIOSProductId\n",
       "1289292          2014        MO  29416MO0010001  Rating Area 1  No Preference           0-20           24.48                    NaN     NaN                               NaN                                NaN                                        NaN                    NaN                     NaN                             NaN    29416MO001\n",
       "1289293          2014        MO  29416MO0010002  Rating Area 1  No Preference           0-20           20.12                    NaN     NaN                               NaN                                NaN                                        NaN                    NaN                     NaN                             NaN    29416MO001\n",
       "1289294          2014        MO  29416MO0020001  Rating Area 1  No Preference           0-20           30.61                    NaN     NaN                               NaN                                NaN                                        NaN                    NaN                     NaN                             NaN    29416MO002\n",
       "1289295          2014        MO  29416MO0020002  Rating Area 1  No Preference           0-20           25.15                    NaN     NaN                               NaN                                NaN                                        NaN                    NaN                     NaN                             NaN    29416MO002\n",
       "1289296          2014        MO  29416MO0010003  Rating Area 1  No Preference  Family Option           26.37                    NaN   52.74                             50.89                              75.42                                     109.75                  77.26                  101.79                          136.12    29416MO001"
      ]
     },
     "execution_count": 82,
     "metadata": {},
     "output_type": "execute_result"
    }
   ],
   "source": [
    "df2014_mo.head()"
   ]
  },
  {
   "cell_type": "code",
   "execution_count": 83,
   "metadata": {
    "collapsed": false
   },
   "outputs": [
    {
     "data": {
      "text/plain": [
       "(73, 73, 3497)"
      ]
     },
     "execution_count": 83,
     "metadata": {},
     "output_type": "execute_result"
    }
   ],
   "source": [
    "len(set(mod_Ids_mo)), len(set(df2014_mo['HIOSProductId'])), len(set(dental_diet['HIOSProductId']))"
   ]
  },
  {
   "cell_type": "code",
   "execution_count": 84,
   "metadata": {
    "collapsed": false
   },
   "outputs": [
    {
     "data": {
      "text/plain": [
       "77353"
      ]
     },
     "execution_count": 84,
     "metadata": {},
     "output_type": "execute_result"
    }
   ],
   "source": [
    "not_in_mo = set(dental_diet['HIOSProductId'])-set(df2014_mo['HIOSProductId'])\n",
    "exclude_list = dental_diet['HIOSProductId'].isin(not_in_mo)\n",
    "len(exclude_list)"
   ]
  },
  {
   "cell_type": "code",
   "execution_count": 85,
   "metadata": {
    "collapsed": false
   },
   "outputs": [
    {
     "data": {
      "text/html": [
       "<div>\n",
       "<table border=\"1\" class=\"dataframe\">\n",
       "  <thead>\n",
       "    <tr style=\"text-align: right;\">\n",
       "      <th></th>\n",
       "      <th>HIOSProductId</th>\n",
       "      <th>DentalOnlyPlan</th>\n",
       "    </tr>\n",
       "  </thead>\n",
       "  <tbody>\n",
       "    <tr>\n",
       "      <th>0</th>\n",
       "      <td>32753MO077</td>\n",
       "      <td>No</td>\n",
       "    </tr>\n",
       "    <tr>\n",
       "      <th>1</th>\n",
       "      <td>32753MO081</td>\n",
       "      <td>Yes</td>\n",
       "    </tr>\n",
       "    <tr>\n",
       "      <th>2</th>\n",
       "      <td>32753MO084</td>\n",
       "      <td>Yes</td>\n",
       "    </tr>\n",
       "    <tr>\n",
       "      <th>3</th>\n",
       "      <td>44527MO015</td>\n",
       "      <td>No</td>\n",
       "    </tr>\n",
       "    <tr>\n",
       "      <th>4</th>\n",
       "      <td>44527MO016</td>\n",
       "      <td>No</td>\n",
       "    </tr>\n",
       "  </tbody>\n",
       "</table>\n",
       "</div>"
      ],
      "text/plain": [
       "  HIOSProductId DentalOnlyPlan\n",
       "0    32753MO077             No\n",
       "1    32753MO081            Yes\n",
       "2    32753MO084            Yes\n",
       "3    44527MO015             No\n",
       "4    44527MO016             No"
      ]
     },
     "execution_count": 85,
     "metadata": {},
     "output_type": "execute_result"
    }
   ],
   "source": [
    "dental_mo = dental_diet[~exclude_list].drop_duplicates().reset_index(drop=True)\n",
    "\n",
    "dental_mo.head()"
   ]
  },
  {
   "cell_type": "code",
   "execution_count": 86,
   "metadata": {
    "collapsed": false
   },
   "outputs": [
    {
     "data": {
      "text/html": [
       "<div>\n",
       "<table border=\"1\" class=\"dataframe\">\n",
       "  <thead>\n",
       "    <tr style=\"text-align: right;\">\n",
       "      <th></th>\n",
       "      <th>BusinessYear</th>\n",
       "      <th>StateCode</th>\n",
       "      <th>PlanId</th>\n",
       "      <th>RatingAreaId</th>\n",
       "      <th>Tobacco</th>\n",
       "      <th>Age</th>\n",
       "      <th>IndividualRate</th>\n",
       "      <th>IndividualTobaccoRate</th>\n",
       "      <th>Couple</th>\n",
       "      <th>PrimarySubscriberAndOneDependent</th>\n",
       "      <th>PrimarySubscriberAndTwoDependents</th>\n",
       "      <th>PrimarySubscriberAndThreeOrMoreDependents</th>\n",
       "      <th>CoupleAndOneDependent</th>\n",
       "      <th>CoupleAndTwoDependents</th>\n",
       "      <th>CoupleAndThreeOrMoreDependents</th>\n",
       "      <th>HIOSProductId</th>\n",
       "    </tr>\n",
       "  </thead>\n",
       "  <tbody>\n",
       "    <tr>\n",
       "      <th>2538347</th>\n",
       "      <td>2014</td>\n",
       "      <td>MO</td>\n",
       "      <td>32753MO0930002</td>\n",
       "      <td>Rating Area 10</td>\n",
       "      <td>Tobacco User/Non-Tobacco User</td>\n",
       "      <td>61</td>\n",
       "      <td>1096.43</td>\n",
       "      <td>1370.52</td>\n",
       "      <td>NaN</td>\n",
       "      <td>NaN</td>\n",
       "      <td>NaN</td>\n",
       "      <td>NaN</td>\n",
       "      <td>NaN</td>\n",
       "      <td>NaN</td>\n",
       "      <td>NaN</td>\n",
       "      <td>32753MO093</td>\n",
       "    </tr>\n",
       "    <tr>\n",
       "      <th>2538348</th>\n",
       "      <td>2014</td>\n",
       "      <td>MO</td>\n",
       "      <td>32753MO0930002</td>\n",
       "      <td>Rating Area 10</td>\n",
       "      <td>Tobacco User/Non-Tobacco User</td>\n",
       "      <td>62</td>\n",
       "      <td>1121.02</td>\n",
       "      <td>1401.25</td>\n",
       "      <td>NaN</td>\n",
       "      <td>NaN</td>\n",
       "      <td>NaN</td>\n",
       "      <td>NaN</td>\n",
       "      <td>NaN</td>\n",
       "      <td>NaN</td>\n",
       "      <td>NaN</td>\n",
       "      <td>32753MO093</td>\n",
       "    </tr>\n",
       "    <tr>\n",
       "      <th>2538349</th>\n",
       "      <td>2014</td>\n",
       "      <td>MO</td>\n",
       "      <td>32753MO0930002</td>\n",
       "      <td>Rating Area 10</td>\n",
       "      <td>Tobacco User/Non-Tobacco User</td>\n",
       "      <td>63</td>\n",
       "      <td>1151.84</td>\n",
       "      <td>1439.78</td>\n",
       "      <td>NaN</td>\n",
       "      <td>NaN</td>\n",
       "      <td>NaN</td>\n",
       "      <td>NaN</td>\n",
       "      <td>NaN</td>\n",
       "      <td>NaN</td>\n",
       "      <td>NaN</td>\n",
       "      <td>32753MO093</td>\n",
       "    </tr>\n",
       "    <tr>\n",
       "      <th>2538350</th>\n",
       "      <td>2014</td>\n",
       "      <td>MO</td>\n",
       "      <td>32753MO0930002</td>\n",
       "      <td>Rating Area 10</td>\n",
       "      <td>Tobacco User/Non-Tobacco User</td>\n",
       "      <td>64</td>\n",
       "      <td>1170.57</td>\n",
       "      <td>1463.19</td>\n",
       "      <td>NaN</td>\n",
       "      <td>NaN</td>\n",
       "      <td>NaN</td>\n",
       "      <td>NaN</td>\n",
       "      <td>NaN</td>\n",
       "      <td>NaN</td>\n",
       "      <td>NaN</td>\n",
       "      <td>32753MO093</td>\n",
       "    </tr>\n",
       "    <tr>\n",
       "      <th>2538351</th>\n",
       "      <td>2014</td>\n",
       "      <td>MO</td>\n",
       "      <td>32753MO0930002</td>\n",
       "      <td>Rating Area 10</td>\n",
       "      <td>Tobacco User/Non-Tobacco User</td>\n",
       "      <td>65 and over</td>\n",
       "      <td>1170.57</td>\n",
       "      <td>1463.19</td>\n",
       "      <td>NaN</td>\n",
       "      <td>NaN</td>\n",
       "      <td>NaN</td>\n",
       "      <td>NaN</td>\n",
       "      <td>NaN</td>\n",
       "      <td>NaN</td>\n",
       "      <td>NaN</td>\n",
       "      <td>32753MO093</td>\n",
       "    </tr>\n",
       "  </tbody>\n",
       "</table>\n",
       "</div>"
      ],
      "text/plain": [
       "         BusinessYear StateCode          PlanId    RatingAreaId                        Tobacco          Age  IndividualRate  IndividualTobaccoRate  Couple  PrimarySubscriberAndOneDependent  PrimarySubscriberAndTwoDependents  PrimarySubscriberAndThreeOrMoreDependents  CoupleAndOneDependent  CoupleAndTwoDependents  CoupleAndThreeOrMoreDependents HIOSProductId\n",
       "2538347          2014        MO  32753MO0930002  Rating Area 10  Tobacco User/Non-Tobacco User           61         1096.43                1370.52     NaN                               NaN                                NaN                                        NaN                    NaN                     NaN                             NaN    32753MO093\n",
       "2538348          2014        MO  32753MO0930002  Rating Area 10  Tobacco User/Non-Tobacco User           62         1121.02                1401.25     NaN                               NaN                                NaN                                        NaN                    NaN                     NaN                             NaN    32753MO093\n",
       "2538349          2014        MO  32753MO0930002  Rating Area 10  Tobacco User/Non-Tobacco User           63         1151.84                1439.78     NaN                               NaN                                NaN                                        NaN                    NaN                     NaN                             NaN    32753MO093\n",
       "2538350          2014        MO  32753MO0930002  Rating Area 10  Tobacco User/Non-Tobacco User           64         1170.57                1463.19     NaN                               NaN                                NaN                                        NaN                    NaN                     NaN                             NaN    32753MO093\n",
       "2538351          2014        MO  32753MO0930002  Rating Area 10  Tobacco User/Non-Tobacco User  65 and over         1170.57                1463.19     NaN                               NaN                                NaN                                        NaN                    NaN                     NaN                             NaN    32753MO093"
      ]
     },
     "execution_count": 86,
     "metadata": {},
     "output_type": "execute_result"
    }
   ],
   "source": [
    "df2014_mo.tail()"
   ]
  },
  {
   "cell_type": "code",
   "execution_count": 87,
   "metadata": {
    "collapsed": false
   },
   "outputs": [],
   "source": [
    "df2014_mo_merged = pd.merge(df2014_mo, dental_mo, left_on='HIOSProductId', right_on='HIOSProductId', how='inner', sort=False)"
   ]
  },
  {
   "cell_type": "code",
   "execution_count": 88,
   "metadata": {
    "collapsed": false
   },
   "outputs": [
    {
     "data": {
      "text/plain": [
       "(40618, 17)"
      ]
     },
     "execution_count": 88,
     "metadata": {},
     "output_type": "execute_result"
    }
   ],
   "source": [
    "df2014_mo_merged.shape"
   ]
  },
  {
   "cell_type": "code",
   "execution_count": 89,
   "metadata": {
    "collapsed": false
   },
   "outputs": [],
   "source": [
    "df2014_mo_cleaned = df2014_mo_merged.drop_duplicates().reset_index(drop=True)"
   ]
  },
  {
   "cell_type": "code",
   "execution_count": 90,
   "metadata": {
    "collapsed": false
   },
   "outputs": [
    {
     "data": {
      "text/plain": [
       "(40618, 17)"
      ]
     },
     "execution_count": 90,
     "metadata": {},
     "output_type": "execute_result"
    }
   ],
   "source": [
    "df2014_mo_cleaned.shape"
   ]
  },
  {
   "cell_type": "code",
   "execution_count": 91,
   "metadata": {
    "collapsed": false
   },
   "outputs": [],
   "source": [
    "df2014_mo_merged_nodental = df2014_mo_cleaned[df2014_mo_cleaned['DentalOnlyPlan'].isin(['No'])]"
   ]
  },
  {
   "cell_type": "code",
   "execution_count": 92,
   "metadata": {
    "collapsed": false
   },
   "outputs": [
    {
     "data": {
      "text/plain": [
       "(12788, 17)"
      ]
     },
     "execution_count": 92,
     "metadata": {},
     "output_type": "execute_result"
    }
   ],
   "source": [
    "df2014_mo_merged_nodental.shape"
   ]
  },
  {
   "cell_type": "markdown",
   "metadata": {},
   "source": [
    "Clean! I'm excited to see the clean distribution of plan rates:"
   ]
  },
  {
   "cell_type": "code",
   "execution_count": 93,
   "metadata": {
    "collapsed": false
   },
   "outputs": [
    {
     "data": {
      "text/plain": [
       "<matplotlib.axes._subplots.AxesSubplot at 0x196b2d8d0>"
      ]
     },
     "execution_count": 93,
     "metadata": {},
     "output_type": "execute_result"
    },
    {
     "data": {
      "image/png": "[encoded data removed]",
      "text/plain": [
       "<matplotlib.figure.Figure at 0x196b2d160>"
      ]
     },
     "metadata": {},
     "output_type": "display_data"
    }
   ],
   "source": [
    "df2014_mo_merged_nodental['IndividualRate'].plot.hist(50)"
   ]
  },
  {
   "cell_type": "markdown",
   "metadata": {},
   "source": [
    "Well that looks more like what I would have expected from the beginning. What's the median of this asymmetric distribution?"
   ]
  },
  {
   "cell_type": "code",
   "execution_count": 94,
   "metadata": {
    "collapsed": false,
    "scrolled": true
   },
   "outputs": [
    {
     "data": {
      "text/plain": [
       "343.015"
      ]
     },
     "execution_count": 94,
     "metadata": {},
     "output_type": "execute_result"
    }
   ],
   "source": [
    "df2014_mo_merged_nodental['IndividualRate'].median()"
   ]
  },
  {
   "cell_type": "markdown",
   "metadata": {},
   "source": [
    "**Seventh finding:** The median monthly premium in 2014 in Montana was about $340. That's a reasonable number!"
   ]
  },
  {
   "cell_type": "markdown",
   "metadata": {},
   "source": [
    "## Enough Data Cleaning, on to some actual analysis"
   ]
  },
  {
   "cell_type": "markdown",
   "metadata": {},
   "source": [
    "Let's continue breaking the whole dataset down by year to see some trends on the individual types of rates."
   ]
  },
  {
   "cell_type": "markdown",
   "metadata": {},
   "source": [
    "We can pick up here by reading in the saved, cleaned dataframes:"
   ]
  },
  {
   "cell_type": "code",
   "execution_count": 95,
   "metadata": {
    "collapsed": false
   },
   "outputs": [],
   "source": [
    "df2014 = pd.read_csv(\"Rates2014.csv\")\n",
    "df2015 = pd.read_csv(\"Rates2015.csv\")\n",
    "df2016 = pd.read_csv(\"Rates2016.csv\")"
   ]
  },
  {
   "cell_type": "code",
   "execution_count": 96,
   "metadata": {
    "collapsed": false,
    "scrolled": true
   },
   "outputs": [
    {
     "data": {
      "text/html": [
       "<div>\n",
       "<table border=\"1\" class=\"dataframe\">\n",
       "  <thead>\n",
       "    <tr style=\"text-align: right;\">\n",
       "      <th></th>\n",
       "      <th>Unnamed: 0</th>\n",
       "      <th>BusinessYear</th>\n",
       "      <th>IndividualRate</th>\n",
       "      <th>IndividualTobaccoRate</th>\n",
       "      <th>Couple</th>\n",
       "      <th>PrimarySubscriberAndOneDependent</th>\n",
       "      <th>PrimarySubscriberAndTwoDependents</th>\n",
       "      <th>PrimarySubscriberAndThreeOrMoreDependents</th>\n",
       "      <th>CoupleAndOneDependent</th>\n",
       "      <th>CoupleAndTwoDependents</th>\n",
       "      <th>CoupleAndThreeOrMoreDependents</th>\n",
       "    </tr>\n",
       "  </thead>\n",
       "  <tbody>\n",
       "    <tr>\n",
       "      <th>count</th>\n",
       "      <td>2370659.000000</td>\n",
       "      <td>2370659</td>\n",
       "      <td>2370659.000000</td>\n",
       "      <td>1601995.000000</td>\n",
       "      <td>0</td>\n",
       "      <td>0</td>\n",
       "      <td>0</td>\n",
       "      <td>0</td>\n",
       "      <td>0</td>\n",
       "      <td>0</td>\n",
       "      <td>0</td>\n",
       "    </tr>\n",
       "    <tr>\n",
       "      <th>mean</th>\n",
       "      <td>1870613.549387</td>\n",
       "      <td>2014</td>\n",
       "      <td>452.465814</td>\n",
       "      <td>560.159229</td>\n",
       "      <td>NaN</td>\n",
       "      <td>NaN</td>\n",
       "      <td>NaN</td>\n",
       "      <td>NaN</td>\n",
       "      <td>NaN</td>\n",
       "      <td>NaN</td>\n",
       "      <td>NaN</td>\n",
       "    </tr>\n",
       "    <tr>\n",
       "      <th>std</th>\n",
       "      <td>1066629.852990</td>\n",
       "      <td>0</td>\n",
       "      <td>246.828415</td>\n",
       "      <td>334.529592</td>\n",
       "      <td>NaN</td>\n",
       "      <td>NaN</td>\n",
       "      <td>NaN</td>\n",
       "      <td>NaN</td>\n",
       "      <td>NaN</td>\n",
       "      <td>NaN</td>\n",
       "      <td>NaN</td>\n",
       "    </tr>\n",
       "    <tr>\n",
       "      <th>min</th>\n",
       "      <td>1398.000000</td>\n",
       "      <td>2014</td>\n",
       "      <td>49.070000</td>\n",
       "      <td>55.660000</td>\n",
       "      <td>NaN</td>\n",
       "      <td>NaN</td>\n",
       "      <td>NaN</td>\n",
       "      <td>NaN</td>\n",
       "      <td>NaN</td>\n",
       "      <td>NaN</td>\n",
       "      <td>NaN</td>\n",
       "    </tr>\n",
       "    <tr>\n",
       "      <th>25%</th>\n",
       "      <td>1055422.500000</td>\n",
       "      <td>2014</td>\n",
       "      <td>290.220000</td>\n",
       "      <td>341.200000</td>\n",
       "      <td>NaN</td>\n",
       "      <td>NaN</td>\n",
       "      <td>NaN</td>\n",
       "      <td>NaN</td>\n",
       "      <td>NaN</td>\n",
       "      <td>NaN</td>\n",
       "      <td>NaN</td>\n",
       "    </tr>\n",
       "    <tr>\n",
       "      <th>50%</th>\n",
       "      <td>1815117.000000</td>\n",
       "      <td>2014</td>\n",
       "      <td>387.210000</td>\n",
       "      <td>475.960000</td>\n",
       "      <td>NaN</td>\n",
       "      <td>NaN</td>\n",
       "      <td>NaN</td>\n",
       "      <td>NaN</td>\n",
       "      <td>NaN</td>\n",
       "      <td>NaN</td>\n",
       "      <td>NaN</td>\n",
       "    </tr>\n",
       "    <tr>\n",
       "      <th>75%</th>\n",
       "      <td>2754091.500000</td>\n",
       "      <td>2014</td>\n",
       "      <td>561.020000</td>\n",
       "      <td>695.310000</td>\n",
       "      <td>NaN</td>\n",
       "      <td>NaN</td>\n",
       "      <td>NaN</td>\n",
       "      <td>NaN</td>\n",
       "      <td>NaN</td>\n",
       "      <td>NaN</td>\n",
       "      <td>NaN</td>\n",
       "    </tr>\n",
       "    <tr>\n",
       "      <th>max</th>\n",
       "      <td>3656258.000000</td>\n",
       "      <td>2014</td>\n",
       "      <td>5503.850000</td>\n",
       "      <td>6604.610000</td>\n",
       "      <td>NaN</td>\n",
       "      <td>NaN</td>\n",
       "      <td>NaN</td>\n",
       "      <td>NaN</td>\n",
       "      <td>NaN</td>\n",
       "      <td>NaN</td>\n",
       "      <td>NaN</td>\n",
       "    </tr>\n",
       "  </tbody>\n",
       "</table>\n",
       "</div>"
      ],
      "text/plain": [
       "           Unnamed: 0  BusinessYear  IndividualRate  IndividualTobaccoRate  Couple  PrimarySubscriberAndOneDependent  PrimarySubscriberAndTwoDependents  PrimarySubscriberAndThreeOrMoreDependents  CoupleAndOneDependent  CoupleAndTwoDependents  CoupleAndThreeOrMoreDependents\n",
       "count  2370659.000000       2370659  2370659.000000         1601995.000000       0                                 0                                  0                                          0                      0                       0                               0\n",
       "mean   1870613.549387          2014      452.465814             560.159229     NaN                               NaN                                NaN                                        NaN                    NaN                     NaN                             NaN\n",
       "std    1066629.852990             0      246.828415             334.529592     NaN                               NaN                                NaN                                        NaN                    NaN                     NaN                             NaN\n",
       "min       1398.000000          2014       49.070000              55.660000     NaN                               NaN                                NaN                                        NaN                    NaN                     NaN                             NaN\n",
       "25%    1055422.500000          2014      290.220000             341.200000     NaN                               NaN                                NaN                                        NaN                    NaN                     NaN                             NaN\n",
       "50%    1815117.000000          2014      387.210000             475.960000     NaN                               NaN                                NaN                                        NaN                    NaN                     NaN                             NaN\n",
       "75%    2754091.500000          2014      561.020000             695.310000     NaN                               NaN                                NaN                                        NaN                    NaN                     NaN                             NaN\n",
       "max    3656258.000000          2014     5503.850000            6604.610000     NaN                               NaN                                NaN                                        NaN                    NaN                     NaN                             NaN"
      ]
     },
     "execution_count": 96,
     "metadata": {},
     "output_type": "execute_result"
    }
   ],
   "source": [
    "df2014.describe()"
   ]
  },
  {
   "cell_type": "markdown",
   "metadata": {},
   "source": [
    "Okay, something I didn't know: all the couple and family rates were dental-only plans. Maybe that was clear to anyone else. But I would call that our **eigth finding!**"
   ]
  },
  {
   "cell_type": "code",
   "execution_count": 97,
   "metadata": {
    "collapsed": false,
    "scrolled": true
   },
   "outputs": [
    {
     "data": {
      "text/plain": [
       "Unnamed: 0                                   1815117.00\n",
       "BusinessYear                                    2014.00\n",
       "IndividualRate                                   387.21\n",
       "IndividualTobaccoRate                            475.96\n",
       "Couple                                              NaN\n",
       "PrimarySubscriberAndOneDependent                    NaN\n",
       "PrimarySubscriberAndTwoDependents                   NaN\n",
       "PrimarySubscriberAndThreeOrMoreDependents           NaN\n",
       "CoupleAndOneDependent                               NaN\n",
       "CoupleAndTwoDependents                              NaN\n",
       "CoupleAndThreeOrMoreDependents                      NaN\n",
       "dtype: float64"
      ]
     },
     "execution_count": 97,
     "metadata": {},
     "output_type": "execute_result"
    }
   ],
   "source": [
    "df2014.median(numeric_only=True)"
   ]
  },
  {
   "cell_type": "markdown",
   "metadata": {},
   "source": [
    "Let's compare smoker and non-smoker rates then! We can start with simple statistics such as median, mean and standard deviation:"
   ]
  },
  {
   "cell_type": "code",
   "execution_count": 98,
   "metadata": {
    "collapsed": false
   },
   "outputs": [],
   "source": [
    "dfmedian2014 = df2014[['IndividualRate','IndividualTobaccoRate']].median(numeric_only=True)\n",
    "dfmedian2015 = df2015[['IndividualRate','IndividualTobaccoRate']].median(numeric_only=True)\n",
    "dfmedian2016 = df2016[['IndividualRate','IndividualTobaccoRate']].median(numeric_only=True)\n",
    "dfmean2014 = df2014[['IndividualRate','IndividualTobaccoRate']].mean(numeric_only=True)\n",
    "dfmean2015 = df2015[['IndividualRate','IndividualTobaccoRate']].mean(numeric_only=True)\n",
    "dfmean2016 = df2016[['IndividualRate','IndividualTobaccoRate']].mean(numeric_only=True)\n",
    "dfstd2014 = df2014[['IndividualRate','IndividualTobaccoRate']].std(numeric_only=True)\n",
    "dfstd2015 = df2015[['IndividualRate','IndividualTobaccoRate']].std(numeric_only=True)\n",
    "dfstd2016 = df2016[['IndividualRate','IndividualTobaccoRate']].std(numeric_only=True)"
   ]
  },
  {
   "cell_type": "markdown",
   "metadata": {},
   "source": [
    "We can combine these statistics in dataframes. This will enable us to plot them conveniently with Pandas and Seaborn."
   ]
  },
  {
   "cell_type": "code",
   "execution_count": 99,
   "metadata": {
    "collapsed": false
   },
   "outputs": [
    {
     "data": {
      "text/html": [
       "<div>\n",
       "<table border=\"1\" class=\"dataframe\">\n",
       "  <thead>\n",
       "    <tr style=\"text-align: right;\">\n",
       "      <th></th>\n",
       "      <th>2014</th>\n",
       "      <th>2015</th>\n",
       "      <th>2016</th>\n",
       "    </tr>\n",
       "  </thead>\n",
       "  <tbody>\n",
       "    <tr>\n",
       "      <th>IndividualRate</th>\n",
       "      <td>246.828415</td>\n",
       "      <td>229.156813</td>\n",
       "      <td>237.808886</td>\n",
       "    </tr>\n",
       "    <tr>\n",
       "      <th>IndividualTobaccoRate</th>\n",
       "      <td>334.529592</td>\n",
       "      <td>272.904169</td>\n",
       "      <td>272.979168</td>\n",
       "    </tr>\n",
       "  </tbody>\n",
       "</table>\n",
       "</div>"
      ],
      "text/plain": [
       "                             2014        2015        2016\n",
       "IndividualRate         246.828415  229.156813  237.808886\n",
       "IndividualTobaccoRate  334.529592  272.904169  272.979168"
      ]
     },
     "execution_count": 99,
     "metadata": {},
     "output_type": "execute_result"
    }
   ],
   "source": [
    "dfmedians = pd.concat([dfmedian2014,dfmedian2015,dfmedian2016], keys=['2014', '2015', '2016'], axis=1)\n",
    "dfmeans = pd.concat([dfmean2014,dfmean2015,dfmean2016], keys=['2014', '2015', '2016'], axis=1)\n",
    "dfstd = pd.concat([dfstd2014,dfstd2015,dfstd2016], keys=['2014', '2015', '2016'], axis=1)\n",
    "dfstd"
   ]
  },
  {
   "cell_type": "markdown",
   "metadata": {},
   "source": [
    "The standard deviation of the plan rates is quite high, and it's not really what I was interested in. We want to compare the medians of the plan rates for different categories. I would like to know how sensitive this statistic is to the sampling of the distribution function of plan rates. We can estimate that with bootstrapping:  "
   ]
  },
  {
   "cell_type": "code",
   "execution_count": 100,
   "metadata": {
    "collapsed": true
   },
   "outputs": [],
   "source": [
    "def bootstrap_resample(X, n=None):\n",
    "    \"\"\" Bootstrap resample an array_like\n",
    "    Parameters\n",
    "    ----------\n",
    "    X : array_like\n",
    "      data to resample\n",
    "    n : int, optional\n",
    "      length of resampled array, equal to len(X) if n==None\n",
    "    Results\n",
    "    -------\n",
    "    returns X_resamples\n",
    "    \"\"\"\n",
    "    if isinstance(X, pd.Series):\n",
    "        X = X.copy()\n",
    "        X.index = range(len(X.index))\n",
    "    if n == None:\n",
    "        n = len(X)\n",
    "        \n",
    "    resample_i = np.floor(np.random.rand(n)*len(X)).astype(int)\n",
    "    X_resample = np.array(X[resample_i])\n",
    "    return X_resample"
   ]
  },
  {
   "cell_type": "markdown",
   "metadata": {},
   "source": [
    "Using this simple bootstrap sampler, we can calculate a number of medians for different samples re-sampled from the distribution of plan rates. We can then look at the distribution of medians and calculate the standard deviation of this distribution to estimate an uncertainty of the median."
   ]
  },
  {
   "cell_type": "code",
   "execution_count": 101,
   "metadata": {
    "collapsed": false
   },
   "outputs": [
    {
     "name": "stderr",
     "output_type": "stream",
     "text": [
      "/Users/akuepper/anaconda/lib/python3.5/site-packages/ipykernel/__main__.py:13: DeprecationWarning: using a non-integer number instead of an integer will result in an error in the future\n",
      "/Users/akuepper/anaconda/lib/python3.5/site-packages/ipykernel/__main__.py:16: DeprecationWarning: using a non-integer number instead of an integer will result in an error in the future\n"
     ]
    }
   ],
   "source": [
    "boots = 500  #number of bootstrap samples; 100 take about 5 minutes\n",
    "\n",
    "dfs = [df2014,df2015,df2016] #do this for all three dataframes, and for smokers and non-smokers separately\n",
    "stds = []  \n",
    "stds_smoker = []\n",
    "\n",
    "\n",
    "for frame in dfs:\n",
    "    medians = np.zeros(boots)\n",
    "    medians_smoker = np.zeros(boots)\n",
    "    for i in medians:\n",
    "        df_resampled_ind = bootstrap_resample(frame['IndividualRate'])\n",
    "        medians[i] = np.nanmedian(df_resampled_ind)\n",
    "    for i in medians_smoker:\n",
    "        df_resampled_smoker = bootstrap_resample(frame['IndividualTobaccoRate'])\n",
    "        medians_smoker[i] = np.nanmedian(df_resampled_smoker)\n",
    "    stds.append(np.std(medians))\n",
    "    stds_smoker.append(np.std(medians_smoker))"
   ]
  },
  {
   "cell_type": "code",
   "execution_count": 102,
   "metadata": {
    "collapsed": false,
    "scrolled": true
   },
   "outputs": [
    {
     "data": {
      "text/plain": [
       "([17.29119061592926, 18.026567712118691, 19.074234352801678],\n",
       " [21.256240268834006, 20.039696020399106, 20.905752217825121])"
      ]
     },
     "execution_count": 102,
     "metadata": {},
     "output_type": "execute_result"
    }
   ],
   "source": [
    "stds, stds_smoker"
   ]
  },
  {
   "cell_type": "markdown",
   "metadata": {},
   "source": [
    "**Ninth finding:** The medians are pretty stable to about $20. This means the distribution functions of plan rates are well sampled.\n",
    "\n",
    "Let's replace the standard deviations of the prize distributions with these new median uncertainties, which are more interesting for our purposes."
   ]
  },
  {
   "cell_type": "code",
   "execution_count": 103,
   "metadata": {
    "collapsed": false
   },
   "outputs": [
    {
     "data": {
      "text/html": [
       "<div>\n",
       "<table border=\"1\" class=\"dataframe\">\n",
       "  <thead>\n",
       "    <tr style=\"text-align: right;\">\n",
       "      <th></th>\n",
       "      <th>2014</th>\n",
       "      <th>2015</th>\n",
       "      <th>2016</th>\n",
       "    </tr>\n",
       "  </thead>\n",
       "  <tbody>\n",
       "    <tr>\n",
       "      <th>IndividualRate</th>\n",
       "      <td>17.291191</td>\n",
       "      <td>18.026568</td>\n",
       "      <td>19.074234</td>\n",
       "    </tr>\n",
       "    <tr>\n",
       "      <th>IndividualTobaccoRate</th>\n",
       "      <td>21.256240</td>\n",
       "      <td>20.039696</td>\n",
       "      <td>20.905752</td>\n",
       "    </tr>\n",
       "  </tbody>\n",
       "</table>\n",
       "</div>"
      ],
      "text/plain": [
       "                            2014       2015       2016\n",
       "IndividualRate         17.291191  18.026568  19.074234\n",
       "IndividualTobaccoRate  21.256240  20.039696  20.905752"
      ]
     },
     "execution_count": 103,
     "metadata": {},
     "output_type": "execute_result"
    }
   ],
   "source": [
    "dfstd['2014']['IndividualRate'] = stds[0]\n",
    "dfstd['2015']['IndividualRate'] = stds[1]\n",
    "dfstd['2016']['IndividualRate'] = stds[2]\n",
    "dfstd['2014']['IndividualTobaccoRate'] = stds_smoker[0]\n",
    "dfstd['2015']['IndividualTobaccoRate'] = stds_smoker[1]\n",
    "dfstd['2016']['IndividualTobaccoRate'] = stds_smoker[2]\n",
    "dfstd"
   ]
  },
  {
   "cell_type": "markdown",
   "metadata": {},
   "source": [
    "We can use these uncertainties now to see if there has been a significant increase in the median prize rates between 2014 and 2016."
   ]
  },
  {
   "cell_type": "code",
   "execution_count": 104,
   "metadata": {
    "collapsed": false,
    "scrolled": false
   },
   "outputs": [
    {
     "name": "stderr",
     "output_type": "stream",
     "text": [
      "/Users/akuepper/anaconda/lib/python3.5/site-packages/matplotlib/collections.py:590: FutureWarning: elementwise comparison failed; returning scalar instead, but in the future will perform elementwise comparison\n",
      "  if self._edgecolors == str('face'):\n"
     ]
    },
    {
     "data": {
      "text/plain": [
       "<matplotlib.figure.Figure at 0x476025b70>"
      ]
     },
     "metadata": {},
     "output_type": "display_data"
    },
    {
     "data": {
      "image/png": "[encoded data removed]",
      "text/plain": [
       "<matplotlib.figure.Figure at 0x47602a630>"
      ]
     },
     "metadata": {},
     "output_type": "display_data"
    }
   ],
   "source": [
    "fig = plt.figure(figsize=(6, 6))\n",
    "\n",
    "ax = dfmeans.plot.bar(yerr=dfstd, rot=0, colormap='YlOrBr_r')\n",
    "ax.set_ylabel(\"Median monthly rate in USD\")\n",
    "ax.set_xlabel(\"\")\n",
    "\n",
    "# Customize x tick lables\n",
    "labels = ['Non-smoker', 'Smoker']\n",
    "xticks = [0,1]\n",
    "ax.xaxis.set_ticks(xticks)\n",
    "ax.set_xticklabels(labels)\n",
    "\n",
    "plt.savefig('Overall_rates.png', bbox_inches='tight', dpi=150)"
   ]
  },
  {
   "cell_type": "markdown",
   "metadata": {},
   "source": [
    "**Tenth finding:** There has been a significant increase in premiums for non-smokers in the years 2014-2016. In the same period, the median rates for smokers remained roughly constant. \n",
    "\n",
    "Let us look at the individual rates for each of the three years broken down by states. Did the prizes go up in all of the states?"
   ]
  },
  {
   "cell_type": "code",
   "execution_count": 105,
   "metadata": {
    "collapsed": true
   },
   "outputs": [],
   "source": [
    "Statelist = df['StateCode'].unique()\n",
    "Statelist = np.sort(Statelist)"
   ]
  },
  {
   "cell_type": "markdown",
   "metadata": {},
   "source": [
    "2016 first. We can use Seaborn's barplot to show the data for the 38 states. It offers us the possibility to select an estimator for a quanity that we want to compare across categories (which we can set to numpy's median) and even includes a bootstrapping routine like the one we used above."
   ]
  },
  {
   "cell_type": "code",
   "execution_count": 106,
   "metadata": {
    "collapsed": false
   },
   "outputs": [
    {
     "data": {
      "text/plain": [
       "<matplotlib.axes._subplots.AxesSubplot at 0x190d9a6d8>"
      ]
     },
     "execution_count": 106,
     "metadata": {},
     "output_type": "execute_result"
    },
    {
     "data": {
      "image/png": "[encoded data removed]",
      "text/plain": [
       "<matplotlib.figure.Figure at 0x190d9a7f0>"
      ]
     },
     "metadata": {},
     "output_type": "display_data"
    }
   ],
   "source": [
    "plt.figure(figsize=(20, 6))\n",
    "sns.set_style(\"whitegrid\")\n",
    "sns.barplot(x=df2016['StateCode'], y=df2016['IndividualRate'], order=Statelist, estimator=np.median, ci=95, n_boot=1000)"
   ]
  },
  {
   "cell_type": "markdown",
   "metadata": {},
   "source": [
    "**Eleventh finding:** median health insurance rates for non-smokers (and smokers as well) vary strongly between the states that participated in the health insurace marketplace."
   ]
  },
  {
   "cell_type": "markdown",
   "metadata": {},
   "source": [
    "Let's also look at the other years. 2015:"
   ]
  },
  {
   "cell_type": "code",
   "execution_count": 107,
   "metadata": {
    "collapsed": false
   },
   "outputs": [
    {
     "data": {
      "text/plain": [
       "<matplotlib.axes._subplots.AxesSubplot at 0x1937dada0>"
      ]
     },
     "execution_count": 107,
     "metadata": {},
     "output_type": "execute_result"
    },
    {
     "data": {
      "image/png": "[encoded data removed]",
      "text/plain": [
       "<matplotlib.figure.Figure at 0x1948a2320>"
      ]
     },
     "metadata": {},
     "output_type": "display_data"
    }
   ],
   "source": [
    "plt.figure(figsize=(20, 6))\n",
    "sns.set_style(\"whitegrid\")\n",
    "sns.barplot(x=df2015['StateCode'], y=df2015['IndividualRate'], order=Statelist, estimator=np.median, ci=95, n_boot=1000)"
   ]
  },
  {
   "cell_type": "markdown",
   "metadata": {},
   "source": [
    "2014:"
   ]
  },
  {
   "cell_type": "code",
   "execution_count": 108,
   "metadata": {
    "collapsed": false
   },
   "outputs": [
    {
     "data": {
      "text/plain": [
       "<matplotlib.axes._subplots.AxesSubplot at 0x1941f21d0>"
      ]
     },
     "execution_count": 108,
     "metadata": {},
     "output_type": "execute_result"
    },
    {
     "data": {
      "image/png": "[encoded data removed]",
      "text/plain": [
       "<matplotlib.figure.Figure at 0x1941f2390>"
      ]
     },
     "metadata": {},
     "output_type": "display_data"
    }
   ],
   "source": [
    "plt.figure(figsize=(20, 6))\n",
    "sns.set_style(\"whitegrid\")\n",
    "sns.barplot(x=df2014['StateCode'], y=df2014['IndividualRate'], order=Statelist, estimator=np.median, ci=95, n_boot=1000)"
   ]
  },
  {
   "cell_type": "markdown",
   "metadata": {},
   "source": [
    "**Twelfth finding:** Not all states participated in the federal health insurance marketplace in all three years. \n",
    "\n",
    "Other than that, these three plots don't tell us much. We can combine all of them into one figure to see how the median rates changed with the years."
   ]
  },
  {
   "cell_type": "code",
   "execution_count": 109,
   "metadata": {
    "collapsed": true
   },
   "outputs": [],
   "source": [
    "df = pd.concat([df2014,df2015,df2016])"
   ]
  },
  {
   "cell_type": "code",
   "execution_count": 110,
   "metadata": {
    "collapsed": false,
    "scrolled": false
   },
   "outputs": [
    {
     "data": {
      "text/plain": [
       "<matplotlib.axes._subplots.AxesSubplot at 0x110a162e8>"
      ]
     },
     "execution_count": 110,
     "metadata": {},
     "output_type": "execute_result"
    },
    {
     "data": {
      "image/png": "[encoded data removed]",
      "text/plain": [
       "<matplotlib.figure.Figure at 0x110a16cf8>"
      ]
     },
     "metadata": {},
     "output_type": "display_data"
    }
   ],
   "source": [
    "plt.figure(figsize=(20, 6))\n",
    "sns.set_style(\"whitegrid\")\n",
    "sns.barplot(x=df['StateCode'], y=df['IndividualRate'], hue=df['BusinessYear'], order=Statelist, estimator=np.median, ci=95, n_boot=100)"
   ]
  },
  {
   "cell_type": "markdown",
   "metadata": {},
   "source": [
    "**Thirteenth finding:** Median plan rates significantly increased for about 25 states that participated in the marketplace between 2014 and 2016. A decrease can be observed in about 8 states.\n",
    "\n",
    "Let's make a sorted comparison plot of median, non-smoker plan rates across all states that participated in the program."
   ]
  },
  {
   "cell_type": "code",
   "execution_count": 111,
   "metadata": {
    "collapsed": false
   },
   "outputs": [],
   "source": [
    "Statelist = df['StateCode'].unique()\n",
    "State_medians = [] \n",
    "for state in Statelist:\n",
    "    State_medians.append(np.median(df[df['StateCode'].isin([state])].IndividualRate))"
   ]
  },
  {
   "cell_type": "markdown",
   "metadata": {},
   "source": [
    "First we make a list of the states in the dataset."
   ]
  },
  {
   "cell_type": "code",
   "execution_count": 112,
   "metadata": {
    "collapsed": false
   },
   "outputs": [
    {
     "data": {
      "text/plain": [
       "array(['AK', 'AL', 'AZ', 'FL', 'GA', 'IN', 'LA', 'MO', 'MS', 'NC', 'ND',\n",
       "       'NJ', 'OK', 'PA', 'SC', 'TN', 'TX', 'WI', 'WY', 'AR', 'DE', 'IL',\n",
       "       'KS', 'ME', 'MI', 'MT', 'NH', 'NM', 'VA', 'WV', 'IA', 'ID', 'NE',\n",
       "       'OH', 'SD', 'UT', 'NV', 'OR', 'HI'], dtype=object)"
      ]
     },
     "execution_count": 112,
     "metadata": {},
     "output_type": "execute_result"
    }
   ],
   "source": [
    "Statelist"
   ]
  },
  {
   "cell_type": "markdown",
   "metadata": {},
   "source": [
    "Then we add the median plan rates as a second column."
   ]
  },
  {
   "cell_type": "code",
   "execution_count": 113,
   "metadata": {
    "collapsed": false,
    "scrolled": true
   },
   "outputs": [
    {
     "data": {
      "text/plain": [
       "array([['AK', 632.76],\n",
       "       ['AL', 373.33],\n",
       "       ['AZ', 359.38],\n",
       "       ['FL', 408.21],\n",
       "       ['GA', 416.78],\n",
       "       ['IN', 430.35],\n",
       "       ['LA', 414.675],\n",
       "       ['MO', 377.56],\n",
       "       ['MS', 359.505],\n",
       "       ['NC', 468.35],\n",
       "       ['ND', 392.185],\n",
       "       ['NJ', 495.65999999999997],\n",
       "       ['OK', 345.22],\n",
       "       ['PA', 359.9],\n",
       "       ['SC', 414.52],\n",
       "       ['TN', 405.03499999999997],\n",
       "       ['TX', 367.06],\n",
       "       ['WI', 455.63],\n",
       "       ['WY', 509.5],\n",
       "       ['AR', 347.705],\n",
       "       ['DE', 434.2],\n",
       "       ['IL', 392.52],\n",
       "       ['KS', 280.685],\n",
       "       ['ME', 393.37],\n",
       "       ['MI', 387.505],\n",
       "       ['MT', 368.605],\n",
       "       ['NH', 358.175],\n",
       "       ['NM', 286.33],\n",
       "       ['VA', 364.55],\n",
       "       ['WV', 477.62],\n",
       "       ['IA', 368.19],\n",
       "       ['ID', 338.94],\n",
       "       ['NE', 372.915],\n",
       "       ['OH', 416.3],\n",
       "       ['SD', 396.305],\n",
       "       ['UT', 300.53],\n",
       "       ['NV', 384.695],\n",
       "       ['OR', 308.0],\n",
       "       ['HI', 332.29]], dtype=object)"
      ]
     },
     "execution_count": 113,
     "metadata": {},
     "output_type": "execute_result"
    }
   ],
   "source": [
    "Statelist_ordered_by_rate = np.column_stack((np.asarray(Statelist), State_medians))\n",
    "Statelist_ordered_by_rate"
   ]
  },
  {
   "cell_type": "markdown",
   "metadata": {},
   "source": [
    "This array we can sort by the premiums."
   ]
  },
  {
   "cell_type": "code",
   "execution_count": 114,
   "metadata": {
    "collapsed": false
   },
   "outputs": [],
   "source": [
    "Statelist_ordered_by_rate = Statelist_ordered_by_rate[Statelist_ordered_by_rate[:, 1].argsort()]"
   ]
  },
  {
   "cell_type": "markdown",
   "metadata": {},
   "source": [
    "Which we can then use as labels for our ordered plot."
   ]
  },
  {
   "cell_type": "code",
   "execution_count": 115,
   "metadata": {
    "collapsed": false
   },
   "outputs": [
    {
     "data": {
      "image/png": "[encoded data removed]",
      "text/plain": [
       "<matplotlib.figure.Figure at 0x11d90ea90>"
      ]
     },
     "metadata": {},
     "output_type": "display_data"
    }
   ],
   "source": [
    "fig = plt.figure(figsize=(15, 6))\n",
    "sns.set_style(\"whitegrid\")\n",
    "\n",
    "fig.suptitle('Median health insurance rates offered through Healthcare.gov between 2014 and 2016', fontsize=14)\n",
    "\n",
    "ax = sns.barplot(x=df['StateCode'], y=df['IndividualRate'], order=Statelist_ordered_by_rate[:,0], estimator=np.median, ci=95, n_boot=100, palette=\"RdBu_r\")\n",
    "ax.set_ylabel(\"Monthly rate in USD\")\n",
    "ax.set_xlabel(\"State\")\n",
    "\n",
    "plt.savefig('Median_rates_by_state.png', bbox_inches='tight', dpi=150)"
   ]
  },
  {
   "cell_type": "markdown",
   "metadata": {
    "collapsed": true
   },
   "source": [
    "**Fourteenth finding:** health insurance for non-smoking individuals is cheapest in Kansas and most expensive in Alaska. The median rate is about twice as high in Alaska as it is in Kansas, New Mexico, Utah, Oregon or Hawaii. "
   ]
  },
  {
   "cell_type": "code",
   "execution_count": null,
   "metadata": {
    "collapsed": true
   },
   "outputs": [],
   "source": []
  }
 ],
 "metadata": {
  "kernelspec": {
   "display_name": "Python 3",
   "language": "python",
   "name": "python3"
  },
  "language_info": {
   "codemirror_mode": {
    "name": "ipython",
    "version": 3
   },
   "file_extension": ".py",
   "mimetype": "text/x-python",
   "name": "python",
   "nbconvert_exporter": "python",
   "pygments_lexer": "ipython3",
   "version": "3.5.1"
  }
 },
 "nbformat": 4,
 "nbformat_minor": 0
}
