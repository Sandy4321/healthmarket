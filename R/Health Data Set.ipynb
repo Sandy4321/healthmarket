{
 "cells": [
  {
   "cell_type": "markdown",
   "metadata": {},
   "source": [
    "# Health Data Notebook"
   ]
  },
  {
   "cell_type": "markdown",
   "metadata": {},
   "source": [
    "The data for this analysis is from Kaggle: https://www.kaggle.com/hhsgov/health-insurance-marketplace"
   ]
  },
  {
   "cell_type": "markdown",
   "metadata": {},
   "source": [
    "Load some libraries"
   ]
  },
  {
   "cell_type": "code",
   "execution_count": 5,
   "metadata": {
    "collapsed": false
   },
   "outputs": [
    {
     "name": "stderr",
     "output_type": "stream",
     "text": [
      "Loading required package: DBI\n"
     ]
    }
   ],
   "source": [
    "library(\"RSQLite\")"
   ]
  },
  {
   "cell_type": "markdown",
   "metadata": {},
   "source": [
    "Connect to SQLite database"
   ]
  },
  {
   "cell_type": "code",
   "execution_count": 6,
   "metadata": {
    "collapsed": true
   },
   "outputs": [],
   "source": [
    "db <- dbConnect(SQLite(), dbname=\"~/Desktop/Insight/healthcare/health-insurance-marketplace/database.sqlite\")"
   ]
  },
  {
   "cell_type": "markdown",
   "metadata": {},
   "source": [
    "What's in the database?"
   ]
  },
  {
   "cell_type": "code",
   "execution_count": 8,
   "metadata": {
    "collapsed": false
   },
   "outputs": [
    {
     "data": {
      "text/html": [
       "<ol class=list-inline>\n",
       "\t<li>'BenefitsCostSharing'</li>\n",
       "\t<li>'BusinessRules'</li>\n",
       "\t<li>'Crosswalk2015'</li>\n",
       "\t<li>'Crosswalk2016'</li>\n",
       "\t<li>'Network'</li>\n",
       "\t<li>'PlanAttributes'</li>\n",
       "\t<li>'Rate'</li>\n",
       "\t<li>'ServiceArea'</li>\n",
       "</ol>\n"
      ],
      "text/latex": [
       "\\begin{enumerate*}\n",
       "\\item 'BenefitsCostSharing'\n",
       "\\item 'BusinessRules'\n",
       "\\item 'Crosswalk2015'\n",
       "\\item 'Crosswalk2016'\n",
       "\\item 'Network'\n",
       "\\item 'PlanAttributes'\n",
       "\\item 'Rate'\n",
       "\\item 'ServiceArea'\n",
       "\\end{enumerate*}\n"
      ],
      "text/markdown": [
       "1. 'BenefitsCostSharing'\n",
       "2. 'BusinessRules'\n",
       "3. 'Crosswalk2015'\n",
       "4. 'Crosswalk2016'\n",
       "5. 'Network'\n",
       "6. 'PlanAttributes'\n",
       "7. 'Rate'\n",
       "8. 'ServiceArea'\n",
       "\n",
       "\n"
      ],
      "text/plain": [
       "[1] \"BenefitsCostSharing\" \"BusinessRules\"       \"Crosswalk2015\"      \n",
       "[4] \"Crosswalk2016\"       \"Network\"             \"PlanAttributes\"     \n",
       "[7] \"Rate\"                \"ServiceArea\"        "
      ]
     },
     "execution_count": 8,
     "metadata": {},
     "output_type": "execute_result"
    }
   ],
   "source": [
    "dbListTables(db)"
   ]
  },
  {
   "cell_type": "markdown",
   "metadata": {},
   "source": [
    "What's in the tables?"
   ]
  },
  {
   "cell_type": "code",
   "execution_count": 13,
   "metadata": {
    "collapsed": false
   },
   "outputs": [
    {
     "data": {
      "text/html": [
       "<ol class=list-inline>\n",
       "\t<li>'BenefitName'</li>\n",
       "\t<li>'BusinessYear'</li>\n",
       "\t<li>'CoinsInnTier1'</li>\n",
       "\t<li>'CoinsInnTier2'</li>\n",
       "\t<li>'CoinsOutofNet'</li>\n",
       "\t<li>'CopayInnTier1'</li>\n",
       "\t<li>'CopayInnTier2'</li>\n",
       "\t<li>'CopayOutofNet'</li>\n",
       "\t<li>'EHBVarReason'</li>\n",
       "\t<li>'Exclusions'</li>\n",
       "\t<li>'Explanation'</li>\n",
       "\t<li>'ImportDate'</li>\n",
       "\t<li>'IsCovered'</li>\n",
       "\t<li>'IsEHB'</li>\n",
       "\t<li>'IsExclFromInnMOOP'</li>\n",
       "\t<li>'IsExclFromOonMOOP'</li>\n",
       "\t<li>'IsStateMandate'</li>\n",
       "\t<li>'IsSubjToDedTier1'</li>\n",
       "\t<li>'IsSubjToDedTier2'</li>\n",
       "\t<li>'IssuerId'</li>\n",
       "\t<li>'IssuerId2'</li>\n",
       "\t<li>'LimitQty'</li>\n",
       "\t<li>'LimitUnit'</li>\n",
       "\t<li>'MinimumStay'</li>\n",
       "\t<li>'PlanId'</li>\n",
       "\t<li>'QuantLimitOnSvc'</li>\n",
       "\t<li>'RowNumber'</li>\n",
       "\t<li>'SourceName'</li>\n",
       "\t<li>'StandardComponentId'</li>\n",
       "\t<li>'StateCode'</li>\n",
       "\t<li>'StateCode2'</li>\n",
       "\t<li>'VersionNum'</li>\n",
       "</ol>\n"
      ],
      "text/latex": [
       "\\begin{enumerate*}\n",
       "\\item 'BenefitName'\n",
       "\\item 'BusinessYear'\n",
       "\\item 'CoinsInnTier1'\n",
       "\\item 'CoinsInnTier2'\n",
       "\\item 'CoinsOutofNet'\n",
       "\\item 'CopayInnTier1'\n",
       "\\item 'CopayInnTier2'\n",
       "\\item 'CopayOutofNet'\n",
       "\\item 'EHBVarReason'\n",
       "\\item 'Exclusions'\n",
       "\\item 'Explanation'\n",
       "\\item 'ImportDate'\n",
       "\\item 'IsCovered'\n",
       "\\item 'IsEHB'\n",
       "\\item 'IsExclFromInnMOOP'\n",
       "\\item 'IsExclFromOonMOOP'\n",
       "\\item 'IsStateMandate'\n",
       "\\item 'IsSubjToDedTier1'\n",
       "\\item 'IsSubjToDedTier2'\n",
       "\\item 'IssuerId'\n",
       "\\item 'IssuerId2'\n",
       "\\item 'LimitQty'\n",
       "\\item 'LimitUnit'\n",
       "\\item 'MinimumStay'\n",
       "\\item 'PlanId'\n",
       "\\item 'QuantLimitOnSvc'\n",
       "\\item 'RowNumber'\n",
       "\\item 'SourceName'\n",
       "\\item 'StandardComponentId'\n",
       "\\item 'StateCode'\n",
       "\\item 'StateCode2'\n",
       "\\item 'VersionNum'\n",
       "\\end{enumerate*}\n"
      ],
      "text/markdown": [
       "1. 'BenefitName'\n",
       "2. 'BusinessYear'\n",
       "3. 'CoinsInnTier1'\n",
       "4. 'CoinsInnTier2'\n",
       "5. 'CoinsOutofNet'\n",
       "6. 'CopayInnTier1'\n",
       "7. 'CopayInnTier2'\n",
       "8. 'CopayOutofNet'\n",
       "9. 'EHBVarReason'\n",
       "10. 'Exclusions'\n",
       "11. 'Explanation'\n",
       "12. 'ImportDate'\n",
       "13. 'IsCovered'\n",
       "14. 'IsEHB'\n",
       "15. 'IsExclFromInnMOOP'\n",
       "16. 'IsExclFromOonMOOP'\n",
       "17. 'IsStateMandate'\n",
       "18. 'IsSubjToDedTier1'\n",
       "19. 'IsSubjToDedTier2'\n",
       "20. 'IssuerId'\n",
       "21. 'IssuerId2'\n",
       "22. 'LimitQty'\n",
       "23. 'LimitUnit'\n",
       "24. 'MinimumStay'\n",
       "25. 'PlanId'\n",
       "26. 'QuantLimitOnSvc'\n",
       "27. 'RowNumber'\n",
       "28. 'SourceName'\n",
       "29. 'StandardComponentId'\n",
       "30. 'StateCode'\n",
       "31. 'StateCode2'\n",
       "32. 'VersionNum'\n",
       "\n",
       "\n"
      ],
      "text/plain": [
       " [1] \"BenefitName\"         \"BusinessYear\"        \"CoinsInnTier1\"      \n",
       " [4] \"CoinsInnTier2\"       \"CoinsOutofNet\"       \"CopayInnTier1\"      \n",
       " [7] \"CopayInnTier2\"       \"CopayOutofNet\"       \"EHBVarReason\"       \n",
       "[10] \"Exclusions\"          \"Explanation\"         \"ImportDate\"         \n",
       "[13] \"IsCovered\"           \"IsEHB\"               \"IsExclFromInnMOOP\"  \n",
       "[16] \"IsExclFromOonMOOP\"   \"IsStateMandate\"      \"IsSubjToDedTier1\"   \n",
       "[19] \"IsSubjToDedTier2\"    \"IssuerId\"            \"IssuerId2\"          \n",
       "[22] \"LimitQty\"            \"LimitUnit\"           \"MinimumStay\"        \n",
       "[25] \"PlanId\"              \"QuantLimitOnSvc\"     \"RowNumber\"          \n",
       "[28] \"SourceName\"          \"StandardComponentId\" \"StateCode\"          \n",
       "[31] \"StateCode2\"          \"VersionNum\"         "
      ]
     },
     "execution_count": 13,
     "metadata": {},
     "output_type": "execute_result"
    }
   ],
   "source": [
    "dbListFields(db, \"BenefitsCostSharing\")"
   ]
  },
  {
   "cell_type": "markdown",
   "metadata": {},
   "source": [
    "To read in any of the tables, use dbReadTable(db,\"BenefitsCostSharing\")"
   ]
  },
  {
   "cell_type": "code",
   "execution_count": 17,
   "metadata": {
    "collapsed": false
   },
   "outputs": [
    {
     "data": {
      "text/html": [
       "'db'"
      ],
      "text/latex": [
       "'db'"
      ],
      "text/markdown": [
       "'db'"
      ],
      "text/plain": [
       "[1] \"db\""
      ]
     },
     "execution_count": 17,
     "metadata": {},
     "output_type": "execute_result"
    }
   ],
   "source": []
  },
  {
   "cell_type": "code",
   "execution_count": null,
   "metadata": {
    "collapsed": true
   },
   "outputs": [],
   "source": []
  }
 ],
 "metadata": {
  "kernelspec": {
   "display_name": "R",
   "language": "R",
   "name": "ir"
  },
  "language_info": {
   "codemirror_mode": "r",
   "file_extension": ".r",
   "mimetype": "text/x-r-source",
   "name": "R",
   "pygments_lexer": "r",
   "version": "3.2.2"
  }
 },
 "nbformat": 4,
 "nbformat_minor": 0
}
